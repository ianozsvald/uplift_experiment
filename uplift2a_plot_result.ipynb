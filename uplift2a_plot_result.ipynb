{
 "cells": [
  {
   "cell_type": "markdown",
   "id": "91f0cb2a",
   "metadata": {},
   "source": [
    "# Plot the model outputs"
   ]
  },
  {
   "cell_type": "code",
   "execution_count": 1,
   "id": "34f58126",
   "metadata": {},
   "outputs": [],
   "source": [
    "import pandas as pd\n",
    "from simpler_mpl import set_common_mpl_styles\n",
    "from matplotlib.ticker import FormatStrFormatter, StrMethodFormatter\n",
    "import matplotlib.pyplot as plt\n",
    "from simpler_pandas import apply_labelling, sanity_check, show_df_details\n",
    "from labelling import format_to_base_10"
   ]
  },
  {
   "cell_type": "code",
   "execution_count": 2,
   "id": "7c416d7a",
   "metadata": {},
   "outputs": [
    {
     "data": {
      "text/html": [
       "<div>\n",
       "<style scoped>\n",
       "    .dataframe tbody tr th:only-of-type {\n",
       "        vertical-align: middle;\n",
       "    }\n",
       "\n",
       "    .dataframe tbody tr th {\n",
       "        vertical-align: top;\n",
       "    }\n",
       "\n",
       "    .dataframe thead th {\n",
       "        text-align: right;\n",
       "    }\n",
       "</style>\n",
       "<table border=\"1\" class=\"dataframe\">\n",
       "  <thead>\n",
       "    <tr style=\"text-align: right;\">\n",
       "      <th></th>\n",
       "      <th>dummy_proba_pos</th>\n",
       "      <th>dummy_will_churn</th>\n",
       "      <th>churn_proba_pos</th>\n",
       "      <th>churn_will_churn</th>\n",
       "      <th>uplift_diff_t_c</th>\n",
       "      <th>uplift_will_churn</th>\n",
       "    </tr>\n",
       "  </thead>\n",
       "  <tbody>\n",
       "    <tr>\n",
       "      <th>0</th>\n",
       "      <td>0.16582</td>\n",
       "      <td>0</td>\n",
       "      <td>0.391900</td>\n",
       "      <td>0</td>\n",
       "      <td>-0.315099</td>\n",
       "      <td>0</td>\n",
       "    </tr>\n",
       "    <tr>\n",
       "      <th>1</th>\n",
       "      <td>0.16582</td>\n",
       "      <td>1</td>\n",
       "      <td>0.391900</td>\n",
       "      <td>0</td>\n",
       "      <td>-0.315099</td>\n",
       "      <td>0</td>\n",
       "    </tr>\n",
       "    <tr>\n",
       "      <th>2</th>\n",
       "      <td>0.16582</td>\n",
       "      <td>0</td>\n",
       "      <td>0.391900</td>\n",
       "      <td>0</td>\n",
       "      <td>-0.315099</td>\n",
       "      <td>0</td>\n",
       "    </tr>\n",
       "    <tr>\n",
       "      <th>3</th>\n",
       "      <td>0.16582</td>\n",
       "      <td>0</td>\n",
       "      <td>0.391900</td>\n",
       "      <td>0</td>\n",
       "      <td>-0.315099</td>\n",
       "      <td>0</td>\n",
       "    </tr>\n",
       "    <tr>\n",
       "      <th>4</th>\n",
       "      <td>0.16582</td>\n",
       "      <td>0</td>\n",
       "      <td>0.391900</td>\n",
       "      <td>0</td>\n",
       "      <td>-0.315099</td>\n",
       "      <td>0</td>\n",
       "    </tr>\n",
       "    <tr>\n",
       "      <th>...</th>\n",
       "      <td>...</td>\n",
       "      <td>...</td>\n",
       "      <td>...</td>\n",
       "      <td>...</td>\n",
       "      <td>...</td>\n",
       "      <td>...</td>\n",
       "    </tr>\n",
       "    <tr>\n",
       "      <th>49995</th>\n",
       "      <td>0.16582</td>\n",
       "      <td>1</td>\n",
       "      <td>0.025328</td>\n",
       "      <td>0</td>\n",
       "      <td>0.237179</td>\n",
       "      <td>0</td>\n",
       "    </tr>\n",
       "    <tr>\n",
       "      <th>49996</th>\n",
       "      <td>0.16582</td>\n",
       "      <td>0</td>\n",
       "      <td>0.025328</td>\n",
       "      <td>1</td>\n",
       "      <td>0.237179</td>\n",
       "      <td>1</td>\n",
       "    </tr>\n",
       "    <tr>\n",
       "      <th>49997</th>\n",
       "      <td>0.16582</td>\n",
       "      <td>1</td>\n",
       "      <td>0.025328</td>\n",
       "      <td>0</td>\n",
       "      <td>0.237179</td>\n",
       "      <td>1</td>\n",
       "    </tr>\n",
       "    <tr>\n",
       "      <th>49998</th>\n",
       "      <td>0.16582</td>\n",
       "      <td>0</td>\n",
       "      <td>0.025328</td>\n",
       "      <td>0</td>\n",
       "      <td>0.237179</td>\n",
       "      <td>1</td>\n",
       "    </tr>\n",
       "    <tr>\n",
       "      <th>49999</th>\n",
       "      <td>0.16582</td>\n",
       "      <td>0</td>\n",
       "      <td>0.025328</td>\n",
       "      <td>0</td>\n",
       "      <td>0.237179</td>\n",
       "      <td>0</td>\n",
       "    </tr>\n",
       "  </tbody>\n",
       "</table>\n",
       "<p>50000 rows × 6 columns</p>\n",
       "</div>"
      ],
      "text/plain": [
       "       dummy_proba_pos  dummy_will_churn  churn_proba_pos  churn_will_churn  \\\n",
       "0              0.16582                 0         0.391900                 0   \n",
       "1              0.16582                 1         0.391900                 0   \n",
       "2              0.16582                 0         0.391900                 0   \n",
       "3              0.16582                 0         0.391900                 0   \n",
       "4              0.16582                 0         0.391900                 0   \n",
       "...                ...               ...              ...               ...   \n",
       "49995          0.16582                 1         0.025328                 0   \n",
       "49996          0.16582                 0         0.025328                 1   \n",
       "49997          0.16582                 1         0.025328                 0   \n",
       "49998          0.16582                 0         0.025328                 0   \n",
       "49999          0.16582                 0         0.025328                 0   \n",
       "\n",
       "       uplift_diff_t_c  uplift_will_churn  \n",
       "0            -0.315099                  0  \n",
       "1            -0.315099                  0  \n",
       "2            -0.315099                  0  \n",
       "3            -0.315099                  0  \n",
       "4            -0.315099                  0  \n",
       "...                ...                ...  \n",
       "49995         0.237179                  0  \n",
       "49996         0.237179                  1  \n",
       "49997         0.237179                  1  \n",
       "49998         0.237179                  1  \n",
       "49999         0.237179                  0  \n",
       "\n",
       "[50000 rows x 6 columns]"
      ]
     },
     "execution_count": 2,
     "metadata": {},
     "output_type": "execute_result"
    }
   ],
   "source": [
    "MARKETING_COST_PER_INSURED = 20\n",
    "VALUE_PER_RETAINED_CONTRACT = 1000\n",
    "\n",
    "uplift_result_file = \"df_comparison_uplift.pickle\"\n",
    "df_comparison_uplift = pd.read_pickle(uplift_result_file)\n",
    "churn_result_file = \"df_comparison_churn.pickle\"\n",
    "df_comparison_churn = pd.read_pickle(churn_result_file)\n",
    "dummy_result_file = \"df_comparison_dummy.pickle\"\n",
    "df_comparison_dummy = pd.read_pickle(dummy_result_file)\n",
    "\n",
    "df_to_plot = pd.concat((df_comparison_dummy, df_comparison_churn, df_comparison_uplift), axis=1)\n",
    "\n",
    "def check_series_is_ordered(ser, ascending=True):\n",
    "    \"\"\"Check 1 series is ascending\"\"\"\n",
    "    assert ascending==True, \"Haven't done descending yet, nor tested this\"\n",
    "    return (ser.shift()[1:].reset_index(drop=True) >= ser[:-1].reset_index(drop=True)).all()\n",
    "\n",
    "assert check_series_is_ordered(df_to_plot['churn_proba_pos'])\n",
    "assert check_series_is_ordered(df_to_plot['dummy_proba_pos'])\n",
    "assert check_series_is_ordered(df_to_plot['uplift_diff_t_c'])\n",
    "\n",
    "df_to_plot"
   ]
  },
  {
   "cell_type": "code",
   "execution_count": 3,
   "id": "0e06f693",
   "metadata": {},
   "outputs": [
    {
     "name": "stdout",
     "output_type": "stream",
     "text": [
      "is view False, is consolidated False, single block False, numeric mixed True\n",
      "6 blocks looking like:\n",
      "(NumericBlock: slice(0, 1, 1), 1 x 50000, dtype: float64, NumericBlock: slice(1, 2, 1), 1 x 50000, dtype: int64, NumericBlock: slice(2, 3, 1), 1 x 50000, dtype: float64, NumericBlock: slice(3, 4, 1), 1 x 50000, dtype: int64, NumericBlock: slice(4, 5, 1), 1 x 50000, dtype: float64, NumericBlock: slice(5, 6, 1), 1 x 50000, dtype: int64)\n"
     ]
    }
   ],
   "source": [
    "sanity_check(df_to_plot)\n",
    "show_df_details(df_to_plot)"
   ]
  },
  {
   "cell_type": "code",
   "execution_count": 4,
   "id": "95b127a2",
   "metadata": {},
   "outputs": [
    {
     "data": {
      "text/html": [
       "<div>\n",
       "<style scoped>\n",
       "    .dataframe tbody tr th:only-of-type {\n",
       "        vertical-align: middle;\n",
       "    }\n",
       "\n",
       "    .dataframe tbody tr th {\n",
       "        vertical-align: top;\n",
       "    }\n",
       "\n",
       "    .dataframe thead th {\n",
       "        text-align: right;\n",
       "    }\n",
       "</style>\n",
       "<table border=\"1\" class=\"dataframe\">\n",
       "  <thead>\n",
       "    <tr style=\"text-align: right;\">\n",
       "      <th></th>\n",
       "      <th>uplift_value</th>\n",
       "      <th>uplift_value_cumsum</th>\n",
       "    </tr>\n",
       "  </thead>\n",
       "  <tbody>\n",
       "    <tr>\n",
       "      <th>0</th>\n",
       "      <td>980</td>\n",
       "      <td>980</td>\n",
       "    </tr>\n",
       "    <tr>\n",
       "      <th>1</th>\n",
       "      <td>980</td>\n",
       "      <td>1960</td>\n",
       "    </tr>\n",
       "    <tr>\n",
       "      <th>2</th>\n",
       "      <td>980</td>\n",
       "      <td>2940</td>\n",
       "    </tr>\n",
       "    <tr>\n",
       "      <th>3</th>\n",
       "      <td>980</td>\n",
       "      <td>3920</td>\n",
       "    </tr>\n",
       "    <tr>\n",
       "      <th>4</th>\n",
       "      <td>980</td>\n",
       "      <td>4900</td>\n",
       "    </tr>\n",
       "    <tr>\n",
       "      <th>...</th>\n",
       "      <td>...</td>\n",
       "      <td>...</td>\n",
       "    </tr>\n",
       "    <tr>\n",
       "      <th>49995</th>\n",
       "      <td>980</td>\n",
       "      <td>40598080</td>\n",
       "    </tr>\n",
       "    <tr>\n",
       "      <th>49996</th>\n",
       "      <td>-20</td>\n",
       "      <td>40598060</td>\n",
       "    </tr>\n",
       "    <tr>\n",
       "      <th>49997</th>\n",
       "      <td>-20</td>\n",
       "      <td>40598040</td>\n",
       "    </tr>\n",
       "    <tr>\n",
       "      <th>49998</th>\n",
       "      <td>-20</td>\n",
       "      <td>40598020</td>\n",
       "    </tr>\n",
       "    <tr>\n",
       "      <th>49999</th>\n",
       "      <td>980</td>\n",
       "      <td>40599000</td>\n",
       "    </tr>\n",
       "  </tbody>\n",
       "</table>\n",
       "<p>50000 rows × 2 columns</p>\n",
       "</div>"
      ],
      "text/plain": [
       "       uplift_value  uplift_value_cumsum\n",
       "0               980                  980\n",
       "1               980                 1960\n",
       "2               980                 2940\n",
       "3               980                 3920\n",
       "4               980                 4900\n",
       "...             ...                  ...\n",
       "49995           980             40598080\n",
       "49996           -20             40598060\n",
       "49997           -20             40598040\n",
       "49998           -20             40598020\n",
       "49999           980             40599000\n",
       "\n",
       "[50000 rows x 2 columns]"
      ]
     },
     "execution_count": 4,
     "metadata": {},
     "output_type": "execute_result"
    }
   ],
   "source": [
    "def calculate_value_generated(dfx, col_will_churn, model_name):\n",
    "    # assume we're sorted\n",
    "    #df_costing = dfx.sort_values(col, ascending=ascending).copy().reset_index(drop=True)\n",
    "    df_costing = dfx[[col_will_churn]].copy()\n",
    "    #df_costing['price_if_mktd'] = -1\n",
    "    #df_costing['price_if_mktd_cumsum'] = df_costing['price_if_mktd'].cumsum()\n",
    "    #df_costing['price_if_retained'] = 1000 * (df_costing[col_will_churn]==0)\n",
    "    value_column = f\"{model_name}_value\"\n",
    "    df_costing[value_column] = (VALUE_PER_RETAINED_CONTRACT * (df_costing[col_will_churn]==0)) - MARKETING_COST_PER_INSURED\n",
    "    value_column_cumsum = f\"{model_name}_value_cumsum\"\n",
    "    df_costing[value_column_cumsum] = df_costing[value_column].cumsum()\n",
    "    return df_costing[[value_column, value_column_cumsum]]\n",
    "\n",
    "df_costing_uplift = calculate_value_generated(df_to_plot, \"uplift_will_churn\", \"uplift\")\n",
    "#df_costing.iloc[10000]\n",
    "df_costing_uplift"
   ]
  },
  {
   "cell_type": "code",
   "execution_count": 5,
   "id": "9784151c",
   "metadata": {},
   "outputs": [],
   "source": [
    "df_costing_churn = calculate_value_generated(df_to_plot, \"churn_will_churn\", \"churn\")"
   ]
  },
  {
   "cell_type": "code",
   "execution_count": 6,
   "id": "20fc170e",
   "metadata": {},
   "outputs": [],
   "source": [
    "df_costing_dummy = calculate_value_generated(df_to_plot, \"dummy_will_churn\", \"dummy\")"
   ]
  },
  {
   "cell_type": "code",
   "execution_count": 16,
   "id": "5f49325a",
   "metadata": {},
   "outputs": [
    {
     "data": {
      "text/html": [
       "<div>\n",
       "<style scoped>\n",
       "    .dataframe tbody tr th:only-of-type {\n",
       "        vertical-align: middle;\n",
       "    }\n",
       "\n",
       "    .dataframe tbody tr th {\n",
       "        vertical-align: top;\n",
       "    }\n",
       "\n",
       "    .dataframe thead th {\n",
       "        text-align: right;\n",
       "    }\n",
       "</style>\n",
       "<table border=\"1\" class=\"dataframe\">\n",
       "  <thead>\n",
       "    <tr style=\"text-align: right;\">\n",
       "      <th></th>\n",
       "      <th>dummy_value</th>\n",
       "      <th>dummy_value_cumsum</th>\n",
       "      <th>churn_value</th>\n",
       "      <th>churn_value_cumsum</th>\n",
       "      <th>uplift_value</th>\n",
       "      <th>uplift_value_cumsum</th>\n",
       "    </tr>\n",
       "  </thead>\n",
       "  <tbody>\n",
       "    <tr>\n",
       "      <th>11021</th>\n",
       "      <td>-20</td>\n",
       "      <td>9006560</td>\n",
       "      <td>980</td>\n",
       "      <td>7373560</td>\n",
       "      <td>980</td>\n",
       "      <td>10200560</td>\n",
       "    </tr>\n",
       "    <tr>\n",
       "      <th>16825</th>\n",
       "      <td>980</td>\n",
       "      <td>13714480</td>\n",
       "      <td>980</td>\n",
       "      <td>12509480</td>\n",
       "      <td>-20</td>\n",
       "      <td>15269480</td>\n",
       "    </tr>\n",
       "    <tr>\n",
       "      <th>27303</th>\n",
       "      <td>-20</td>\n",
       "      <td>22189920</td>\n",
       "      <td>980</td>\n",
       "      <td>21152920</td>\n",
       "      <td>-20</td>\n",
       "      <td>24135920</td>\n",
       "    </tr>\n",
       "    <tr>\n",
       "      <th>38397</th>\n",
       "      <td>980</td>\n",
       "      <td>31187040</td>\n",
       "      <td>980</td>\n",
       "      <td>29759040</td>\n",
       "      <td>980</td>\n",
       "      <td>33067040</td>\n",
       "    </tr>\n",
       "    <tr>\n",
       "      <th>46847</th>\n",
       "      <td>980</td>\n",
       "      <td>38047040</td>\n",
       "      <td>980</td>\n",
       "      <td>37627040</td>\n",
       "      <td>-20</td>\n",
       "      <td>38654040</td>\n",
       "    </tr>\n",
       "  </tbody>\n",
       "</table>\n",
       "</div>"
      ],
      "text/plain": [
       "       dummy_value  dummy_value_cumsum  churn_value  churn_value_cumsum  \\\n",
       "11021          -20             9006560          980             7373560   \n",
       "16825          980            13714480          980            12509480   \n",
       "27303          -20            22189920          980            21152920   \n",
       "38397          980            31187040          980            29759040   \n",
       "46847          980            38047040          980            37627040   \n",
       "\n",
       "       uplift_value  uplift_value_cumsum  \n",
       "11021           980             10200560  \n",
       "16825           -20             15269480  \n",
       "27303           -20             24135920  \n",
       "38397           980             33067040  \n",
       "46847           -20             38654040  "
      ]
     },
     "execution_count": 16,
     "metadata": {},
     "output_type": "execute_result"
    }
   ],
   "source": [
    "df_to_plot = pd.concat((df_costing_dummy, df_costing_churn, df_costing_uplift), axis=1)\n",
    "df_to_plot.sample(5).sort_index()"
   ]
  },
  {
   "cell_type": "code",
   "execution_count": 10,
   "id": "de103d53",
   "metadata": {},
   "outputs": [
    {
     "name": "stdout",
     "output_type": "stream",
     "text": [
      "By insured 21,210 the Uplift model predicts subsequent rows will respond neutrally or negatively to this campaign\n",
      "By this point we've incurred a marketing cost of $424,200.\n"
     ]
    },
    {
     "data": {
      "text/plain": [
       "dummy_value                 -20\n",
       "dummy_value_cumsum     17227780\n",
       "churn_value                 980\n",
       "churn_value_cumsum     16115780\n",
       "uplift_value                980\n",
       "uplift_value_cumsum    19112780\n",
       "Name: 21210, dtype: int64"
      ]
     },
     "execution_count": 10,
     "metadata": {},
     "output_type": "execute_result"
    }
   ],
   "source": [
    "row_with_minimum_uplift_effect = (0 - df_comparison_uplift['uplift_diff_t_c'].abs()).idxmax()\n",
    "row_with_minimum_uplift_effect\n",
    "print(f\"By insured {row_with_minimum_uplift_effect:,} the Uplift model predicts subsequent rows will respond neutrally or negatively to this campaign\")\n",
    "print(f\"By this point we've incurred a marketing cost of ${MARKETING_COST_PER_INSURED * row_with_minimum_uplift_effect:,}.\")\n",
    "df_to_plot.loc[row_with_minimum_uplift_effect]"
   ]
  },
  {
   "cell_type": "code",
   "execution_count": 11,
   "id": "e288e7a7",
   "metadata": {},
   "outputs": [],
   "source": [
    "df_to_plot['dummy_value_cumsum'] = df_to_plot['dummy_value_cumsum'] / 1_000_000\n",
    "df_to_plot['churn_value_cumsum'] = df_to_plot['churn_value_cumsum'] / 1_000_000\n",
    "df_to_plot['uplift_value_cumsum'] = df_to_plot['uplift_value_cumsum'] / 1_000_000"
   ]
  },
  {
   "cell_type": "code",
   "execution_count": 12,
   "id": "bc0e85d1",
   "metadata": {},
   "outputs": [
    {
     "data": {
      "image/png": "[encoded data removed]",
      "text/plain": [
       "<Figure size 576x576 with 1 Axes>"
      ]
     },
     "metadata": {
      "needs_background": "light"
     },
     "output_type": "display_data"
    }
   ],
   "source": [
    "fig, ax = plt.subplots(constrained_layout=True, figsize=(8, 8))\n",
    "df_to_plot[:50_000].plot(y=['uplift_value_cumsum', 'dummy_value_cumsum', 'churn_value_cumsum'], ax=ax);\n",
    "title = \"Cumulative value retained after costs using both models\"\n",
    "set_common_mpl_styles(ax, grid_axis=\"both\", xlabel=\"Insureds ranked by best to target\", \n",
    "                      ylabel=\"Cumulative value after costs (millions)\", title=title)\n",
    "ax.xaxis.set_major_formatter(StrMethodFormatter('{x:,}'))\n",
    "ax.yaxis.set_major_formatter(StrMethodFormatter('${x:}M'))"
   ]
  },
  {
   "cell_type": "code",
   "execution_count": 13,
   "id": "667d2e4f",
   "metadata": {},
   "outputs": [
    {
     "data": {
      "text/plain": [
       "[[0.0, 9999.8), [0.0, 9999.8), [0.0, 9999.8), [0.0, 9999.8), [0.0, 9999.8), ..., [39999.2, 50048.999), [39999.2, 50048.999), [39999.2, 50048.999), [39999.2, 50048.999), [39999.2, 50048.999)]\n",
       "Length: 50000\n",
       "Categories (5, interval[float64, left]): [[0.0, 9999.8) < [9999.8, 19999.6) < [19999.6, 29999.4) < [29999.4, 39999.2) < [39999.2, 50048.999)]"
      ]
     },
     "execution_count": 13,
     "metadata": {},
     "output_type": "execute_result"
    }
   ],
   "source": [
    "quantile = pd.cut(df_to_plot.index, 5, right=False)\n",
    "quantile"
   ]
  },
  {
   "cell_type": "code",
   "execution_count": 14,
   "id": "8ea5eed1",
   "metadata": {},
   "outputs": [
    {
     "data": {
      "text/html": [
       "<div>\n",
       "<style scoped>\n",
       "    .dataframe tbody tr th:only-of-type {\n",
       "        vertical-align: middle;\n",
       "    }\n",
       "\n",
       "    .dataframe tbody tr th {\n",
       "        vertical-align: top;\n",
       "    }\n",
       "\n",
       "    .dataframe thead th {\n",
       "        text-align: right;\n",
       "    }\n",
       "</style>\n",
       "<table border=\"1\" class=\"dataframe\">\n",
       "  <thead>\n",
       "    <tr style=\"text-align: right;\">\n",
       "      <th></th>\n",
       "      <th>uplift_value</th>\n",
       "      <th>dummy_value</th>\n",
       "      <th>churn_value</th>\n",
       "    </tr>\n",
       "  </thead>\n",
       "  <tbody>\n",
       "    <tr>\n",
       "      <th>[0.00 - 10.00k)</th>\n",
       "      <td>929.1</td>\n",
       "      <td>818.2</td>\n",
       "      <td>641.3</td>\n",
       "    </tr>\n",
       "    <tr>\n",
       "      <th>[10.00k - 20.00k)</th>\n",
       "      <td>884.0</td>\n",
       "      <td>807.7</td>\n",
       "      <td>869.9</td>\n",
       "    </tr>\n",
       "    <tr>\n",
       "      <th>[20.00k - 30.00k)</th>\n",
       "      <td>823.2</td>\n",
       "      <td>813.4</td>\n",
       "      <td>825.5</td>\n",
       "    </tr>\n",
       "    <tr>\n",
       "      <th>[30.00k - 40.00k)</th>\n",
       "      <td>769.2</td>\n",
       "      <td>811.3</td>\n",
       "      <td>770.0</td>\n",
       "    </tr>\n",
       "    <tr>\n",
       "      <th>[40.00k - 50.05k)</th>\n",
       "      <td>654.4</td>\n",
       "      <td>809.3</td>\n",
       "      <td>953.2</td>\n",
       "    </tr>\n",
       "  </tbody>\n",
       "</table>\n",
       "</div>"
      ],
      "text/plain": [
       "                   uplift_value  dummy_value  churn_value\n",
       "[0.00 - 10.00k)           929.1        818.2        641.3\n",
       "[10.00k - 20.00k)         884.0        807.7        869.9\n",
       "[20.00k - 30.00k)         823.2        813.4        825.5\n",
       "[30.00k - 40.00k)         769.2        811.3        770.0\n",
       "[40.00k - 50.05k)         654.4        809.3        953.2"
      ]
     },
     "execution_count": 14,
     "metadata": {},
     "output_type": "execute_result"
    }
   ],
   "source": [
    "mean_result_by_quantile = df_to_plot.groupby(quantile)[['uplift_value', 'dummy_value', 'churn_value']].mean()\n",
    "mean_result_by_quantile.index = apply_labelling(mean_result_by_quantile.index, format_to_base_10)\n",
    "mean_result_by_quantile"
   ]
  },
  {
   "cell_type": "code",
   "execution_count": 15,
   "id": "5e377fd8",
   "metadata": {},
   "outputs": [
    {
     "data": {
      "image/png": "[encoded data removed]",
      "text/plain": [
       "<Figure size 576x576 with 1 Axes>"
      ]
     },
     "metadata": {
      "needs_background": "light"
     },
     "output_type": "display_data"
    }
   ],
   "source": [
    "fig, ax = plt.subplots(figsize=(8, 8), constrained_layout=True)\n",
    "mean_result_by_quantile.plot(kind='bar', ax=ax)\n",
    "title = \"Mean ROI treating insureds in predicted priority order by quantile\"\n",
    "set_common_mpl_styles(ax, grid_axis=\"y\", xlabel=\"Insureds by quantile (best-to-treat first on the left)\", title=title, ylabel=\"Mean return $ per quantile (bigger is better)\")\n",
    "ax.yaxis.set_major_formatter(StrMethodFormatter('${x:,}'))"
   ]
  },
  {
   "cell_type": "code",
   "execution_count": null,
   "id": "81f274b8",
   "metadata": {},
   "outputs": [],
   "source": []
  },
  {
   "cell_type": "code",
   "execution_count": null,
   "id": "62b47a76",
   "metadata": {},
   "outputs": [],
   "source": []
  },
  {
   "cell_type": "code",
   "execution_count": null,
   "id": "7b1f71aa",
   "metadata": {},
   "outputs": [],
   "source": []
  }
 ],
 "metadata": {
  "kernelspec": {
   "display_name": "Python 3 (ipykernel)",
   "language": "python",
   "name": "python3"
  },
  "language_info": {
   "codemirror_mode": {
    "name": "ipython",
    "version": 3
   },
   "file_extension": ".py",
   "mimetype": "text/x-python",
   "name": "python",
   "nbconvert_exporter": "python",
   "pygments_lexer": "ipython3",
   "version": "3.10.2"
  }
 },
 "nbformat": 4,
 "nbformat_minor": 5
}
