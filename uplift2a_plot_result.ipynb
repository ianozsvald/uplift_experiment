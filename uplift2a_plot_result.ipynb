{
 "cells": [
  {
   "cell_type": "markdown",
   "id": "4d652c35",
   "metadata": {},
   "source": [
    "# Plot the model outputs"
   ]
  },
  {
   "cell_type": "code",
   "execution_count": 4,
   "id": "fe2fcb35",
   "metadata": {},
   "outputs": [],
   "source": [
    "import pandas as pd\n",
    "from simpler_mpl import set_common_mpl_styles\n",
    "from matplotlib.ticker import FormatStrFormatter, StrMethodFormatter\n",
    "import matplotlib.pyplot as plt"
   ]
  },
  {
   "cell_type": "code",
   "execution_count": 14,
   "id": "b432ff1f",
   "metadata": {},
   "outputs": [
    {
     "data": {
      "text/html": [
       "<div>\n",
       "<style scoped>\n",
       "    .dataframe tbody tr th:only-of-type {\n",
       "        vertical-align: middle;\n",
       "    }\n",
       "\n",
       "    .dataframe tbody tr th {\n",
       "        vertical-align: top;\n",
       "    }\n",
       "\n",
       "    .dataframe thead th {\n",
       "        text-align: right;\n",
       "    }\n",
       "</style>\n",
       "<table border=\"1\" class=\"dataframe\">\n",
       "  <thead>\n",
       "    <tr style=\"text-align: right;\">\n",
       "      <th></th>\n",
       "      <th>churn_proba_pos</th>\n",
       "      <th>cumsum_value_churn</th>\n",
       "    </tr>\n",
       "  </thead>\n",
       "  <tbody>\n",
       "    <tr>\n",
       "      <th>0</th>\n",
       "      <td>0.386489</td>\n",
       "      <td>0</td>\n",
       "    </tr>\n",
       "    <tr>\n",
       "      <th>1</th>\n",
       "      <td>0.386489</td>\n",
       "      <td>100</td>\n",
       "    </tr>\n",
       "    <tr>\n",
       "      <th>2</th>\n",
       "      <td>0.386489</td>\n",
       "      <td>100</td>\n",
       "    </tr>\n",
       "    <tr>\n",
       "      <th>3</th>\n",
       "      <td>0.389345</td>\n",
       "      <td>100</td>\n",
       "    </tr>\n",
       "    <tr>\n",
       "      <th>4</th>\n",
       "      <td>0.386489</td>\n",
       "      <td>200</td>\n",
       "    </tr>\n",
       "    <tr>\n",
       "      <th>...</th>\n",
       "      <td>...</td>\n",
       "      <td>...</td>\n",
       "    </tr>\n",
       "    <tr>\n",
       "      <th>49995</th>\n",
       "      <td>0.025626</td>\n",
       "      <td>4159600</td>\n",
       "    </tr>\n",
       "    <tr>\n",
       "      <th>49996</th>\n",
       "      <td>0.146960</td>\n",
       "      <td>4159700</td>\n",
       "    </tr>\n",
       "    <tr>\n",
       "      <th>49997</th>\n",
       "      <td>0.146960</td>\n",
       "      <td>4159700</td>\n",
       "    </tr>\n",
       "    <tr>\n",
       "      <th>49998</th>\n",
       "      <td>0.145459</td>\n",
       "      <td>4159800</td>\n",
       "    </tr>\n",
       "    <tr>\n",
       "      <th>49999</th>\n",
       "      <td>0.146960</td>\n",
       "      <td>4159900</td>\n",
       "    </tr>\n",
       "  </tbody>\n",
       "</table>\n",
       "<p>50000 rows × 2 columns</p>\n",
       "</div>"
      ],
      "text/plain": [
       "       churn_proba_pos  cumsum_value_churn\n",
       "0             0.386489                   0\n",
       "1             0.386489                 100\n",
       "2             0.386489                 100\n",
       "3             0.389345                 100\n",
       "4             0.386489                 200\n",
       "...                ...                 ...\n",
       "49995         0.025626             4159600\n",
       "49996         0.146960             4159700\n",
       "49997         0.146960             4159700\n",
       "49998         0.145459             4159800\n",
       "49999         0.146960             4159900\n",
       "\n",
       "[50000 rows x 2 columns]"
      ]
     },
     "execution_count": 14,
     "metadata": {},
     "output_type": "execute_result"
    }
   ],
   "source": [
    "df_comparison_dummy"
   ]
  },
  {
   "cell_type": "code",
   "execution_count": 15,
   "id": "b190a680",
   "metadata": {},
   "outputs": [
    {
     "data": {
      "text/plain": [
       "cumsum_value_dummy     8100.0\n",
       "cumsum_value_churn     5300.0\n",
       "cumsum_value_uplift    9500.0\n",
       "Name: 100, dtype: float64"
      ]
     },
     "execution_count": 15,
     "metadata": {},
     "output_type": "execute_result"
    }
   ],
   "source": [
    "uplift_result_file = \"df_comparison_uplift.pickle\"\n",
    "df_comparison_uplift = pd.read_pickle(uplift_result_file)\n",
    "churn_result_file = \"df_comparison_churn.pickle\"\n",
    "df_comparison_churn = pd.read_pickle(churn_result_file)\n",
    "dummy_result_file = \"df_comparison_dummy.pickle\"\n",
    "df_comparison_dummy = pd.read_pickle(dummy_result_file)\n",
    "\n",
    "df_to_plot = pd.concat((df_comparison_dummy, df_comparison_churn, df_comparison_uplift), axis=1)\n",
    "df_to_plot.iloc[100][['cumsum_value_dummy', 'cumsum_value_churn', 'cumsum_value_uplift']]"
   ]
  },
  {
   "cell_type": "code",
   "execution_count": 16,
   "id": "445a0881",
   "metadata": {},
   "outputs": [
    {
     "data": {
      "text/plain": [
       "(50000, 6)"
      ]
     },
     "execution_count": 16,
     "metadata": {},
     "output_type": "execute_result"
    }
   ],
   "source": [
    "df_to_plot.shape"
   ]
  },
  {
   "cell_type": "code",
   "execution_count": 17,
   "id": "7dfe7e0f",
   "metadata": {},
   "outputs": [
    {
     "data": {
      "text/html": [
       "<div>\n",
       "<style scoped>\n",
       "    .dataframe tbody tr th:only-of-type {\n",
       "        vertical-align: middle;\n",
       "    }\n",
       "\n",
       "    .dataframe tbody tr th {\n",
       "        vertical-align: top;\n",
       "    }\n",
       "\n",
       "    .dataframe thead th {\n",
       "        text-align: right;\n",
       "    }\n",
       "</style>\n",
       "<table border=\"1\" class=\"dataframe\">\n",
       "  <thead>\n",
       "    <tr style=\"text-align: right;\">\n",
       "      <th></th>\n",
       "      <th>dummy_proba_pos</th>\n",
       "      <th>cumsum_value_dummy</th>\n",
       "      <th>churn_proba_pos</th>\n",
       "      <th>cumsum_value_churn</th>\n",
       "      <th>uplift_diff_t_c</th>\n",
       "      <th>cumsum_value_uplift</th>\n",
       "    </tr>\n",
       "  </thead>\n",
       "  <tbody>\n",
       "    <tr>\n",
       "      <th>503</th>\n",
       "      <td>0.16582</td>\n",
       "      <td>43300</td>\n",
       "      <td>0.386489</td>\n",
       "      <td>29800</td>\n",
       "      <td>-0.315099</td>\n",
       "      <td>47400</td>\n",
       "    </tr>\n",
       "    <tr>\n",
       "      <th>1823</th>\n",
       "      <td>0.16582</td>\n",
       "      <td>155500</td>\n",
       "      <td>0.389345</td>\n",
       "      <td>113500</td>\n",
       "      <td>-0.253080</td>\n",
       "      <td>157200</td>\n",
       "    </tr>\n",
       "    <tr>\n",
       "      <th>7792</th>\n",
       "      <td>0.16582</td>\n",
       "      <td>653800</td>\n",
       "      <td>0.389345</td>\n",
       "      <td>500300</td>\n",
       "      <td>-0.132996</td>\n",
       "      <td>728400</td>\n",
       "    </tr>\n",
       "    <tr>\n",
       "      <th>43927</th>\n",
       "      <td>0.16582</td>\n",
       "      <td>3655800</td>\n",
       "      <td>0.145459</td>\n",
       "      <td>3632500</td>\n",
       "      <td>0.087855</td>\n",
       "      <td>3743000</td>\n",
       "    </tr>\n",
       "    <tr>\n",
       "      <th>44652</th>\n",
       "      <td>0.16582</td>\n",
       "      <td>3715800</td>\n",
       "      <td>0.146960</td>\n",
       "      <td>3693600</td>\n",
       "      <td>0.087855</td>\n",
       "      <td>3797000</td>\n",
       "    </tr>\n",
       "  </tbody>\n",
       "</table>\n",
       "</div>"
      ],
      "text/plain": [
       "       dummy_proba_pos  cumsum_value_dummy  churn_proba_pos  \\\n",
       "503            0.16582               43300         0.386489   \n",
       "1823           0.16582              155500         0.389345   \n",
       "7792           0.16582              653800         0.389345   \n",
       "43927          0.16582             3655800         0.145459   \n",
       "44652          0.16582             3715800         0.146960   \n",
       "\n",
       "       cumsum_value_churn  uplift_diff_t_c  cumsum_value_uplift  \n",
       "503                 29800        -0.315099                47400  \n",
       "1823               113500        -0.253080               157200  \n",
       "7792               500300        -0.132996               728400  \n",
       "43927             3632500         0.087855              3743000  \n",
       "44652             3693600         0.087855              3797000  "
      ]
     },
     "execution_count": 17,
     "metadata": {},
     "output_type": "execute_result"
    }
   ],
   "source": [
    "df_to_plot.sample(5).sort_index()"
   ]
  },
  {
   "cell_type": "code",
   "execution_count": 18,
   "id": "5f40c2d3",
   "metadata": {},
   "outputs": [],
   "source": [
    "df_to_plot['cumsum_value_dummy'] = df_to_plot['cumsum_value_dummy'] / 1_000_000\n",
    "df_to_plot['cumsum_value_churn'] = df_to_plot['cumsum_value_churn'] / 1_000_000\n",
    "df_to_plot['cumsum_value_uplift'] = df_to_plot['cumsum_value_uplift'] / 1_000_000"
   ]
  },
  {
   "cell_type": "code",
   "execution_count": 33,
   "id": "5f659196",
   "metadata": {},
   "outputs": [
    {
     "data": {
      "image/png": "[encoded data removed]",
      "text/plain": [
       "<Figure size 576x576 with 1 Axes>"
      ]
     },
     "metadata": {
      "needs_background": "light"
     },
     "output_type": "display_data"
    }
   ],
   "source": [
    "fig, ax = plt.subplots(constrained_layout=True, figsize=(8, 8))\n",
    "df_to_plot[:50_000].plot(y=['cumsum_value_uplift', 'cumsum_value_dummy', 'cumsum_value_churn'], ax=ax);\n",
    "title = \"Cumulative value retained after costs using both models\"\n",
    "set_common_mpl_styles(ax, grid_axis=\"both\", xlabel=\"Insureds ranked by best to target\", \n",
    "                      ylabel=\"Cumulative value after costs (millions)\", title=title)\n",
    "ax.xaxis.set_major_formatter(StrMethodFormatter('{x:,}'))\n",
    "ax.yaxis.set_major_formatter(StrMethodFormatter('${x:}M'))\n",
    "#plt.draw()\n",
    "#set_commas(ax, x_axis=True, y_axis=True)"
   ]
  },
  {
   "cell_type": "code",
   "execution_count": 20,
   "id": "0fd10ae1",
   "metadata": {},
   "outputs": [
    {
     "data": {
      "text/html": [
       "<div>\n",
       "<style scoped>\n",
       "    .dataframe tbody tr th:only-of-type {\n",
       "        vertical-align: middle;\n",
       "    }\n",
       "\n",
       "    .dataframe tbody tr th {\n",
       "        vertical-align: top;\n",
       "    }\n",
       "\n",
       "    .dataframe thead th {\n",
       "        text-align: right;\n",
       "    }\n",
       "</style>\n",
       "<table border=\"1\" class=\"dataframe\">\n",
       "  <thead>\n",
       "    <tr style=\"text-align: right;\">\n",
       "      <th></th>\n",
       "      <th>dummy_proba_pos</th>\n",
       "      <th>cumsum_value_dummy</th>\n",
       "      <th>churn_proba_pos</th>\n",
       "      <th>cumsum_value_churn</th>\n",
       "      <th>uplift_diff_t_c</th>\n",
       "      <th>cumsum_value_uplift</th>\n",
       "    </tr>\n",
       "  </thead>\n",
       "  <tbody>\n",
       "    <tr>\n",
       "      <th>0</th>\n",
       "      <td>0.16582</td>\n",
       "      <td>0.0001</td>\n",
       "      <td>0.386489</td>\n",
       "      <td>0.0000</td>\n",
       "      <td>-0.315099</td>\n",
       "      <td>0.0001</td>\n",
       "    </tr>\n",
       "    <tr>\n",
       "      <th>1</th>\n",
       "      <td>0.16582</td>\n",
       "      <td>0.0002</td>\n",
       "      <td>0.386489</td>\n",
       "      <td>0.0001</td>\n",
       "      <td>-0.315099</td>\n",
       "      <td>0.0002</td>\n",
       "    </tr>\n",
       "    <tr>\n",
       "      <th>2</th>\n",
       "      <td>0.16582</td>\n",
       "      <td>0.0003</td>\n",
       "      <td>0.386489</td>\n",
       "      <td>0.0001</td>\n",
       "      <td>-0.315099</td>\n",
       "      <td>0.0003</td>\n",
       "    </tr>\n",
       "    <tr>\n",
       "      <th>3</th>\n",
       "      <td>0.16582</td>\n",
       "      <td>0.0004</td>\n",
       "      <td>0.389345</td>\n",
       "      <td>0.0001</td>\n",
       "      <td>-0.315099</td>\n",
       "      <td>0.0004</td>\n",
       "    </tr>\n",
       "    <tr>\n",
       "      <th>4</th>\n",
       "      <td>0.16582</td>\n",
       "      <td>0.0005</td>\n",
       "      <td>0.386489</td>\n",
       "      <td>0.0002</td>\n",
       "      <td>-0.315099</td>\n",
       "      <td>0.0005</td>\n",
       "    </tr>\n",
       "    <tr>\n",
       "      <th>...</th>\n",
       "      <td>...</td>\n",
       "      <td>...</td>\n",
       "      <td>...</td>\n",
       "      <td>...</td>\n",
       "      <td>...</td>\n",
       "      <td>...</td>\n",
       "    </tr>\n",
       "    <tr>\n",
       "      <th>49995</th>\n",
       "      <td>0.16582</td>\n",
       "      <td>4.1597</td>\n",
       "      <td>0.025626</td>\n",
       "      <td>4.1596</td>\n",
       "      <td>0.237179</td>\n",
       "      <td>4.1598</td>\n",
       "    </tr>\n",
       "    <tr>\n",
       "      <th>49996</th>\n",
       "      <td>0.16582</td>\n",
       "      <td>4.1597</td>\n",
       "      <td>0.146960</td>\n",
       "      <td>4.1597</td>\n",
       "      <td>0.237179</td>\n",
       "      <td>4.1598</td>\n",
       "    </tr>\n",
       "    <tr>\n",
       "      <th>49997</th>\n",
       "      <td>0.16582</td>\n",
       "      <td>4.1598</td>\n",
       "      <td>0.146960</td>\n",
       "      <td>4.1597</td>\n",
       "      <td>0.237179</td>\n",
       "      <td>4.1598</td>\n",
       "    </tr>\n",
       "    <tr>\n",
       "      <th>49998</th>\n",
       "      <td>0.16582</td>\n",
       "      <td>4.1598</td>\n",
       "      <td>0.145459</td>\n",
       "      <td>4.1598</td>\n",
       "      <td>0.237179</td>\n",
       "      <td>4.1598</td>\n",
       "    </tr>\n",
       "    <tr>\n",
       "      <th>49999</th>\n",
       "      <td>0.16582</td>\n",
       "      <td>4.1599</td>\n",
       "      <td>0.146960</td>\n",
       "      <td>4.1599</td>\n",
       "      <td>0.237179</td>\n",
       "      <td>4.1599</td>\n",
       "    </tr>\n",
       "  </tbody>\n",
       "</table>\n",
       "<p>50000 rows × 6 columns</p>\n",
       "</div>"
      ],
      "text/plain": [
       "       dummy_proba_pos  cumsum_value_dummy  churn_proba_pos  \\\n",
       "0              0.16582              0.0001         0.386489   \n",
       "1              0.16582              0.0002         0.386489   \n",
       "2              0.16582              0.0003         0.386489   \n",
       "3              0.16582              0.0004         0.389345   \n",
       "4              0.16582              0.0005         0.386489   \n",
       "...                ...                 ...              ...   \n",
       "49995          0.16582              4.1597         0.025626   \n",
       "49996          0.16582              4.1597         0.146960   \n",
       "49997          0.16582              4.1598         0.146960   \n",
       "49998          0.16582              4.1598         0.145459   \n",
       "49999          0.16582              4.1599         0.146960   \n",
       "\n",
       "       cumsum_value_churn  uplift_diff_t_c  cumsum_value_uplift  \n",
       "0                  0.0000        -0.315099               0.0001  \n",
       "1                  0.0001        -0.315099               0.0002  \n",
       "2                  0.0001        -0.315099               0.0003  \n",
       "3                  0.0001        -0.315099               0.0004  \n",
       "4                  0.0002        -0.315099               0.0005  \n",
       "...                   ...              ...                  ...  \n",
       "49995              4.1596         0.237179               4.1598  \n",
       "49996              4.1597         0.237179               4.1598  \n",
       "49997              4.1597         0.237179               4.1598  \n",
       "49998              4.1598         0.237179               4.1598  \n",
       "49999              4.1599         0.237179               4.1599  \n",
       "\n",
       "[50000 rows x 6 columns]"
      ]
     },
     "execution_count": 20,
     "metadata": {},
     "output_type": "execute_result"
    }
   ],
   "source": [
    "df_to_plot"
   ]
  },
  {
   "cell_type": "code",
   "execution_count": 32,
   "id": "97d213f8",
   "metadata": {},
   "outputs": [
    {
     "name": "stdout",
     "output_type": "stream",
     "text": [
      "At row 21210 we have the smallest uplift effect so after this point we have a decreasing impact\n"
     ]
    },
    {
     "data": {
      "text/plain": [
       "dummy_proba_pos        0.165820\n",
       "cumsum_value_dummy     1.765200\n",
       "churn_proba_pos        0.146960\n",
       "cumsum_value_churn     1.668700\n",
       "uplift_diff_t_c       -0.023316\n",
       "cumsum_value_uplift    1.953700\n",
       "Name: 21210, dtype: float64"
      ]
     },
     "execution_count": 32,
     "metadata": {},
     "output_type": "execute_result"
    }
   ],
   "source": [
    "row_with_minimum_uplift_effect = (0 - df_to_plot['uplift_diff_t_c'].abs()).idxmax()\n",
    "print(f\"At row {row_with_minimum_uplift_effect} we have the smallest uplift effect\"\n",
    "     \" so after this point we have a decreasing impact\")\n",
    "df_to_plot.iloc[row_with_minimum_uplift_effect]"
   ]
  },
  {
   "cell_type": "code",
   "execution_count": null,
   "id": "3f871d52",
   "metadata": {},
   "outputs": [],
   "source": []
  }
 ],
 "metadata": {
  "kernelspec": {
   "display_name": "Python 3 (ipykernel)",
   "language": "python",
   "name": "python3"
  },
  "language_info": {
   "codemirror_mode": {
    "name": "ipython",
    "version": 3
   },
   "file_extension": ".py",
   "mimetype": "text/x-python",
   "name": "python",
   "nbconvert_exporter": "python",
   "pygments_lexer": "ipython3",
   "version": "3.10.2"
  }
 },
 "nbformat": 4,
 "nbformat_minor": 5
}
