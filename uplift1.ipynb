{
 "cells": [
  {
   "cell_type": "code",
   "execution_count": 1,
   "id": "c71ebfb3",
   "metadata": {},
   "outputs": [],
   "source": [
    "import numpy as np\n",
    "import pandas as pd\n",
    "import pandera as pa\n",
    "from sklearn.dummy import DummyClassifier\n",
    "from sklearn.linear_model import LogisticRegression\n",
    "from sklearn.metrics import log_loss\n",
    "from sklearn.model_selection import train_test_split\n",
    "import matplotlib.pyplot as plt\n",
    "\n",
    "rng = np.random.default_rng(seed=0)"
   ]
  },
  {
   "cell_type": "code",
   "execution_count": 2,
   "id": "0a982418",
   "metadata": {},
   "outputs": [],
   "source": [
    "SIZE = 100_000\n",
    "# rng.binomial(nbr events e.g. 1 means 0 or 1, p is probability of True, size is nbr of items to generate)\n",
    "\n",
    "# a bad_exp means they had a problem (e.g. bad insurance claim, hard time with mobile phone tech support),\n",
    "# this increases their likelihood of churn\n",
    "# mkt_neg means they really don't like getting marketing and this will increase their likelihood of churn\n",
    "# gets_mkting is a 50/50 split for Treatment (True) or Control (False)\n",
    "\n",
    "BASE_CHURN = 0.15 \n",
    "\n",
    "ppl = pd.DataFrame(\n",
    "    {\n",
    "        # \"bad_exp\": rng.binomial(\n",
    "        #    1, 0.1, SIZE\n",
    "        # ),  # True if they had a bad experience with company\n",
    "        \"mkt_neg\": rng.binomial(\n",
    "            1, 0.1, SIZE\n",
    "        ),  # True if receiving marketing will increase churn probability for them\n",
    "    }\n",
    ")\n",
    "ppl[\"gets_mkting\"] = rng.binomial(1, 0.5, SIZE)\n",
    "\n",
    "ppl[\"prob_churn\"] = BASE_CHURN  # a reasonably standard churn rate"
   ]
  },
  {
   "cell_type": "code",
   "execution_count": 3,
   "id": "1e79350d",
   "metadata": {},
   "outputs": [
    {
     "data": {
      "text/html": [
       "<div>\n",
       "<style scoped>\n",
       "    .dataframe tbody tr th:only-of-type {\n",
       "        vertical-align: middle;\n",
       "    }\n",
       "\n",
       "    .dataframe tbody tr th {\n",
       "        vertical-align: top;\n",
       "    }\n",
       "\n",
       "    .dataframe thead th {\n",
       "        text-align: right;\n",
       "    }\n",
       "</style>\n",
       "<table border=\"1\" class=\"dataframe\">\n",
       "  <thead>\n",
       "    <tr style=\"text-align: right;\">\n",
       "      <th></th>\n",
       "      <th>mkt_neg</th>\n",
       "      <th>gets_mkting</th>\n",
       "      <th>prob_churn</th>\n",
       "    </tr>\n",
       "  </thead>\n",
       "  <tbody>\n",
       "    <tr>\n",
       "      <th>68471</th>\n",
       "      <td>1</td>\n",
       "      <td>1</td>\n",
       "      <td>0.4</td>\n",
       "    </tr>\n",
       "    <tr>\n",
       "      <th>3933</th>\n",
       "      <td>1</td>\n",
       "      <td>1</td>\n",
       "      <td>0.4</td>\n",
       "    </tr>\n",
       "    <tr>\n",
       "      <th>64629</th>\n",
       "      <td>1</td>\n",
       "      <td>1</td>\n",
       "      <td>0.4</td>\n",
       "    </tr>\n",
       "    <tr>\n",
       "      <th>86380</th>\n",
       "      <td>1</td>\n",
       "      <td>1</td>\n",
       "      <td>0.4</td>\n",
       "    </tr>\n",
       "    <tr>\n",
       "      <th>90384</th>\n",
       "      <td>1</td>\n",
       "      <td>1</td>\n",
       "      <td>0.4</td>\n",
       "    </tr>\n",
       "  </tbody>\n",
       "</table>\n",
       "</div>"
      ],
      "text/plain": [
       "       mkt_neg  gets_mkting  prob_churn\n",
       "68471        1            1         0.4\n",
       "3933         1            1         0.4\n",
       "64629        1            1         0.4\n",
       "86380        1            1         0.4\n",
       "90384        1            1         0.4"
      ]
     },
     "execution_count": 3,
     "metadata": {},
     "output_type": "execute_result"
    }
   ],
   "source": [
    "# people who hate marketing and who get marketing have a higher chance of churning\n",
    "mask = (ppl[\"mkt_neg\"] & ppl[\"gets_mkting\"]) == 1 # trues are 1s (ints)\n",
    "ppl.loc[mask, \"prob_churn\"] += 0.25 # TODO HUGE BIAS\n",
    "assert (\n",
    "    mask.sum() / mask.shape[0] < 0.2\n",
    "), \"Not expecting a high rate of churn even with random variation\"\n",
    "ppl[mask].sample(5)"
   ]
  },
  {
   "cell_type": "code",
   "execution_count": 4,
   "id": "733c84ff",
   "metadata": {},
   "outputs": [],
   "source": [
    "ppl[\"will_churn\"] = rng.binomial(1, ppl[\"prob_churn\"], ppl.shape[0])"
   ]
  },
  {
   "cell_type": "code",
   "execution_count": 5,
   "id": "4694c494",
   "metadata": {},
   "outputs": [
    {
     "data": {
      "text/html": [
       "<div>\n",
       "<style scoped>\n",
       "    .dataframe tbody tr th:only-of-type {\n",
       "        vertical-align: middle;\n",
       "    }\n",
       "\n",
       "    .dataframe tbody tr th {\n",
       "        vertical-align: top;\n",
       "    }\n",
       "\n",
       "    .dataframe thead th {\n",
       "        text-align: right;\n",
       "    }\n",
       "</style>\n",
       "<table border=\"1\" class=\"dataframe\">\n",
       "  <thead>\n",
       "    <tr style=\"text-align: right;\">\n",
       "      <th></th>\n",
       "      <th>mkt_neg</th>\n",
       "      <th>gets_mkting</th>\n",
       "      <th>prob_churn</th>\n",
       "      <th>will_churn</th>\n",
       "    </tr>\n",
       "  </thead>\n",
       "  <tbody>\n",
       "    <tr>\n",
       "      <th>0</th>\n",
       "      <td>0</td>\n",
       "      <td>1</td>\n",
       "      <td>0.15</td>\n",
       "      <td>0</td>\n",
       "    </tr>\n",
       "    <tr>\n",
       "      <th>1</th>\n",
       "      <td>0</td>\n",
       "      <td>0</td>\n",
       "      <td>0.15</td>\n",
       "      <td>0</td>\n",
       "    </tr>\n",
       "    <tr>\n",
       "      <th>2</th>\n",
       "      <td>0</td>\n",
       "      <td>1</td>\n",
       "      <td>0.15</td>\n",
       "      <td>0</td>\n",
       "    </tr>\n",
       "    <tr>\n",
       "      <th>3</th>\n",
       "      <td>0</td>\n",
       "      <td>1</td>\n",
       "      <td>0.15</td>\n",
       "      <td>1</td>\n",
       "    </tr>\n",
       "    <tr>\n",
       "      <th>4</th>\n",
       "      <td>0</td>\n",
       "      <td>1</td>\n",
       "      <td>0.15</td>\n",
       "      <td>0</td>\n",
       "    </tr>\n",
       "  </tbody>\n",
       "</table>\n",
       "</div>"
      ],
      "text/plain": [
       "   mkt_neg  gets_mkting  prob_churn  will_churn\n",
       "0        0            1        0.15           0\n",
       "1        0            0        0.15           0\n",
       "2        0            1        0.15           0\n",
       "3        0            1        0.15           1\n",
       "4        0            1        0.15           0"
      ]
     },
     "execution_count": 5,
     "metadata": {},
     "output_type": "execute_result"
    }
   ],
   "source": [
    "ppl.head()"
   ]
  },
  {
   "cell_type": "code",
   "execution_count": 6,
   "id": "b5632daa",
   "metadata": {},
   "outputs": [
    {
     "data": {
      "text/html": [
       "<div>\n",
       "<style scoped>\n",
       "    .dataframe tbody tr th:only-of-type {\n",
       "        vertical-align: middle;\n",
       "    }\n",
       "\n",
       "    .dataframe tbody tr th {\n",
       "        vertical-align: top;\n",
       "    }\n",
       "\n",
       "    .dataframe thead th {\n",
       "        text-align: right;\n",
       "    }\n",
       "</style>\n",
       "<table border=\"1\" class=\"dataframe\">\n",
       "  <thead>\n",
       "    <tr style=\"text-align: right;\">\n",
       "      <th></th>\n",
       "      <th>mkt_neg</th>\n",
       "      <th>gets_mkting</th>\n",
       "      <th>prob_churn</th>\n",
       "      <th>will_churn</th>\n",
       "    </tr>\n",
       "  </thead>\n",
       "  <tbody>\n",
       "    <tr>\n",
       "      <th>count</th>\n",
       "      <td>100000.000000</td>\n",
       "      <td>100000.000000</td>\n",
       "      <td>100000.000000</td>\n",
       "      <td>100000.000000</td>\n",
       "    </tr>\n",
       "    <tr>\n",
       "      <th>mean</th>\n",
       "      <td>0.099050</td>\n",
       "      <td>0.497500</td>\n",
       "      <td>0.162175</td>\n",
       "      <td>0.162690</td>\n",
       "    </tr>\n",
       "    <tr>\n",
       "      <th>std</th>\n",
       "      <td>0.298731</td>\n",
       "      <td>0.499996</td>\n",
       "      <td>0.053810</td>\n",
       "      <td>0.369084</td>\n",
       "    </tr>\n",
       "    <tr>\n",
       "      <th>min</th>\n",
       "      <td>0.000000</td>\n",
       "      <td>0.000000</td>\n",
       "      <td>0.150000</td>\n",
       "      <td>0.000000</td>\n",
       "    </tr>\n",
       "    <tr>\n",
       "      <th>25%</th>\n",
       "      <td>0.000000</td>\n",
       "      <td>0.000000</td>\n",
       "      <td>0.150000</td>\n",
       "      <td>0.000000</td>\n",
       "    </tr>\n",
       "    <tr>\n",
       "      <th>50%</th>\n",
       "      <td>0.000000</td>\n",
       "      <td>0.000000</td>\n",
       "      <td>0.150000</td>\n",
       "      <td>0.000000</td>\n",
       "    </tr>\n",
       "    <tr>\n",
       "      <th>75%</th>\n",
       "      <td>0.000000</td>\n",
       "      <td>1.000000</td>\n",
       "      <td>0.150000</td>\n",
       "      <td>0.000000</td>\n",
       "    </tr>\n",
       "    <tr>\n",
       "      <th>max</th>\n",
       "      <td>1.000000</td>\n",
       "      <td>1.000000</td>\n",
       "      <td>0.400000</td>\n",
       "      <td>1.000000</td>\n",
       "    </tr>\n",
       "  </tbody>\n",
       "</table>\n",
       "</div>"
      ],
      "text/plain": [
       "             mkt_neg    gets_mkting     prob_churn     will_churn\n",
       "count  100000.000000  100000.000000  100000.000000  100000.000000\n",
       "mean        0.099050       0.497500       0.162175       0.162690\n",
       "std         0.298731       0.499996       0.053810       0.369084\n",
       "min         0.000000       0.000000       0.150000       0.000000\n",
       "25%         0.000000       0.000000       0.150000       0.000000\n",
       "50%         0.000000       0.000000       0.150000       0.000000\n",
       "75%         0.000000       1.000000       0.150000       0.000000\n",
       "max         1.000000       1.000000       0.400000       1.000000"
      ]
     },
     "execution_count": 6,
     "metadata": {},
     "output_type": "execute_result"
    }
   ],
   "source": [
    "ppl.describe()"
   ]
  },
  {
   "cell_type": "code",
   "execution_count": 7,
   "id": "87eef4e4",
   "metadata": {},
   "outputs": [
    {
     "data": {
      "text/html": [
       "<div>\n",
       "<style scoped>\n",
       "    .dataframe tbody tr th:only-of-type {\n",
       "        vertical-align: middle;\n",
       "    }\n",
       "\n",
       "    .dataframe tbody tr th {\n",
       "        vertical-align: top;\n",
       "    }\n",
       "\n",
       "    .dataframe thead th {\n",
       "        text-align: right;\n",
       "    }\n",
       "</style>\n",
       "<table border=\"1\" class=\"dataframe\">\n",
       "  <thead>\n",
       "    <tr style=\"text-align: right;\">\n",
       "      <th></th>\n",
       "      <th>mkt_neg</th>\n",
       "      <th>gets_mkting</th>\n",
       "      <th>prob_churn</th>\n",
       "      <th>will_churn</th>\n",
       "    </tr>\n",
       "  </thead>\n",
       "  <tbody>\n",
       "    <tr>\n",
       "      <th>0</th>\n",
       "      <td>0</td>\n",
       "      <td>1</td>\n",
       "      <td>0.15</td>\n",
       "      <td>0</td>\n",
       "    </tr>\n",
       "    <tr>\n",
       "      <th>1</th>\n",
       "      <td>0</td>\n",
       "      <td>0</td>\n",
       "      <td>0.15</td>\n",
       "      <td>0</td>\n",
       "    </tr>\n",
       "    <tr>\n",
       "      <th>2</th>\n",
       "      <td>0</td>\n",
       "      <td>1</td>\n",
       "      <td>0.15</td>\n",
       "      <td>0</td>\n",
       "    </tr>\n",
       "    <tr>\n",
       "      <th>3</th>\n",
       "      <td>0</td>\n",
       "      <td>1</td>\n",
       "      <td>0.15</td>\n",
       "      <td>1</td>\n",
       "    </tr>\n",
       "    <tr>\n",
       "      <th>4</th>\n",
       "      <td>0</td>\n",
       "      <td>1</td>\n",
       "      <td>0.15</td>\n",
       "      <td>0</td>\n",
       "    </tr>\n",
       "    <tr>\n",
       "      <th>...</th>\n",
       "      <td>...</td>\n",
       "      <td>...</td>\n",
       "      <td>...</td>\n",
       "      <td>...</td>\n",
       "    </tr>\n",
       "    <tr>\n",
       "      <th>99995</th>\n",
       "      <td>0</td>\n",
       "      <td>0</td>\n",
       "      <td>0.15</td>\n",
       "      <td>0</td>\n",
       "    </tr>\n",
       "    <tr>\n",
       "      <th>99996</th>\n",
       "      <td>0</td>\n",
       "      <td>0</td>\n",
       "      <td>0.15</td>\n",
       "      <td>0</td>\n",
       "    </tr>\n",
       "    <tr>\n",
       "      <th>99997</th>\n",
       "      <td>0</td>\n",
       "      <td>0</td>\n",
       "      <td>0.15</td>\n",
       "      <td>0</td>\n",
       "    </tr>\n",
       "    <tr>\n",
       "      <th>99998</th>\n",
       "      <td>0</td>\n",
       "      <td>1</td>\n",
       "      <td>0.15</td>\n",
       "      <td>0</td>\n",
       "    </tr>\n",
       "    <tr>\n",
       "      <th>99999</th>\n",
       "      <td>0</td>\n",
       "      <td>0</td>\n",
       "      <td>0.15</td>\n",
       "      <td>0</td>\n",
       "    </tr>\n",
       "  </tbody>\n",
       "</table>\n",
       "<p>100000 rows × 4 columns</p>\n",
       "</div>"
      ],
      "text/plain": [
       "       mkt_neg  gets_mkting  prob_churn  will_churn\n",
       "0            0            1        0.15           0\n",
       "1            0            0        0.15           0\n",
       "2            0            1        0.15           0\n",
       "3            0            1        0.15           1\n",
       "4            0            1        0.15           0\n",
       "...        ...          ...         ...         ...\n",
       "99995        0            0        0.15           0\n",
       "99996        0            0        0.15           0\n",
       "99997        0            0        0.15           0\n",
       "99998        0            1        0.15           0\n",
       "99999        0            0        0.15           0\n",
       "\n",
       "[100000 rows x 4 columns]"
      ]
     },
     "execution_count": 7,
     "metadata": {},
     "output_type": "execute_result"
    }
   ],
   "source": [
    "# check that mkt_neg people have a greater prob_churn than non-mkt_neg ppl for a 2 sample ttest\n",
    "\n",
    "schema = pa.DataFrameSchema(\n",
    "    {\n",
    "        \"mkt_neg\": pa.Column(int, pa.Check.isin([0, 1])),\n",
    "        \"gets_mkting\": pa.Column(int, pa.Check.isin([0, 1])),\n",
    "        \"will_churn\": pa.Column(int, pa.Check.isin([0, 1])),\n",
    "        \"prob_churn\": pa.Column(float,    [pa.Check.le(1.0), pa.Check.ge(0), pa.Hypothesis.two_sample_ttest(\n",
    "                sample1=1,\n",
    "                sample2=0,\n",
    "                groupby=\"mkt_neg\",\n",
    "                relationship=\"greater_than\",\n",
    "                alpha=0.05,\n",
    "                equal_var=True)])\n",
    "    }\n",
    ")\n",
    "schema.validate(ppl, lazy=True)"
   ]
  },
  {
   "cell_type": "markdown",
   "id": "064611b6",
   "metadata": {},
   "source": [
    "# Look at some examples of those who do or don't churn"
   ]
  },
  {
   "cell_type": "code",
   "execution_count": 8,
   "id": "3de919f9",
   "metadata": {},
   "outputs": [
    {
     "data": {
      "text/html": [
       "<div>\n",
       "<style scoped>\n",
       "    .dataframe tbody tr th:only-of-type {\n",
       "        vertical-align: middle;\n",
       "    }\n",
       "\n",
       "    .dataframe tbody tr th {\n",
       "        vertical-align: top;\n",
       "    }\n",
       "\n",
       "    .dataframe thead th {\n",
       "        text-align: right;\n",
       "    }\n",
       "</style>\n",
       "<table border=\"1\" class=\"dataframe\">\n",
       "  <thead>\n",
       "    <tr style=\"text-align: right;\">\n",
       "      <th></th>\n",
       "      <th>mkt_neg</th>\n",
       "      <th>gets_mkting</th>\n",
       "      <th>prob_churn</th>\n",
       "      <th>will_churn</th>\n",
       "    </tr>\n",
       "  </thead>\n",
       "  <tbody>\n",
       "    <tr>\n",
       "      <th>90</th>\n",
       "      <td>1</td>\n",
       "      <td>1</td>\n",
       "      <td>0.4</td>\n",
       "      <td>1</td>\n",
       "    </tr>\n",
       "  </tbody>\n",
       "</table>\n",
       "</div>"
      ],
      "text/plain": [
       "    mkt_neg  gets_mkting  prob_churn  will_churn\n",
       "90        1            1         0.4           1"
      ]
     },
     "execution_count": 8,
     "metadata": {},
     "output_type": "execute_result"
    }
   ],
   "source": [
    "ppl.query(\"will_churn==True and prob_churn > @BASE_CHURN\").iloc[[0]]"
   ]
  },
  {
   "cell_type": "code",
   "execution_count": 9,
   "id": "f78a7816",
   "metadata": {},
   "outputs": [
    {
     "data": {
      "text/html": [
       "<div>\n",
       "<style scoped>\n",
       "    .dataframe tbody tr th:only-of-type {\n",
       "        vertical-align: middle;\n",
       "    }\n",
       "\n",
       "    .dataframe tbody tr th {\n",
       "        vertical-align: top;\n",
       "    }\n",
       "\n",
       "    .dataframe thead th {\n",
       "        text-align: right;\n",
       "    }\n",
       "</style>\n",
       "<table border=\"1\" class=\"dataframe\">\n",
       "  <thead>\n",
       "    <tr style=\"text-align: right;\">\n",
       "      <th></th>\n",
       "      <th>mkt_neg</th>\n",
       "      <th>gets_mkting</th>\n",
       "      <th>prob_churn</th>\n",
       "      <th>will_churn</th>\n",
       "    </tr>\n",
       "  </thead>\n",
       "  <tbody>\n",
       "    <tr>\n",
       "      <th>3</th>\n",
       "      <td>0</td>\n",
       "      <td>1</td>\n",
       "      <td>0.15</td>\n",
       "      <td>1</td>\n",
       "    </tr>\n",
       "  </tbody>\n",
       "</table>\n",
       "</div>"
      ],
      "text/plain": [
       "   mkt_neg  gets_mkting  prob_churn  will_churn\n",
       "3        0            1        0.15           1"
      ]
     },
     "execution_count": 9,
     "metadata": {},
     "output_type": "execute_result"
    }
   ],
   "source": [
    "ppl.query(\"will_churn==True and prob_churn == @BASE_CHURN\").iloc[[0]]"
   ]
  },
  {
   "cell_type": "code",
   "execution_count": 10,
   "id": "4403b4eb",
   "metadata": {},
   "outputs": [
    {
     "data": {
      "text/html": [
       "<div>\n",
       "<style scoped>\n",
       "    .dataframe tbody tr th:only-of-type {\n",
       "        vertical-align: middle;\n",
       "    }\n",
       "\n",
       "    .dataframe tbody tr th {\n",
       "        vertical-align: top;\n",
       "    }\n",
       "\n",
       "    .dataframe thead th {\n",
       "        text-align: right;\n",
       "    }\n",
       "</style>\n",
       "<table border=\"1\" class=\"dataframe\">\n",
       "  <thead>\n",
       "    <tr style=\"text-align: right;\">\n",
       "      <th></th>\n",
       "      <th>mkt_neg</th>\n",
       "      <th>gets_mkting</th>\n",
       "      <th>prob_churn</th>\n",
       "      <th>will_churn</th>\n",
       "    </tr>\n",
       "  </thead>\n",
       "  <tbody>\n",
       "    <tr>\n",
       "      <th>0</th>\n",
       "      <td>0</td>\n",
       "      <td>1</td>\n",
       "      <td>0.15</td>\n",
       "      <td>0</td>\n",
       "    </tr>\n",
       "  </tbody>\n",
       "</table>\n",
       "</div>"
      ],
      "text/plain": [
       "   mkt_neg  gets_mkting  prob_churn  will_churn\n",
       "0        0            1        0.15           0"
      ]
     },
     "execution_count": 10,
     "metadata": {},
     "output_type": "execute_result"
    }
   ],
   "source": [
    "ppl.query(\"will_churn==False\").iloc[[0]]"
   ]
  },
  {
   "cell_type": "markdown",
   "id": "3b3c9726",
   "metadata": {},
   "source": [
    "# Start to prepare for ML"
   ]
  },
  {
   "cell_type": "code",
   "execution_count": null,
   "id": "7f0a0293",
   "metadata": {},
   "outputs": [],
   "source": []
  },
  {
   "cell_type": "code",
   "execution_count": 11,
   "id": "c9518c76",
   "metadata": {},
   "outputs": [
    {
     "name": "stdout",
     "output_type": "stream",
     "text": [
      "[(70000, 4), (30000, 4), (70000, 1), (30000, 1), (70000,), (30000,)]\n"
     ]
    }
   ],
   "source": [
    "features = ['mkt_neg']\n",
    "ppl_train, ppl_test, X_train, X_test, y_train, y_test = train_test_split(ppl, ppl[features], ppl['will_churn'], test_size=0.3, shuffle=True)\n",
    "print(list(x.shape for x in [ppl_train, ppl_test, X_train, X_test, y_train, y_test]))"
   ]
  },
  {
   "cell_type": "code",
   "execution_count": 12,
   "id": "85a8d6b5",
   "metadata": {},
   "outputs": [
    {
     "data": {
      "text/plain": [
       "0.44620157360105545"
      ]
     },
     "execution_count": 12,
     "metadata": {},
     "output_type": "execute_result"
    }
   ],
   "source": [
    "est_dummy = DummyClassifier(strategy='prior')\n",
    "est_dummy.fit(X_train, y_train)\n",
    "\n",
    "#y_true\n",
    "\n",
    "dummy_proba_pos = est_dummy.predict_proba(X_test)[:, 1]\n",
    "log_loss(y_test, dummy_proba_pos)"
   ]
  },
  {
   "cell_type": "code",
   "execution_count": 13,
   "id": "964cc52d",
   "metadata": {},
   "outputs": [
    {
     "data": {
      "text/plain": [
       "0.4410157552619178"
      ]
     },
     "execution_count": 13,
     "metadata": {},
     "output_type": "execute_result"
    }
   ],
   "source": [
    "est = LogisticRegression()\n",
    "est.fit(X_train, y_train)\n",
    "\n",
    "y_pred = est.predict_proba(X_test)\n",
    "y_pred_proba_pos = y_pred[:, 1]\n",
    "log_loss(y_test, y_pred_proba_pos)"
   ]
  },
  {
   "cell_type": "markdown",
   "id": "74556717",
   "metadata": {},
   "source": [
    "## Start to prepare for dual fit"
   ]
  },
  {
   "cell_type": "code",
   "execution_count": 14,
   "id": "64f14ba5",
   "metadata": {},
   "outputs": [
    {
     "name": "stdout",
     "output_type": "stream",
     "text": [
      "0.42286118470659784\n",
      "0.45089655726510136\n"
     ]
    }
   ],
   "source": [
    "# TODO duplication here will hurt and will make debugging much\n",
    "# harder, this needs simplifying!\n",
    "# higher logloss is worse\n",
    "est_up_c = LogisticRegression()\n",
    "est_up_t = LogisticRegression()\n",
    "\n",
    "mask_train_c = ppl_train['gets_mkting'] == 0\n",
    "mask_train_t = ppl_train['gets_mkting'] == 1\n",
    "\n",
    "est_up_c.fit(X_train[mask_train_c], y_train[mask_train_c])\n",
    "est_up_t.fit(X_train[mask_train_t], y_train[mask_train_t])\n",
    "\n",
    "mask_test_c = ppl_test['gets_mkting'] == 0\n",
    "mask_test_t = ppl_test['gets_mkting'] == 1\n",
    "lr_up_c_pred_proba_pos = est_up_c.predict_proba(X_test[mask_test_c])[:, 1]\n",
    "lr_up_t_pred_proba_pos = est_up_t.predict_proba(X_test[mask_test_t])[:, 1]\n",
    "\n",
    "print(log_loss(y_test[mask_test_c], lr_up_c_pred_proba_pos))\n",
    "print(log_loss(y_test[mask_test_t], lr_up_t_pred_proba_pos)) # CHECK expect lower than control"
   ]
  },
  {
   "cell_type": "markdown",
   "id": "d43617a8",
   "metadata": {},
   "source": [
    "# diagnostics might not be right yet!"
   ]
  },
  {
   "cell_type": "code",
   "execution_count": 15,
   "id": "f0d096e8",
   "metadata": {},
   "outputs": [
    {
     "data": {
      "image/png": "[encoded data removed]",
      "text/plain": [
       "<Figure size 576x288 with 1 Axes>"
      ]
     },
     "metadata": {
      "needs_background": "light"
     },
     "output_type": "display_data"
    }
   ],
   "source": [
    "result = pd.DataFrame({'lr_proba_pos': y_pred_proba_pos, 'y_true': y_test})\n",
    "result['dummy_proba_pos'] = est_dummy.predict_proba(X_test)[:, 1]\n",
    "\n",
    "result['uplift_proba_pos'] = 0\n",
    "result.loc[mask_test_t, 'uplift_proba_pos'] = lr_up_t_pred_proba_pos\n",
    "result.loc[mask_test_c, 'uplift_proba_pos'] = lr_up_c_pred_proba_pos\n",
    "\n",
    "\n",
    "fig, ax = plt.subplots(figsize=(8, 4), constrained_layout=True)\n",
    "fig.suptitle(\"Gains curve - Positive divergence\\nmeans better ordering\")\n",
    "keys = ['lr_proba_pos', 'dummy_proba_pos', 'uplift_proba_pos']\n",
    "for key in keys:\n",
    "    result_sorted = result.sort_values(key, ascending=False).reset_index()\n",
    "    result_sorted['y_true_cum'] = result_sorted['y_true'].cumsum()\n",
    "    result_sorted.plot(kind='line', y='y_true_cum', ax=ax, label=key)\n",
    "ax.set_ylabel('True Positives (faster climb better)');\n",
    "ax.set_xlabel('Test population');"
   ]
  },
  {
   "cell_type": "code",
   "execution_count": null,
   "id": "5ff00905",
   "metadata": {},
   "outputs": [],
   "source": []
  }
 ],
 "metadata": {
  "kernelspec": {
   "display_name": "Python 3 (ipykernel)",
   "language": "python",
   "name": "python3"
  },
  "language_info": {
   "codemirror_mode": {
    "name": "ipython",
    "version": 3
   },
   "file_extension": ".py",
   "mimetype": "text/x-python",
   "name": "python",
   "nbconvert_exporter": "python",
   "pygments_lexer": "ipython3",
   "version": "3.10.2"
  }
 },
 "nbformat": 4,
 "nbformat_minor": 5
}
