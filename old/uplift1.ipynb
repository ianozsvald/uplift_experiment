{
 "cells": [
  {
   "cell_type": "code",
   "execution_count": 1,
   "id": "c71ebfb3",
   "metadata": {},
   "outputs": [],
   "source": [
    "from functools import partial\n",
    "import numpy as np\n",
    "import pandas as pd\n",
    "import pandera as pa\n",
    "from sklearn.ensemble import RandomForestClassifier\n",
    "\n",
    "from sklearn.dummy import DummyClassifier\n",
    "from sklearn.linear_model import LogisticRegression\n",
    "from sklearn.metrics import log_loss\n",
    "from sklearn.model_selection import train_test_split\n",
    "import matplotlib.pyplot as plt\n",
    "\n",
    "from simpler_mpl import set_common_mpl_styles, set_commas\n",
    "\n",
    "rng = np.random.default_rng(seed=0)"
   ]
  },
  {
   "cell_type": "code",
   "execution_count": 2,
   "id": "a6ccb529",
   "metadata": {},
   "outputs": [],
   "source": [
    "# Population\n",
    "SIZE = 150_000\n",
    "\n",
    "BASE_CHURN = 0.16 # 16% churn means 84% retention\n",
    "\n",
    "# ML\n",
    "TEST_SIZE = 50_000 # 0.3 # 0.3 means 30% test set size\n"
   ]
  },
  {
   "cell_type": "code",
   "execution_count": 3,
   "id": "0a982418",
   "metadata": {},
   "outputs": [
    {
     "data": {
      "text/html": [
       "<div>\n",
       "<style scoped>\n",
       "    .dataframe tbody tr th:only-of-type {\n",
       "        vertical-align: middle;\n",
       "    }\n",
       "\n",
       "    .dataframe tbody tr th {\n",
       "        vertical-align: top;\n",
       "    }\n",
       "\n",
       "    .dataframe thead th {\n",
       "        text-align: right;\n",
       "    }\n",
       "</style>\n",
       "<table border=\"1\" class=\"dataframe\">\n",
       "  <thead>\n",
       "    <tr style=\"text-align: right;\">\n",
       "      <th></th>\n",
       "      <th>bad_exp</th>\n",
       "      <th>mkt_neg</th>\n",
       "      <th>gets_mkting</th>\n",
       "      <th>prob_churn</th>\n",
       "    </tr>\n",
       "  </thead>\n",
       "  <tbody>\n",
       "    <tr>\n",
       "      <th>43871</th>\n",
       "      <td>0</td>\n",
       "      <td>0</td>\n",
       "      <td>0</td>\n",
       "      <td>0.16</td>\n",
       "    </tr>\n",
       "    <tr>\n",
       "      <th>125774</th>\n",
       "      <td>0</td>\n",
       "      <td>0</td>\n",
       "      <td>0</td>\n",
       "      <td>0.16</td>\n",
       "    </tr>\n",
       "    <tr>\n",
       "      <th>95791</th>\n",
       "      <td>0</td>\n",
       "      <td>0</td>\n",
       "      <td>0</td>\n",
       "      <td>0.16</td>\n",
       "    </tr>\n",
       "    <tr>\n",
       "      <th>28465</th>\n",
       "      <td>0</td>\n",
       "      <td>0</td>\n",
       "      <td>1</td>\n",
       "      <td>0.16</td>\n",
       "    </tr>\n",
       "    <tr>\n",
       "      <th>57726</th>\n",
       "      <td>1</td>\n",
       "      <td>0</td>\n",
       "      <td>1</td>\n",
       "      <td>0.16</td>\n",
       "    </tr>\n",
       "  </tbody>\n",
       "</table>\n",
       "</div>"
      ],
      "text/plain": [
       "        bad_exp  mkt_neg  gets_mkting  prob_churn\n",
       "43871         0        0            0        0.16\n",
       "125774        0        0            0        0.16\n",
       "95791         0        0            0        0.16\n",
       "28465         0        0            1        0.16\n",
       "57726         1        0            1        0.16"
      ]
     },
     "execution_count": 3,
     "metadata": {},
     "output_type": "execute_result"
    }
   ],
   "source": [
    "# rng.binomial(nbr events e.g. 1 means 0 or 1, p is probability of True, size is nbr of items to generate)\n",
    "\n",
    "# a bad_exp means they had a problem (e.g. bad insurance claim, hard time with mobile phone tech support),\n",
    "# this increases their likelihood of churn\n",
    "# mkt_neg means they really don't like getting marketing and this will increase their likelihood of churn\n",
    "# gets_mkting is a 50/50 split for Treatment (True) or Control (False)\n",
    "\n",
    "\n",
    "ppl = pd.DataFrame(\n",
    "    {\n",
    "        \"bad_exp\": rng.binomial(\n",
    "           1, 0.2, SIZE\n",
    "        ),  # True if they had a bad experience with company\n",
    "        \"mkt_neg\": rng.binomial(\n",
    "            1, 0.2, SIZE\n",
    "        ),  # True if receiving marketing will increase churn probability for them\n",
    "        #\"mkt_pos\": rng.binomial(1, 0.2, SIZE) # True if marketing helps retain this customer\n",
    "    }\n",
    ")\n",
    "ppl[\"gets_mkting\"] = rng.binomial(1, 0.5, SIZE)\n",
    "\n",
    "ppl[\"prob_churn\"] = BASE_CHURN  # a reasonably standard churn rate\n",
    "ppl.sample(5)"
   ]
  },
  {
   "cell_type": "code",
   "execution_count": 4,
   "id": "c468d008",
   "metadata": {},
   "outputs": [],
   "source": [
    "# people who like marketing and who get marketing have a lower chance of churning\n",
    "if False:\n",
    "    mask = (ppl[\"mkt_pos\"] & ppl[\"gets_mkting\"]) == 1  # trues are 1s (ints)\n",
    "    ppl.loc[mask, \"prob_churn\"] -= 0.1  # TODO HUGE BIAS\n",
    "\n",
    "    assert (\n",
    "        mask.sum() / mask.shape[0] < 0.2\n",
    "    ), \"Not expecting a high rate of churn even with random variation\"\n",
    "\n",
    "    display(ppl[mask].sample(5))"
   ]
  },
  {
   "cell_type": "code",
   "execution_count": 5,
   "id": "1e79350d",
   "metadata": {},
   "outputs": [
    {
     "data": {
      "text/html": [
       "<div>\n",
       "<style scoped>\n",
       "    .dataframe tbody tr th:only-of-type {\n",
       "        vertical-align: middle;\n",
       "    }\n",
       "\n",
       "    .dataframe tbody tr th {\n",
       "        vertical-align: top;\n",
       "    }\n",
       "\n",
       "    .dataframe thead th {\n",
       "        text-align: right;\n",
       "    }\n",
       "</style>\n",
       "<table border=\"1\" class=\"dataframe\">\n",
       "  <thead>\n",
       "    <tr style=\"text-align: right;\">\n",
       "      <th></th>\n",
       "      <th>bad_exp</th>\n",
       "      <th>mkt_neg</th>\n",
       "      <th>gets_mkting</th>\n",
       "      <th>prob_churn</th>\n",
       "    </tr>\n",
       "  </thead>\n",
       "  <tbody>\n",
       "    <tr>\n",
       "      <th>145681</th>\n",
       "      <td>0</td>\n",
       "      <td>1</td>\n",
       "      <td>1</td>\n",
       "      <td>0.66</td>\n",
       "    </tr>\n",
       "    <tr>\n",
       "      <th>70339</th>\n",
       "      <td>0</td>\n",
       "      <td>1</td>\n",
       "      <td>1</td>\n",
       "      <td>0.66</td>\n",
       "    </tr>\n",
       "    <tr>\n",
       "      <th>50669</th>\n",
       "      <td>0</td>\n",
       "      <td>1</td>\n",
       "      <td>1</td>\n",
       "      <td>0.66</td>\n",
       "    </tr>\n",
       "    <tr>\n",
       "      <th>125208</th>\n",
       "      <td>0</td>\n",
       "      <td>1</td>\n",
       "      <td>1</td>\n",
       "      <td>0.66</td>\n",
       "    </tr>\n",
       "    <tr>\n",
       "      <th>13775</th>\n",
       "      <td>0</td>\n",
       "      <td>1</td>\n",
       "      <td>1</td>\n",
       "      <td>0.66</td>\n",
       "    </tr>\n",
       "  </tbody>\n",
       "</table>\n",
       "</div>"
      ],
      "text/plain": [
       "        bad_exp  mkt_neg  gets_mkting  prob_churn\n",
       "145681        0        1            1        0.66\n",
       "70339         0        1            1        0.66\n",
       "50669         0        1            1        0.66\n",
       "125208        0        1            1        0.66\n",
       "13775         0        1            1        0.66"
      ]
     },
     "execution_count": 5,
     "metadata": {},
     "output_type": "execute_result"
    }
   ],
   "source": [
    "# people who hate marketing and who get marketing have a higher chance of churning\n",
    "mask = (ppl[\"mkt_neg\"] & ppl[\"gets_mkting\"]) == 1  # trues are 1s (ints)\n",
    "ppl.loc[mask, \"prob_churn\"] += 0.5  # TODO HUGE BIAS\n",
    "\n",
    "assert (\n",
    "    mask.sum() / mask.shape[0] < 0.2\n",
    "), \"Not expecting a high rate of churn even with random variation\"\n",
    "\n",
    "ppl[mask].sample(5)"
   ]
  },
  {
   "cell_type": "code",
   "execution_count": 6,
   "id": "6f7f7b58",
   "metadata": {},
   "outputs": [
    {
     "data": {
      "text/html": [
       "<div>\n",
       "<style scoped>\n",
       "    .dataframe tbody tr th:only-of-type {\n",
       "        vertical-align: middle;\n",
       "    }\n",
       "\n",
       "    .dataframe tbody tr th {\n",
       "        vertical-align: top;\n",
       "    }\n",
       "\n",
       "    .dataframe thead th {\n",
       "        text-align: right;\n",
       "    }\n",
       "</style>\n",
       "<table border=\"1\" class=\"dataframe\">\n",
       "  <thead>\n",
       "    <tr style=\"text-align: right;\">\n",
       "      <th></th>\n",
       "      <th>bad_exp</th>\n",
       "      <th>mkt_neg</th>\n",
       "      <th>gets_mkting</th>\n",
       "      <th>prob_churn</th>\n",
       "    </tr>\n",
       "  </thead>\n",
       "  <tbody>\n",
       "    <tr>\n",
       "      <th>119969</th>\n",
       "      <td>1</td>\n",
       "      <td>0</td>\n",
       "      <td>1</td>\n",
       "      <td>0.26</td>\n",
       "    </tr>\n",
       "    <tr>\n",
       "      <th>17186</th>\n",
       "      <td>1</td>\n",
       "      <td>0</td>\n",
       "      <td>1</td>\n",
       "      <td>0.26</td>\n",
       "    </tr>\n",
       "    <tr>\n",
       "      <th>17419</th>\n",
       "      <td>1</td>\n",
       "      <td>0</td>\n",
       "      <td>0</td>\n",
       "      <td>0.26</td>\n",
       "    </tr>\n",
       "    <tr>\n",
       "      <th>42403</th>\n",
       "      <td>1</td>\n",
       "      <td>1</td>\n",
       "      <td>0</td>\n",
       "      <td>0.26</td>\n",
       "    </tr>\n",
       "    <tr>\n",
       "      <th>29103</th>\n",
       "      <td>1</td>\n",
       "      <td>0</td>\n",
       "      <td>0</td>\n",
       "      <td>0.26</td>\n",
       "    </tr>\n",
       "  </tbody>\n",
       "</table>\n",
       "</div>"
      ],
      "text/plain": [
       "        bad_exp  mkt_neg  gets_mkting  prob_churn\n",
       "119969        1        0            1        0.26\n",
       "17186         1        0            1        0.26\n",
       "17419         1        0            0        0.26\n",
       "42403         1        1            0        0.26\n",
       "29103         1        0            0        0.26"
      ]
     },
     "execution_count": 6,
     "metadata": {},
     "output_type": "execute_result"
    }
   ],
   "source": [
    "# people who have had a negative experience have a higher chance of churn\n",
    "mask = ppl['bad_exp'] == 1\n",
    "ppl.loc[mask, 'prob_churn'] += 0.1\n",
    "ppl[mask].sample(5)"
   ]
  },
  {
   "cell_type": "code",
   "execution_count": 7,
   "id": "733c84ff",
   "metadata": {},
   "outputs": [],
   "source": [
    "ppl[\"will_churn\"] = rng.binomial(1, ppl[\"prob_churn\"], ppl.shape[0])"
   ]
  },
  {
   "cell_type": "code",
   "execution_count": 8,
   "id": "bfd26663",
   "metadata": {},
   "outputs": [
    {
     "data": {
      "text/plain": [
       "prob_churn_bin\n",
       "(0.159, 0.22]    17230\n",
       "(0.22, 0.28]      7040\n",
       "(0.28, 0.34]         0\n",
       "(0.34, 0.4]          0\n",
       "(0.4, 0.46]          0\n",
       "(0.46, 0.52]         0\n",
       "(0.52, 0.58]         0\n",
       "(0.58, 0.64]         0\n",
       "(0.64, 0.7]       7975\n",
       "(0.7, 0.76]       2216\n",
       "Name: will_churn, dtype: int64"
      ]
     },
     "metadata": {},
     "output_type": "display_data"
    },
    {
     "data": {
      "text/plain": [
       "prob_churn_bin\n",
       "(0.159, 0.22]    0.159233\n",
       "(0.22, 0.28]     0.263178\n",
       "(0.28, 0.34]          NaN\n",
       "(0.34, 0.4]           NaN\n",
       "(0.4, 0.46]           NaN\n",
       "(0.46, 0.52]          NaN\n",
       "(0.52, 0.58]          NaN\n",
       "(0.58, 0.64]          NaN\n",
       "(0.64, 0.7]      0.657895\n",
       "(0.7, 0.76]      0.758385\n",
       "Name: will_churn, dtype: float64"
      ]
     },
     "metadata": {},
     "output_type": "display_data"
    }
   ],
   "source": [
    "ppl['prob_churn_bin'] = pd.cut(ppl['prob_churn'], bins=10)\n",
    "display(ppl.groupby('prob_churn_bin')['will_churn'].sum())\n",
    "display(ppl.groupby('prob_churn_bin')['will_churn'].sum() / ppl.groupby('prob_churn_bin')['will_churn'].size())\n",
    "ppl = ppl.drop(columns='prob_churn_bin')"
   ]
  },
  {
   "cell_type": "code",
   "execution_count": 9,
   "id": "4694c494",
   "metadata": {},
   "outputs": [
    {
     "data": {
      "text/html": [
       "<div>\n",
       "<style scoped>\n",
       "    .dataframe tbody tr th:only-of-type {\n",
       "        vertical-align: middle;\n",
       "    }\n",
       "\n",
       "    .dataframe tbody tr th {\n",
       "        vertical-align: top;\n",
       "    }\n",
       "\n",
       "    .dataframe thead th {\n",
       "        text-align: right;\n",
       "    }\n",
       "</style>\n",
       "<table border=\"1\" class=\"dataframe\">\n",
       "  <thead>\n",
       "    <tr style=\"text-align: right;\">\n",
       "      <th></th>\n",
       "      <th>bad_exp</th>\n",
       "      <th>mkt_neg</th>\n",
       "      <th>gets_mkting</th>\n",
       "      <th>prob_churn</th>\n",
       "      <th>will_churn</th>\n",
       "    </tr>\n",
       "  </thead>\n",
       "  <tbody>\n",
       "    <tr>\n",
       "      <th>0</th>\n",
       "      <td>0</td>\n",
       "      <td>0</td>\n",
       "      <td>1</td>\n",
       "      <td>0.16</td>\n",
       "      <td>0</td>\n",
       "    </tr>\n",
       "    <tr>\n",
       "      <th>1</th>\n",
       "      <td>0</td>\n",
       "      <td>0</td>\n",
       "      <td>1</td>\n",
       "      <td>0.16</td>\n",
       "      <td>1</td>\n",
       "    </tr>\n",
       "    <tr>\n",
       "      <th>2</th>\n",
       "      <td>0</td>\n",
       "      <td>0</td>\n",
       "      <td>0</td>\n",
       "      <td>0.16</td>\n",
       "      <td>0</td>\n",
       "    </tr>\n",
       "    <tr>\n",
       "      <th>3</th>\n",
       "      <td>0</td>\n",
       "      <td>0</td>\n",
       "      <td>0</td>\n",
       "      <td>0.16</td>\n",
       "      <td>0</td>\n",
       "    </tr>\n",
       "    <tr>\n",
       "      <th>4</th>\n",
       "      <td>1</td>\n",
       "      <td>0</td>\n",
       "      <td>0</td>\n",
       "      <td>0.26</td>\n",
       "      <td>0</td>\n",
       "    </tr>\n",
       "  </tbody>\n",
       "</table>\n",
       "</div>"
      ],
      "text/plain": [
       "   bad_exp  mkt_neg  gets_mkting  prob_churn  will_churn\n",
       "0        0        0            1        0.16           0\n",
       "1        0        0            1        0.16           1\n",
       "2        0        0            0        0.16           0\n",
       "3        0        0            0        0.16           0\n",
       "4        1        0            0        0.26           0"
      ]
     },
     "execution_count": 9,
     "metadata": {},
     "output_type": "execute_result"
    }
   ],
   "source": [
    "ppl.head()"
   ]
  },
  {
   "cell_type": "code",
   "execution_count": 10,
   "id": "b5632daa",
   "metadata": {},
   "outputs": [
    {
     "data": {
      "text/html": [
       "<div>\n",
       "<style scoped>\n",
       "    .dataframe tbody tr th:only-of-type {\n",
       "        vertical-align: middle;\n",
       "    }\n",
       "\n",
       "    .dataframe tbody tr th {\n",
       "        vertical-align: top;\n",
       "    }\n",
       "\n",
       "    .dataframe thead th {\n",
       "        text-align: right;\n",
       "    }\n",
       "</style>\n",
       "<table border=\"1\" class=\"dataframe\">\n",
       "  <thead>\n",
       "    <tr style=\"text-align: right;\">\n",
       "      <th></th>\n",
       "      <th>bad_exp</th>\n",
       "      <th>mkt_neg</th>\n",
       "      <th>gets_mkting</th>\n",
       "      <th>prob_churn</th>\n",
       "      <th>will_churn</th>\n",
       "    </tr>\n",
       "  </thead>\n",
       "  <tbody>\n",
       "    <tr>\n",
       "      <th>count</th>\n",
       "      <td>150000.000000</td>\n",
       "      <td>150000.000000</td>\n",
       "      <td>150000.000000</td>\n",
       "      <td>150000.000000</td>\n",
       "      <td>150000.000000</td>\n",
       "    </tr>\n",
       "    <tr>\n",
       "      <th>mean</th>\n",
       "      <td>0.197813</td>\n",
       "      <td>0.199720</td>\n",
       "      <td>0.500753</td>\n",
       "      <td>0.229928</td>\n",
       "      <td>0.229740</td>\n",
       "    </tr>\n",
       "    <tr>\n",
       "      <th>std</th>\n",
       "      <td>0.398352</td>\n",
       "      <td>0.399791</td>\n",
       "      <td>0.500001</td>\n",
       "      <td>0.155273</td>\n",
       "      <td>0.420667</td>\n",
       "    </tr>\n",
       "    <tr>\n",
       "      <th>min</th>\n",
       "      <td>0.000000</td>\n",
       "      <td>0.000000</td>\n",
       "      <td>0.000000</td>\n",
       "      <td>0.160000</td>\n",
       "      <td>0.000000</td>\n",
       "    </tr>\n",
       "    <tr>\n",
       "      <th>25%</th>\n",
       "      <td>0.000000</td>\n",
       "      <td>0.000000</td>\n",
       "      <td>0.000000</td>\n",
       "      <td>0.160000</td>\n",
       "      <td>0.000000</td>\n",
       "    </tr>\n",
       "    <tr>\n",
       "      <th>50%</th>\n",
       "      <td>0.000000</td>\n",
       "      <td>0.000000</td>\n",
       "      <td>1.000000</td>\n",
       "      <td>0.160000</td>\n",
       "      <td>0.000000</td>\n",
       "    </tr>\n",
       "    <tr>\n",
       "      <th>75%</th>\n",
       "      <td>0.000000</td>\n",
       "      <td>0.000000</td>\n",
       "      <td>1.000000</td>\n",
       "      <td>0.260000</td>\n",
       "      <td>0.000000</td>\n",
       "    </tr>\n",
       "    <tr>\n",
       "      <th>max</th>\n",
       "      <td>1.000000</td>\n",
       "      <td>1.000000</td>\n",
       "      <td>1.000000</td>\n",
       "      <td>0.760000</td>\n",
       "      <td>1.000000</td>\n",
       "    </tr>\n",
       "  </tbody>\n",
       "</table>\n",
       "</div>"
      ],
      "text/plain": [
       "             bad_exp        mkt_neg    gets_mkting     prob_churn  \\\n",
       "count  150000.000000  150000.000000  150000.000000  150000.000000   \n",
       "mean        0.197813       0.199720       0.500753       0.229928   \n",
       "std         0.398352       0.399791       0.500001       0.155273   \n",
       "min         0.000000       0.000000       0.000000       0.160000   \n",
       "25%         0.000000       0.000000       0.000000       0.160000   \n",
       "50%         0.000000       0.000000       1.000000       0.160000   \n",
       "75%         0.000000       0.000000       1.000000       0.260000   \n",
       "max         1.000000       1.000000       1.000000       0.760000   \n",
       "\n",
       "          will_churn  \n",
       "count  150000.000000  \n",
       "mean        0.229740  \n",
       "std         0.420667  \n",
       "min         0.000000  \n",
       "25%         0.000000  \n",
       "50%         0.000000  \n",
       "75%         0.000000  \n",
       "max         1.000000  "
      ]
     },
     "execution_count": 10,
     "metadata": {},
     "output_type": "execute_result"
    }
   ],
   "source": [
    "ppl.describe()"
   ]
  },
  {
   "cell_type": "code",
   "execution_count": 11,
   "id": "608c0f90",
   "metadata": {},
   "outputs": [
    {
     "data": {
      "text/html": [
       "<div>\n",
       "<style scoped>\n",
       "    .dataframe tbody tr th:only-of-type {\n",
       "        vertical-align: middle;\n",
       "    }\n",
       "\n",
       "    .dataframe tbody tr th {\n",
       "        vertical-align: top;\n",
       "    }\n",
       "\n",
       "    .dataframe thead th {\n",
       "        text-align: right;\n",
       "    }\n",
       "</style>\n",
       "<table border=\"1\" class=\"dataframe\">\n",
       "  <thead>\n",
       "    <tr style=\"text-align: right;\">\n",
       "      <th></th>\n",
       "      <th>bad_exp</th>\n",
       "      <th>mkt_neg</th>\n",
       "      <th>gets_mkting</th>\n",
       "      <th>prob_churn</th>\n",
       "      <th>will_churn</th>\n",
       "    </tr>\n",
       "  </thead>\n",
       "  <tbody>\n",
       "    <tr>\n",
       "      <th>0</th>\n",
       "      <td>0</td>\n",
       "      <td>0</td>\n",
       "      <td>1</td>\n",
       "      <td>0.16</td>\n",
       "      <td>0</td>\n",
       "    </tr>\n",
       "    <tr>\n",
       "      <th>1</th>\n",
       "      <td>0</td>\n",
       "      <td>0</td>\n",
       "      <td>1</td>\n",
       "      <td>0.16</td>\n",
       "      <td>1</td>\n",
       "    </tr>\n",
       "    <tr>\n",
       "      <th>2</th>\n",
       "      <td>0</td>\n",
       "      <td>0</td>\n",
       "      <td>0</td>\n",
       "      <td>0.16</td>\n",
       "      <td>0</td>\n",
       "    </tr>\n",
       "    <tr>\n",
       "      <th>3</th>\n",
       "      <td>0</td>\n",
       "      <td>0</td>\n",
       "      <td>0</td>\n",
       "      <td>0.16</td>\n",
       "      <td>0</td>\n",
       "    </tr>\n",
       "    <tr>\n",
       "      <th>4</th>\n",
       "      <td>1</td>\n",
       "      <td>0</td>\n",
       "      <td>0</td>\n",
       "      <td>0.26</td>\n",
       "      <td>0</td>\n",
       "    </tr>\n",
       "    <tr>\n",
       "      <th>...</th>\n",
       "      <td>...</td>\n",
       "      <td>...</td>\n",
       "      <td>...</td>\n",
       "      <td>...</td>\n",
       "      <td>...</td>\n",
       "    </tr>\n",
       "    <tr>\n",
       "      <th>149995</th>\n",
       "      <td>1</td>\n",
       "      <td>0</td>\n",
       "      <td>0</td>\n",
       "      <td>0.26</td>\n",
       "      <td>1</td>\n",
       "    </tr>\n",
       "    <tr>\n",
       "      <th>149996</th>\n",
       "      <td>0</td>\n",
       "      <td>0</td>\n",
       "      <td>1</td>\n",
       "      <td>0.16</td>\n",
       "      <td>0</td>\n",
       "    </tr>\n",
       "    <tr>\n",
       "      <th>149997</th>\n",
       "      <td>0</td>\n",
       "      <td>0</td>\n",
       "      <td>1</td>\n",
       "      <td>0.16</td>\n",
       "      <td>0</td>\n",
       "    </tr>\n",
       "    <tr>\n",
       "      <th>149998</th>\n",
       "      <td>0</td>\n",
       "      <td>0</td>\n",
       "      <td>0</td>\n",
       "      <td>0.16</td>\n",
       "      <td>0</td>\n",
       "    </tr>\n",
       "    <tr>\n",
       "      <th>149999</th>\n",
       "      <td>0</td>\n",
       "      <td>0</td>\n",
       "      <td>1</td>\n",
       "      <td>0.16</td>\n",
       "      <td>0</td>\n",
       "    </tr>\n",
       "  </tbody>\n",
       "</table>\n",
       "<p>150000 rows × 5 columns</p>\n",
       "</div>"
      ],
      "text/plain": [
       "        bad_exp  mkt_neg  gets_mkting  prob_churn  will_churn\n",
       "0             0        0            1        0.16           0\n",
       "1             0        0            1        0.16           1\n",
       "2             0        0            0        0.16           0\n",
       "3             0        0            0        0.16           0\n",
       "4             1        0            0        0.26           0\n",
       "...         ...      ...          ...         ...         ...\n",
       "149995        1        0            0        0.26           1\n",
       "149996        0        0            1        0.16           0\n",
       "149997        0        0            1        0.16           0\n",
       "149998        0        0            0        0.16           0\n",
       "149999        0        0            1        0.16           0\n",
       "\n",
       "[150000 rows x 5 columns]"
      ]
     },
     "execution_count": 11,
     "metadata": {},
     "output_type": "execute_result"
    }
   ],
   "source": [
    "ppl"
   ]
  },
  {
   "cell_type": "code",
   "execution_count": 12,
   "id": "87eef4e4",
   "metadata": {},
   "outputs": [],
   "source": [
    "# check that mkt_neg people have a greater prob_churn than non-mkt_neg ppl for a 2 sample ttest\n",
    "\n",
    "# COULD DO\n",
    "# prob_churn and will_churn should be reasonably similar (to 2dp?)\n",
    "\n",
    "schema = pa.DataFrameSchema(\n",
    "    {\n",
    "        \"bad_exp\": pa.Column(int, pa.Check.isin([0, 1])),\n",
    "        \"mkt_neg\": pa.Column(int, pa.Check.isin([0, 1])),\n",
    "        #\"mkt_pos\": pa.Column(int, pa.Check.isin([0, 1])),\n",
    "        # gets_mkting should be circa 50%\n",
    "        \"gets_mkting\": pa.Column(int, [pa.Check.isin([0, 1]), pa.Check(lambda s: s.mean() > 0.45), pa.Check(lambda s: s.mean() < 0.55)]),\n",
    "        \"will_churn\": pa.Column(int, pa.Check.isin([0, 1])),\n",
    "        # prob_churn bounded [0, 1] and if mkt_neg is True then prob_churn should be greater than if mkt_neg if False\n",
    "        \"prob_churn\": pa.Column(\n",
    "            float,\n",
    "            [\n",
    "                pa.Check.le(1.0),\n",
    "                pa.Check.ge(0),\n",
    "                pa.Hypothesis.two_sample_ttest(\n",
    "                    sample1=1,\n",
    "                    sample2=0,\n",
    "                    groupby=\"mkt_neg\",\n",
    "                    relationship=\"greater_than\",\n",
    "                    alpha=0.05,\n",
    "                    equal_var=True,\n",
    "                ),\n",
    "            ],\n",
    "        ),\n",
    "    }, strict=True, ordered=False\n",
    ")\n",
    "schema.validate(ppl, lazy=True, );"
   ]
  },
  {
   "cell_type": "markdown",
   "id": "064611b6",
   "metadata": {},
   "source": [
    "# Look at some examples of those who do or don't churn"
   ]
  },
  {
   "cell_type": "code",
   "execution_count": 13,
   "id": "3de919f9",
   "metadata": {},
   "outputs": [
    {
     "data": {
      "text/html": [
       "<div>\n",
       "<style scoped>\n",
       "    .dataframe tbody tr th:only-of-type {\n",
       "        vertical-align: middle;\n",
       "    }\n",
       "\n",
       "    .dataframe tbody tr th {\n",
       "        vertical-align: top;\n",
       "    }\n",
       "\n",
       "    .dataframe thead th {\n",
       "        text-align: right;\n",
       "    }\n",
       "</style>\n",
       "<table border=\"1\" class=\"dataframe\">\n",
       "  <thead>\n",
       "    <tr style=\"text-align: right;\">\n",
       "      <th></th>\n",
       "      <th>bad_exp</th>\n",
       "      <th>mkt_neg</th>\n",
       "      <th>gets_mkting</th>\n",
       "      <th>prob_churn</th>\n",
       "      <th>will_churn</th>\n",
       "    </tr>\n",
       "  </thead>\n",
       "  <tbody>\n",
       "    <tr>\n",
       "      <th>10</th>\n",
       "      <td>1</td>\n",
       "      <td>0</td>\n",
       "      <td>1</td>\n",
       "      <td>0.26</td>\n",
       "      <td>1</td>\n",
       "    </tr>\n",
       "    <tr>\n",
       "      <th>16</th>\n",
       "      <td>1</td>\n",
       "      <td>1</td>\n",
       "      <td>1</td>\n",
       "      <td>0.76</td>\n",
       "      <td>1</td>\n",
       "    </tr>\n",
       "  </tbody>\n",
       "</table>\n",
       "</div>"
      ],
      "text/plain": [
       "    bad_exp  mkt_neg  gets_mkting  prob_churn  will_churn\n",
       "10        1        0            1        0.26           1\n",
       "16        1        1            1        0.76           1"
      ]
     },
     "execution_count": 13,
     "metadata": {},
     "output_type": "execute_result"
    }
   ],
   "source": [
    "ppl.query(\"will_churn==True and prob_churn > @BASE_CHURN\")[:2]"
   ]
  },
  {
   "cell_type": "code",
   "execution_count": 14,
   "id": "f78a7816",
   "metadata": {},
   "outputs": [
    {
     "data": {
      "text/html": [
       "<div>\n",
       "<style scoped>\n",
       "    .dataframe tbody tr th:only-of-type {\n",
       "        vertical-align: middle;\n",
       "    }\n",
       "\n",
       "    .dataframe tbody tr th {\n",
       "        vertical-align: top;\n",
       "    }\n",
       "\n",
       "    .dataframe thead th {\n",
       "        text-align: right;\n",
       "    }\n",
       "</style>\n",
       "<table border=\"1\" class=\"dataframe\">\n",
       "  <thead>\n",
       "    <tr style=\"text-align: right;\">\n",
       "      <th></th>\n",
       "      <th>bad_exp</th>\n",
       "      <th>mkt_neg</th>\n",
       "      <th>gets_mkting</th>\n",
       "      <th>prob_churn</th>\n",
       "      <th>will_churn</th>\n",
       "    </tr>\n",
       "  </thead>\n",
       "  <tbody>\n",
       "    <tr>\n",
       "      <th>1</th>\n",
       "      <td>0</td>\n",
       "      <td>0</td>\n",
       "      <td>1</td>\n",
       "      <td>0.16</td>\n",
       "      <td>1</td>\n",
       "    </tr>\n",
       "    <tr>\n",
       "      <th>6</th>\n",
       "      <td>0</td>\n",
       "      <td>0</td>\n",
       "      <td>1</td>\n",
       "      <td>0.16</td>\n",
       "      <td>1</td>\n",
       "    </tr>\n",
       "  </tbody>\n",
       "</table>\n",
       "</div>"
      ],
      "text/plain": [
       "   bad_exp  mkt_neg  gets_mkting  prob_churn  will_churn\n",
       "1        0        0            1        0.16           1\n",
       "6        0        0            1        0.16           1"
      ]
     },
     "execution_count": 14,
     "metadata": {},
     "output_type": "execute_result"
    }
   ],
   "source": [
    "ppl.query(\"will_churn==True and prob_churn == @BASE_CHURN\")[:2]"
   ]
  },
  {
   "cell_type": "code",
   "execution_count": 15,
   "id": "4403b4eb",
   "metadata": {},
   "outputs": [
    {
     "data": {
      "text/html": [
       "<div>\n",
       "<style scoped>\n",
       "    .dataframe tbody tr th:only-of-type {\n",
       "        vertical-align: middle;\n",
       "    }\n",
       "\n",
       "    .dataframe tbody tr th {\n",
       "        vertical-align: top;\n",
       "    }\n",
       "\n",
       "    .dataframe thead th {\n",
       "        text-align: right;\n",
       "    }\n",
       "</style>\n",
       "<table border=\"1\" class=\"dataframe\">\n",
       "  <thead>\n",
       "    <tr style=\"text-align: right;\">\n",
       "      <th></th>\n",
       "      <th>bad_exp</th>\n",
       "      <th>mkt_neg</th>\n",
       "      <th>gets_mkting</th>\n",
       "      <th>prob_churn</th>\n",
       "      <th>will_churn</th>\n",
       "    </tr>\n",
       "  </thead>\n",
       "  <tbody>\n",
       "    <tr>\n",
       "      <th>0</th>\n",
       "      <td>0</td>\n",
       "      <td>0</td>\n",
       "      <td>1</td>\n",
       "      <td>0.16</td>\n",
       "      <td>0</td>\n",
       "    </tr>\n",
       "    <tr>\n",
       "      <th>2</th>\n",
       "      <td>0</td>\n",
       "      <td>0</td>\n",
       "      <td>0</td>\n",
       "      <td>0.16</td>\n",
       "      <td>0</td>\n",
       "    </tr>\n",
       "  </tbody>\n",
       "</table>\n",
       "</div>"
      ],
      "text/plain": [
       "   bad_exp  mkt_neg  gets_mkting  prob_churn  will_churn\n",
       "0        0        0            1        0.16           0\n",
       "2        0        0            0        0.16           0"
      ]
     },
     "execution_count": 15,
     "metadata": {},
     "output_type": "execute_result"
    }
   ],
   "source": [
    "ppl.query(\"will_churn==False\")[:2]"
   ]
  },
  {
   "cell_type": "markdown",
   "id": "3b3c9726",
   "metadata": {},
   "source": [
    "# Start to prepare for ML"
   ]
  },
  {
   "cell_type": "code",
   "execution_count": 16,
   "id": "b7b03446",
   "metadata": {},
   "outputs": [
    {
     "data": {
      "text/plain": [
       "Index(['bad_exp', 'mkt_neg', 'gets_mkting', 'prob_churn', 'will_churn'], dtype='object')"
      ]
     },
     "execution_count": 16,
     "metadata": {},
     "output_type": "execute_result"
    }
   ],
   "source": [
    "ppl.columns"
   ]
  },
  {
   "cell_type": "code",
   "execution_count": 17,
   "id": "90564487",
   "metadata": {},
   "outputs": [
    {
     "name": "stdout",
     "output_type": "stream",
     "text": [
      "Using: ['mkt_neg', 'bad_exp']\n"
     ]
    }
   ],
   "source": [
    "features = [\"mkt_neg\", 'bad_exp']\n",
    "#, 'mkt_pos']\n",
    "assert len(set(features)) == len(features), \"Not expecting duplicates\"\n",
    "print(f\"Using: {features}\")\n",
    "\n",
    "# check we've not forgotten any columns as new features\n",
    "non_features = set(ppl.columns).difference(set(features)).difference({'will_churn', 'prob_churn', 'gets_mkting'})\n",
    "\n",
    "if len(non_features) > 0:\n",
    "    print(f\"IGNORING !!!!!!! {non_features}\")\n",
    "    1/0 # we shouldn't get here"
   ]
  },
  {
   "cell_type": "code",
   "execution_count": 18,
   "id": "c9518c76",
   "metadata": {},
   "outputs": [
    {
     "name": "stdout",
     "output_type": "stream",
     "text": [
      "[(100000, 5), (50000, 5), (100000, 2), (50000, 2), (100000,), (50000,)]\n"
     ]
    }
   ],
   "source": [
    "ppl_train, ppl_test, X_train, X_test, y_train, y_test = train_test_split(\n",
    "    ppl, ppl[features], ppl[\"will_churn\"], test_size=TEST_SIZE, shuffle=True\n",
    ")\n",
    "print(list(x.shape for x in [ppl_train, ppl_test, X_train, X_test, y_train, y_test]))"
   ]
  },
  {
   "cell_type": "code",
   "execution_count": 19,
   "id": "85a8d6b5",
   "metadata": {},
   "outputs": [
    {
     "data": {
      "text/plain": [
       "0.5380927780174926"
      ]
     },
     "execution_count": 19,
     "metadata": {},
     "output_type": "execute_result"
    }
   ],
   "source": [
    "est_dummy = DummyClassifier(strategy=\"prior\")\n",
    "est_dummy.fit(X_train, y_train)\n",
    "\n",
    "dummy_proba_pos = est_dummy.predict_proba(X_test)[:, 1]\n",
    "log_loss(y_test, dummy_proba_pos)"
   ]
  },
  {
   "cell_type": "code",
   "execution_count": 20,
   "id": "5c2c4878",
   "metadata": {},
   "outputs": [],
   "source": [
    "base_model = LogisticRegression"
   ]
  },
  {
   "cell_type": "code",
   "execution_count": 21,
   "id": "964cc52d",
   "metadata": {},
   "outputs": [
    {
     "name": "stdout",
     "output_type": "stream",
     "text": [
      "Fitting churn model with <class 'sklearn.linear_model._logistic.LogisticRegression'>\n"
     ]
    },
    {
     "data": {
      "text/plain": [
       "0.5084194948157862"
      ]
     },
     "execution_count": 21,
     "metadata": {},
     "output_type": "execute_result"
    }
   ],
   "source": [
    "churn_model = base_model\n",
    "#churn_model = LogisticRegression\n",
    "#churn_model = partial(RandomForestClassifier, n_estimators=10)\n",
    "est_churn = churn_model()\n",
    "est_churn.fit(X_train, y_train)\n",
    "print(f\"Fitting churn model with {churn_model}\")\n",
    "\n",
    "y_pred = est_churn.predict_proba(X_test)\n",
    "y_pred_proba_pos = y_pred[:, 1]\n",
    "log_loss(y_test, y_pred_proba_pos)"
   ]
  },
  {
   "cell_type": "markdown",
   "id": "74556717",
   "metadata": {},
   "source": [
    "## Start to prepare for dual fit"
   ]
  },
  {
   "cell_type": "code",
   "execution_count": 22,
   "id": "64f14ba5",
   "metadata": {},
   "outputs": [
    {
     "name": "stdout",
     "output_type": "stream",
     "text": [
      "Building a C and T model with LogisticRegression() and LogisticRegression()\n",
      "0.46964307590655896\n",
      "0.4931459452108347\n"
     ]
    }
   ],
   "source": [
    "# TODO duplication here will hurt and will make debugging much\n",
    "# harder, this needs simplifying!\n",
    "# higher logloss is worse\n",
    "uplift_model = base_model\n",
    "#uplift_model = LogisticRegression\n",
    "#uplift_model = partial(RandomForestClassifier, n_estimators=10)\n",
    "est_up_c = uplift_model()\n",
    "est_up_t = uplift_model()\n",
    "\n",
    "print(f\"Building a C and T model with {est_up_c} and {est_up_t}\")\n",
    "\n",
    "mask_train_c = ppl_train[\"gets_mkting\"] == 0\n",
    "mask_train_t = ppl_train[\"gets_mkting\"] == 1\n",
    "\n",
    "est_up_c.fit(X_train[mask_train_c], y_train[mask_train_c])\n",
    "est_up_t.fit(X_train[mask_train_t], y_train[mask_train_t])\n",
    "\n",
    "# score on their sub-trained population type\n",
    "mask_test_c = ppl_test[\"gets_mkting\"] == 0\n",
    "mask_test_t = ppl_test[\"gets_mkting\"] == 1\n",
    "up_c_pred_proba_pos = est_up_c.predict_proba(X_test[mask_test_c])[:, 1]\n",
    "up_t_pred_proba_pos = est_up_t.predict_proba(X_test[mask_test_t])[:, 1]\n",
    "\n",
    "print(log_loss(y_test[mask_test_c], up_c_pred_proba_pos))\n",
    "print(\n",
    "    log_loss(y_test[mask_test_t], up_t_pred_proba_pos)\n",
    ")  # CHECK expect lower than control"
   ]
  },
  {
   "cell_type": "markdown",
   "id": "11c191b9",
   "metadata": {},
   "source": [
    "## Check C and T predictions from Uplift model"
   ]
  },
  {
   "cell_type": "code",
   "execution_count": 23,
   "id": "49274f47",
   "metadata": {},
   "outputs": [
    {
     "data": {
      "text/plain": [
       "count    24995.000000\n",
       "mean         0.179785\n",
       "std          0.041098\n",
       "min          0.157140\n",
       "25%          0.157140\n",
       "50%          0.157140\n",
       "75%          0.169537\n",
       "max          0.276276\n",
       "dtype: float64"
      ]
     },
     "execution_count": 23,
     "metadata": {},
     "output_type": "execute_result"
    }
   ],
   "source": [
    "pd.Series(up_c_pred_proba_pos).describe()"
   ]
  },
  {
   "cell_type": "code",
   "execution_count": 24,
   "id": "9ea02f73",
   "metadata": {},
   "outputs": [
    {
     "data": {
      "text/plain": [
       "count    25005.000000\n",
       "mean         0.280190\n",
       "std          0.203749\n",
       "min          0.160726\n",
       "25%          0.160726\n",
       "50%          0.160726\n",
       "75%          0.258926\n",
       "max          0.776288\n",
       "dtype: float64"
      ]
     },
     "execution_count": 24,
     "metadata": {},
     "output_type": "execute_result"
    }
   ],
   "source": [
    "pd.Series(up_t_pred_proba_pos).describe()"
   ]
  },
  {
   "cell_type": "markdown",
   "id": "d43617a8",
   "metadata": {},
   "source": [
    "# Gains chart\n",
    "\n",
    "Note if T prob guessed more-wrong than C prob then it is possible for a decreasing gains line."
   ]
  },
  {
   "cell_type": "code",
   "execution_count": 25,
   "id": "f0d096e8",
   "metadata": {},
   "outputs": [],
   "source": [
    "if False:\n",
    "    # incorrect for uplift! # WRONG\n",
    "    result = pd.DataFrame({\"churn_proba_pos\": y_pred_proba_pos, \"y_true\": y_test})\n",
    "    result[\"dummy_proba_pos\"] = est_dummy.predict_proba(X_test)[:, 1]\n",
    "\n",
    "    result[\"uplift_proba_pos\"] = -1\n",
    "    result.loc[mask_test_t, \"uplift_proba_pos\"] = up_t_pred_proba_pos\n",
    "    result.loc[mask_test_c, \"uplift_proba_pos\"] = up_c_pred_proba_pos\n",
    "    assert (result['uplift_proba_pos'] == -1).sum() == 0, \"No entries for -1 expected\"\n",
    "\n",
    "    fig, ax = plt.subplots(figsize=(8, 8), constrained_layout=True)\n",
    "    fig.suptitle(\"Gains curve - Positive divergence\\nmeans better ordering\")\n",
    "    keys = [\"uplift_proba_pos\", \"churn_proba_pos\", \"dummy_proba_pos\"]\n",
    "    for key in keys:\n",
    "        result_sorted = result.sort_values(key, ascending=False).reset_index()\n",
    "        result_sorted[\"y_true_cum\"] = result_sorted[\"y_true\"].cumsum()\n",
    "        result_sorted.plot(kind=\"line\", y=\"y_true_cum\", ax=ax, label=key)\n",
    "    ax.set_ylabel(\"True Positives (faster climb better)\")\n",
    "    ax.set_xlabel(\"Test population\");\n",
    "\n",
    "    set_common_mpl_styles(ax, grid_axis=\"both\")\n",
    "    #set_commas(ax, True, True)\n",
    "\n",
    "    #ax.set_xlim((10_000, result.shape[0]-1)); # zoom on x axis"
   ]
  },
  {
   "cell_type": "code",
   "execution_count": 26,
   "id": "2760dabf",
   "metadata": {},
   "outputs": [
    {
     "data": {
      "image/png": "[encoded data removed]",
      "text/plain": [
       "<Figure size 576x576 with 1 Axes>"
      ]
     },
     "metadata": {
      "needs_background": "light"
     },
     "output_type": "display_data"
    }
   ],
   "source": [
    "# incorrect for uplift!\n",
    "result = pd.DataFrame({\"y_true\": y_test})\n",
    "\n",
    "result[\"churn_proba_pos\"] = est_churn.predict_proba(X_test)[:, 1]\n",
    "result[\"dummy_proba_pos\"] = est_dummy.predict_proba(X_test)[:, 1]\n",
    "\n",
    "\n",
    "result['up_proba_c'] = est_up_c.predict_proba(X_test)[:, 1]\n",
    "result['up_proba_t'] = est_up_t.predict_proba(X_test)[:, 1]\n",
    "# if T says 90% prob churn conditional mkting, C says 10% prob churn then +80%\n",
    "# if T says 10% prob churn conditional mkting, C says 90% prob churn then -80%\n",
    "result['uplift_diff_t_c'] = result['up_proba_t'] - result['up_proba_c']\n",
    "#result['uplift_diff_t_c'] = result['up_proba_c'] - result['up_proba_t']\n",
    "\n",
    "fig, ax = plt.subplots(figsize=(8, 8), constrained_layout=True)\n",
    "fig.suptitle(\"Gains curve - Positive divergence\\nmeans better ordering\")\n",
    "#key = 'uplift_diff_t_c'\n",
    "#keys = ['uplift_diff_t_c', 'churn_proba_pos', 'dummy_proba_pos']\n",
    "keys = ['uplift_diff_t_c', 'up_proba_c', 'up_proba_t', 'dummy_proba_pos']#, 'churn_proba_pos']\n",
    "for key in keys:\n",
    "    result_sorted = result.sort_values(key, ascending=False).reset_index()\n",
    "    result_sorted[\"y_true_cum\"] = result_sorted[\"y_true\"].cumsum()\n",
    "    result_sorted.plot(kind=\"line\", y=\"y_true_cum\", ax=ax, label=key)\n",
    "ax.set_ylabel(\"True Positives (faster climb better)\")\n",
    "ax.set_xlabel(\"Test population\");\n",
    "\n",
    "set_common_mpl_styles(ax, grid_axis=\"both\")\n",
    "#set_commas(ax, True, True)\n",
    "\n",
    "#ax.set_xlim((10_000, result.shape[0]-1)); # zoom on x axis"
   ]
  },
  {
   "cell_type": "code",
   "execution_count": 27,
   "id": "ff9da7f9",
   "metadata": {},
   "outputs": [
    {
     "data": {
      "text/plain": [
       "<AxesSubplot:>"
      ]
     },
     "execution_count": 27,
     "metadata": {},
     "output_type": "execute_result"
    },
    {
     "data": {
      "image/png": "[encoded data removed]",
      "text/plain": [
       "<Figure size 432x288 with 1 Axes>"
      ]
     },
     "metadata": {
      "needs_background": "light"
     },
     "output_type": "display_data"
    }
   ],
   "source": [
    "# sort by predicted uplift, the earliest values have lowest chance of churn if marketed at or are sure things,\n",
    "# the last values have highest chance of churn if marketed at (sleeping dogs) or are lost causes\n",
    "result.sort_values('uplift_diff_t_c', ascending=False)['uplift_diff_t_c'].reset_index(drop=True).plot()"
   ]
  },
  {
   "cell_type": "code",
   "execution_count": 28,
   "id": "10c9f368",
   "metadata": {},
   "outputs": [
    {
     "data": {
      "text/html": [
       "<div>\n",
       "<style scoped>\n",
       "    .dataframe tbody tr th:only-of-type {\n",
       "        vertical-align: middle;\n",
       "    }\n",
       "\n",
       "    .dataframe tbody tr th {\n",
       "        vertical-align: top;\n",
       "    }\n",
       "\n",
       "    .dataframe thead th {\n",
       "        text-align: right;\n",
       "    }\n",
       "</style>\n",
       "<table border=\"1\" class=\"dataframe\">\n",
       "  <thead>\n",
       "    <tr style=\"text-align: right;\">\n",
       "      <th></th>\n",
       "      <th>y_true</th>\n",
       "      <th>churn_proba_pos</th>\n",
       "      <th>dummy_proba_pos</th>\n",
       "      <th>up_proba_c</th>\n",
       "      <th>up_proba_t</th>\n",
       "      <th>uplift_diff_t_c</th>\n",
       "      <th>bad_exp</th>\n",
       "      <th>mkt_neg</th>\n",
       "      <th>gets_mkting</th>\n",
       "      <th>prob_churn</th>\n",
       "      <th>will_churn</th>\n",
       "    </tr>\n",
       "  </thead>\n",
       "  <tbody>\n",
       "    <tr>\n",
       "      <th>16610</th>\n",
       "      <td>0</td>\n",
       "      <td>0.160387</td>\n",
       "      <td>0.2301</td>\n",
       "      <td>0.157140</td>\n",
       "      <td>0.160726</td>\n",
       "      <td>0.003586</td>\n",
       "      <td>0</td>\n",
       "      <td>0</td>\n",
       "      <td>1</td>\n",
       "      <td>0.16</td>\n",
       "      <td>0</td>\n",
       "    </tr>\n",
       "    <tr>\n",
       "      <th>37587</th>\n",
       "      <td>1</td>\n",
       "      <td>0.160387</td>\n",
       "      <td>0.2301</td>\n",
       "      <td>0.157140</td>\n",
       "      <td>0.160726</td>\n",
       "      <td>0.003586</td>\n",
       "      <td>0</td>\n",
       "      <td>0</td>\n",
       "      <td>1</td>\n",
       "      <td>0.16</td>\n",
       "      <td>1</td>\n",
       "    </tr>\n",
       "    <tr>\n",
       "      <th>115188</th>\n",
       "      <td>0</td>\n",
       "      <td>0.160387</td>\n",
       "      <td>0.2301</td>\n",
       "      <td>0.157140</td>\n",
       "      <td>0.160726</td>\n",
       "      <td>0.003586</td>\n",
       "      <td>0</td>\n",
       "      <td>0</td>\n",
       "      <td>0</td>\n",
       "      <td>0.16</td>\n",
       "      <td>0</td>\n",
       "    </tr>\n",
       "    <tr>\n",
       "      <th>1939</th>\n",
       "      <td>0</td>\n",
       "      <td>0.160387</td>\n",
       "      <td>0.2301</td>\n",
       "      <td>0.157140</td>\n",
       "      <td>0.160726</td>\n",
       "      <td>0.003586</td>\n",
       "      <td>0</td>\n",
       "      <td>0</td>\n",
       "      <td>0</td>\n",
       "      <td>0.16</td>\n",
       "      <td>0</td>\n",
       "    </tr>\n",
       "    <tr>\n",
       "      <th>149023</th>\n",
       "      <td>0</td>\n",
       "      <td>0.160387</td>\n",
       "      <td>0.2301</td>\n",
       "      <td>0.157140</td>\n",
       "      <td>0.160726</td>\n",
       "      <td>0.003586</td>\n",
       "      <td>0</td>\n",
       "      <td>0</td>\n",
       "      <td>0</td>\n",
       "      <td>0.16</td>\n",
       "      <td>0</td>\n",
       "    </tr>\n",
       "    <tr>\n",
       "      <th>31285</th>\n",
       "      <td>0</td>\n",
       "      <td>0.160387</td>\n",
       "      <td>0.2301</td>\n",
       "      <td>0.157140</td>\n",
       "      <td>0.160726</td>\n",
       "      <td>0.003586</td>\n",
       "      <td>0</td>\n",
       "      <td>0</td>\n",
       "      <td>0</td>\n",
       "      <td>0.16</td>\n",
       "      <td>0</td>\n",
       "    </tr>\n",
       "    <tr>\n",
       "      <th>62527</th>\n",
       "      <td>0</td>\n",
       "      <td>0.160387</td>\n",
       "      <td>0.2301</td>\n",
       "      <td>0.157140</td>\n",
       "      <td>0.160726</td>\n",
       "      <td>0.003586</td>\n",
       "      <td>0</td>\n",
       "      <td>0</td>\n",
       "      <td>1</td>\n",
       "      <td>0.16</td>\n",
       "      <td>0</td>\n",
       "    </tr>\n",
       "    <tr>\n",
       "      <th>36026</th>\n",
       "      <td>0</td>\n",
       "      <td>0.160387</td>\n",
       "      <td>0.2301</td>\n",
       "      <td>0.157140</td>\n",
       "      <td>0.160726</td>\n",
       "      <td>0.003586</td>\n",
       "      <td>0</td>\n",
       "      <td>0</td>\n",
       "      <td>1</td>\n",
       "      <td>0.16</td>\n",
       "      <td>0</td>\n",
       "    </tr>\n",
       "    <tr>\n",
       "      <th>35328</th>\n",
       "      <td>0</td>\n",
       "      <td>0.252774</td>\n",
       "      <td>0.2301</td>\n",
       "      <td>0.258504</td>\n",
       "      <td>0.258926</td>\n",
       "      <td>0.000422</td>\n",
       "      <td>1</td>\n",
       "      <td>0</td>\n",
       "      <td>0</td>\n",
       "      <td>0.26</td>\n",
       "      <td>0</td>\n",
       "    </tr>\n",
       "    <tr>\n",
       "      <th>51001</th>\n",
       "      <td>1</td>\n",
       "      <td>0.551367</td>\n",
       "      <td>0.2301</td>\n",
       "      <td>0.276276</td>\n",
       "      <td>0.776288</td>\n",
       "      <td>0.500012</td>\n",
       "      <td>1</td>\n",
       "      <td>1</td>\n",
       "      <td>1</td>\n",
       "      <td>0.76</td>\n",
       "      <td>1</td>\n",
       "    </tr>\n",
       "  </tbody>\n",
       "</table>\n",
       "</div>"
      ],
      "text/plain": [
       "        y_true  churn_proba_pos  dummy_proba_pos  up_proba_c  up_proba_t  \\\n",
       "16610        0         0.160387           0.2301    0.157140    0.160726   \n",
       "37587        1         0.160387           0.2301    0.157140    0.160726   \n",
       "115188       0         0.160387           0.2301    0.157140    0.160726   \n",
       "1939         0         0.160387           0.2301    0.157140    0.160726   \n",
       "149023       0         0.160387           0.2301    0.157140    0.160726   \n",
       "31285        0         0.160387           0.2301    0.157140    0.160726   \n",
       "62527        0         0.160387           0.2301    0.157140    0.160726   \n",
       "36026        0         0.160387           0.2301    0.157140    0.160726   \n",
       "35328        0         0.252774           0.2301    0.258504    0.258926   \n",
       "51001        1         0.551367           0.2301    0.276276    0.776288   \n",
       "\n",
       "        uplift_diff_t_c  bad_exp  mkt_neg  gets_mkting  prob_churn  will_churn  \n",
       "16610          0.003586        0        0            1        0.16           0  \n",
       "37587          0.003586        0        0            1        0.16           1  \n",
       "115188         0.003586        0        0            0        0.16           0  \n",
       "1939           0.003586        0        0            0        0.16           0  \n",
       "149023         0.003586        0        0            0        0.16           0  \n",
       "31285          0.003586        0        0            0        0.16           0  \n",
       "62527          0.003586        0        0            1        0.16           0  \n",
       "36026          0.003586        0        0            1        0.16           0  \n",
       "35328          0.000422        1        0            0        0.26           0  \n",
       "51001          0.500012        1        1            1        0.76           1  "
      ]
     },
     "execution_count": 28,
     "metadata": {},
     "output_type": "execute_result"
    }
   ],
   "source": [
    "test_merged = pd.merge(left=result, right=ppl_test, left_index=True, right_index=True, validate=\"one_to_one\")\n",
    "assert test_merged.shape[0] == TEST_SIZE\n",
    "test_merged.sample(10).sort_values('prob_churn')"
   ]
  },
  {
   "cell_type": "code",
   "execution_count": 54,
   "id": "f9ea62fb",
   "metadata": {},
   "outputs": [],
   "source": [
    "#test_merged_sorted = test_merged.sort_values('uplift_diff_t_c', ascending=False)\n",
    "test_merged['uplift_diff_t_c_bins'] = pd.cut(test_merged['uplift_diff_t_c'], 5)\n",
    "#test_merged['uplift_diff_t_c_bins'] = pd.qcut(test_merged['uplift_diff_t_c'], 2)\n",
    "#test_merged.groupby('bins')[['mkt_neg', 'bad_exp']].sum()"
   ]
  },
  {
   "cell_type": "code",
   "execution_count": 55,
   "id": "fa752afb",
   "metadata": {},
   "outputs": [
    {
     "data": {
      "text/plain": [
       "['mkt_neg', 'bad_exp']"
      ]
     },
     "execution_count": 55,
     "metadata": {},
     "output_type": "execute_result"
    }
   ],
   "source": [
    "features"
   ]
  },
  {
   "cell_type": "code",
   "execution_count": 56,
   "id": "ef954d91",
   "metadata": {},
   "outputs": [
    {
     "data": {
      "text/html": [
       "<div>\n",
       "<style scoped>\n",
       "    .dataframe tbody tr th:only-of-type {\n",
       "        vertical-align: middle;\n",
       "    }\n",
       "\n",
       "    .dataframe tbody tr th {\n",
       "        vertical-align: top;\n",
       "    }\n",
       "\n",
       "    .dataframe thead th {\n",
       "        text-align: right;\n",
       "    }\n",
       "</style>\n",
       "<table border=\"1\" class=\"dataframe\">\n",
       "  <thead>\n",
       "    <tr style=\"text-align: right;\">\n",
       "      <th></th>\n",
       "      <th>mkt_neg_sum</th>\n",
       "      <th>bad_exp_sum</th>\n",
       "      <th>up_proba_c_mean</th>\n",
       "      <th>up_proba_t_mean</th>\n",
       "      <th>count</th>\n",
       "    </tr>\n",
       "    <tr>\n",
       "      <th>uplift_diff_t_c_bins</th>\n",
       "      <th></th>\n",
       "      <th></th>\n",
       "      <th></th>\n",
       "      <th></th>\n",
       "      <th></th>\n",
       "    </tr>\n",
       "  </thead>\n",
       "  <tbody>\n",
       "    <tr>\n",
       "      <th>(-7.8e-05, 0.1]</th>\n",
       "      <td>0</td>\n",
       "      <td>7912</td>\n",
       "      <td>0.177230</td>\n",
       "      <td>0.180189</td>\n",
       "      <td>39920</td>\n",
       "    </tr>\n",
       "    <tr>\n",
       "      <th>(0.1, 0.2]</th>\n",
       "      <td>0</td>\n",
       "      <td>0</td>\n",
       "      <td>NaN</td>\n",
       "      <td>NaN</td>\n",
       "      <td>0</td>\n",
       "    </tr>\n",
       "    <tr>\n",
       "      <th>(0.2, 0.3]</th>\n",
       "      <td>0</td>\n",
       "      <td>0</td>\n",
       "      <td>NaN</td>\n",
       "      <td>NaN</td>\n",
       "      <td>0</td>\n",
       "    </tr>\n",
       "    <tr>\n",
       "      <th>(0.3, 0.4]</th>\n",
       "      <td>0</td>\n",
       "      <td>0</td>\n",
       "      <td>NaN</td>\n",
       "      <td>NaN</td>\n",
       "      <td>0</td>\n",
       "    </tr>\n",
       "    <tr>\n",
       "      <th>(0.4, 0.5]</th>\n",
       "      <td>10080</td>\n",
       "      <td>2001</td>\n",
       "      <td>0.190726</td>\n",
       "      <td>0.679402</td>\n",
       "      <td>10080</td>\n",
       "    </tr>\n",
       "  </tbody>\n",
       "</table>\n",
       "</div>"
      ],
      "text/plain": [
       "                      mkt_neg_sum  bad_exp_sum  up_proba_c_mean  \\\n",
       "uplift_diff_t_c_bins                                              \n",
       "(-7.8e-05, 0.1]                 0         7912         0.177230   \n",
       "(0.1, 0.2]                      0            0              NaN   \n",
       "(0.2, 0.3]                      0            0              NaN   \n",
       "(0.3, 0.4]                      0            0              NaN   \n",
       "(0.4, 0.5]                  10080         2001         0.190726   \n",
       "\n",
       "                      up_proba_t_mean  count  \n",
       "uplift_diff_t_c_bins                          \n",
       "(-7.8e-05, 0.1]              0.180189  39920  \n",
       "(0.1, 0.2]                        NaN      0  \n",
       "(0.2, 0.3]                        NaN      0  \n",
       "(0.3, 0.4]                        NaN      0  \n",
       "(0.4, 0.5]                   0.679402  10080  "
      ]
     },
     "execution_count": 56,
     "metadata": {},
     "output_type": "execute_result"
    }
   ],
   "source": [
    "# with 50k test we have 10k per group\n",
    "test_merged.groupby('uplift_diff_t_c_bins').agg(mkt_neg_sum=pd.NamedAgg('mkt_neg', 'sum'),\n",
    "                               bad_exp_sum=pd.NamedAgg('bad_exp', 'sum'),\n",
    "                               up_proba_c_mean=pd.NamedAgg('up_proba_c', 'mean'),\n",
    "                               up_proba_t_mean=pd.NamedAgg('up_proba_t', 'mean'),\n",
    "                                               count=pd.NamedAgg('mkt_neg', 'size'))"
   ]
  },
  {
   "cell_type": "code",
   "execution_count": 33,
   "id": "03f5a324",
   "metadata": {},
   "outputs": [],
   "source": [
    "#test_merged_sorted = test_merged.sort_values('uplift_diff_t_c', ascending=False)\n",
    "#test_merged_sorted['bins'] = pd.cut(test_merged_sorted.index, 10)\n",
    "#test_merged_sorted.groupby('bins')[['mkt_neg', 'bad_exp']].sum()"
   ]
  },
  {
   "cell_type": "code",
   "execution_count": null,
   "id": "d4e1cea0",
   "metadata": {},
   "outputs": [],
   "source": []
  }
 ],
 "metadata": {
  "kernelspec": {
   "display_name": "Python 3 (ipykernel)",
   "language": "python",
   "name": "python3"
  },
  "language_info": {
   "codemirror_mode": {
    "name": "ipython",
    "version": 3
   },
   "file_extension": ".py",
   "mimetype": "text/x-python",
   "name": "python",
   "nbconvert_exporter": "python",
   "pygments_lexer": "ipython3",
   "version": "3.10.2"
  }
 },
 "nbformat": 4,
 "nbformat_minor": 5
}
