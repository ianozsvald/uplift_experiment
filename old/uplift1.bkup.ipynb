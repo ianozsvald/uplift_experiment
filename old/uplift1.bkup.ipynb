{
 "cells": [
  {
   "cell_type": "code",
   "execution_count": 1,
   "id": "c71ebfb3",
   "metadata": {},
   "outputs": [],
   "source": [
    "import pandas as pd\n",
    "import numpy as np\n",
    "\n",
    "rng = np.random.default_rng(seed=0)"
   ]
  },
  {
   "cell_type": "code",
   "execution_count": 17,
   "id": "0a982418",
   "metadata": {},
   "outputs": [],
   "source": [
    "SIZE = 10_000\n",
    "# rng.binomial(nbr events e.g. 1 means 0 or 1, p is probability of True, size is nbr of items to generate)\n",
    "\n",
    "# a bad_exp means they had a problem (e.g. bad insurance claim, hard time with mobile phone tech support),\n",
    "# this increases their likelihood of churn\n",
    "# mkt_neg means they really don't like getting marketing and this will increase their likelihood of churn\n",
    "# gets_mkting is a 50/50 split for Treatment (True) or Control (False)\n",
    "\n",
    "BASE_CHURN = 0.15  # expected base churn rate\n",
    "\n",
    "ppl = pd.DataFrame(\n",
    "    {\n",
    "        # \"bad_exp\": rng.binomial(\n",
    "        #    1, 0.1, SIZE\n",
    "        # ),  # True if they had a bad experience with company\n",
    "        \"mkt_neg\": rng.binomial(\n",
    "            1, 0.1, SIZE\n",
    "        ),  # True if receiving marketing will increase churn probability for them\n",
    "    }\n",
    ")\n",
    "ppl[\"gets_mkting\"] = rng.binomial(1, 0.5, SIZE)\n",
    "\n",
    "ppl[\"prob_churn\"] = BASE_CHURN  # a reasonably standard churn rate"
   ]
  },
  {
   "cell_type": "code",
   "execution_count": 22,
   "id": "1e79350d",
   "metadata": {},
   "outputs": [
    {
     "data": {
      "text/html": [
       "<div>\n",
       "<style scoped>\n",
       "    .dataframe tbody tr th:only-of-type {\n",
       "        vertical-align: middle;\n",
       "    }\n",
       "\n",
       "    .dataframe tbody tr th {\n",
       "        vertical-align: top;\n",
       "    }\n",
       "\n",
       "    .dataframe thead th {\n",
       "        text-align: right;\n",
       "    }\n",
       "</style>\n",
       "<table border=\"1\" class=\"dataframe\">\n",
       "  <thead>\n",
       "    <tr style=\"text-align: right;\">\n",
       "      <th></th>\n",
       "      <th>mkt_neg</th>\n",
       "      <th>gets_mkting</th>\n",
       "      <th>prob_churn</th>\n",
       "    </tr>\n",
       "  </thead>\n",
       "  <tbody>\n",
       "    <tr>\n",
       "      <th>3967</th>\n",
       "      <td>1</td>\n",
       "      <td>1</td>\n",
       "      <td>1.15</td>\n",
       "    </tr>\n",
       "    <tr>\n",
       "      <th>1989</th>\n",
       "      <td>1</td>\n",
       "      <td>1</td>\n",
       "      <td>1.15</td>\n",
       "    </tr>\n",
       "    <tr>\n",
       "      <th>9597</th>\n",
       "      <td>1</td>\n",
       "      <td>1</td>\n",
       "      <td>1.15</td>\n",
       "    </tr>\n",
       "    <tr>\n",
       "      <th>4809</th>\n",
       "      <td>1</td>\n",
       "      <td>1</td>\n",
       "      <td>1.15</td>\n",
       "    </tr>\n",
       "    <tr>\n",
       "      <th>4583</th>\n",
       "      <td>1</td>\n",
       "      <td>1</td>\n",
       "      <td>1.15</td>\n",
       "    </tr>\n",
       "  </tbody>\n",
       "</table>\n",
       "</div>"
      ],
      "text/plain": [
       "      mkt_neg  gets_mkting  prob_churn\n",
       "3967        1            1        1.15\n",
       "1989        1            1        1.15\n",
       "9597        1            1        1.15\n",
       "4809        1            1        1.15\n",
       "4583        1            1        1.15"
      ]
     },
     "execution_count": 22,
     "metadata": {},
     "output_type": "execute_result"
    }
   ],
   "source": [
    "# people who hate marketing and who get marketing have a higher chance of churning\n",
    "mask = (ppl[\"mkt_neg\"] & ppl[\"gets_mkting\"]) == 1 # trues are 1s (ints)\n",
    "ppl.loc[mask, \"prob_churn\"] += 0.25 # TODO HUGE CHANGE !!!!\n",
    "assert (\n",
    "    mask.sum() / mask.shape[0] < 0.2\n",
    "), \"Not expecting a high rate of churn even with random variation\"\n",
    "ppl[mask].sample(5)"
   ]
  },
  {
   "cell_type": "code",
   "execution_count": 4,
   "id": "733c84ff",
   "metadata": {},
   "outputs": [],
   "source": [
    "ppl[\"will_churn\"] = rng.binomial(1, ppl[\"prob_churn\"], ppl.shape[0])"
   ]
  },
  {
   "cell_type": "code",
   "execution_count": 5,
   "id": "4694c494",
   "metadata": {},
   "outputs": [
    {
     "data": {
      "text/html": [
       "<div>\n",
       "<style scoped>\n",
       "    .dataframe tbody tr th:only-of-type {\n",
       "        vertical-align: middle;\n",
       "    }\n",
       "\n",
       "    .dataframe tbody tr th {\n",
       "        vertical-align: top;\n",
       "    }\n",
       "\n",
       "    .dataframe thead th {\n",
       "        text-align: right;\n",
       "    }\n",
       "</style>\n",
       "<table border=\"1\" class=\"dataframe\">\n",
       "  <thead>\n",
       "    <tr style=\"text-align: right;\">\n",
       "      <th></th>\n",
       "      <th>mkt_neg</th>\n",
       "      <th>gets_mkting</th>\n",
       "      <th>prob_churn</th>\n",
       "      <th>will_churn</th>\n",
       "    </tr>\n",
       "  </thead>\n",
       "  <tbody>\n",
       "    <tr>\n",
       "      <th>0</th>\n",
       "      <td>0</td>\n",
       "      <td>1</td>\n",
       "      <td>0.15</td>\n",
       "      <td>1</td>\n",
       "    </tr>\n",
       "    <tr>\n",
       "      <th>1</th>\n",
       "      <td>0</td>\n",
       "      <td>1</td>\n",
       "      <td>0.15</td>\n",
       "      <td>0</td>\n",
       "    </tr>\n",
       "    <tr>\n",
       "      <th>2</th>\n",
       "      <td>0</td>\n",
       "      <td>1</td>\n",
       "      <td>0.15</td>\n",
       "      <td>0</td>\n",
       "    </tr>\n",
       "    <tr>\n",
       "      <th>3</th>\n",
       "      <td>0</td>\n",
       "      <td>1</td>\n",
       "      <td>0.15</td>\n",
       "      <td>0</td>\n",
       "    </tr>\n",
       "    <tr>\n",
       "      <th>4</th>\n",
       "      <td>0</td>\n",
       "      <td>1</td>\n",
       "      <td>0.15</td>\n",
       "      <td>0</td>\n",
       "    </tr>\n",
       "  </tbody>\n",
       "</table>\n",
       "</div>"
      ],
      "text/plain": [
       "   mkt_neg  gets_mkting  prob_churn  will_churn\n",
       "0        0            1        0.15           1\n",
       "1        0            1        0.15           0\n",
       "2        0            1        0.15           0\n",
       "3        0            1        0.15           0\n",
       "4        0            1        0.15           0"
      ]
     },
     "execution_count": 5,
     "metadata": {},
     "output_type": "execute_result"
    }
   ],
   "source": [
    "ppl.head()"
   ]
  },
  {
   "cell_type": "code",
   "execution_count": 6,
   "id": "b5632daa",
   "metadata": {},
   "outputs": [
    {
     "data": {
      "text/html": [
       "<div>\n",
       "<style scoped>\n",
       "    .dataframe tbody tr th:only-of-type {\n",
       "        vertical-align: middle;\n",
       "    }\n",
       "\n",
       "    .dataframe tbody tr th {\n",
       "        vertical-align: top;\n",
       "    }\n",
       "\n",
       "    .dataframe thead th {\n",
       "        text-align: right;\n",
       "    }\n",
       "</style>\n",
       "<table border=\"1\" class=\"dataframe\">\n",
       "  <thead>\n",
       "    <tr style=\"text-align: right;\">\n",
       "      <th></th>\n",
       "      <th>mkt_neg</th>\n",
       "      <th>gets_mkting</th>\n",
       "      <th>prob_churn</th>\n",
       "      <th>will_churn</th>\n",
       "    </tr>\n",
       "  </thead>\n",
       "  <tbody>\n",
       "    <tr>\n",
       "      <th>count</th>\n",
       "      <td>10000.00000</td>\n",
       "      <td>10000.000000</td>\n",
       "      <td>10000.000000</td>\n",
       "      <td>10000.00000</td>\n",
       "    </tr>\n",
       "    <tr>\n",
       "      <th>mean</th>\n",
       "      <td>0.09800</td>\n",
       "      <td>0.505700</td>\n",
       "      <td>0.162350</td>\n",
       "      <td>0.15950</td>\n",
       "    </tr>\n",
       "    <tr>\n",
       "      <th>std</th>\n",
       "      <td>0.29733</td>\n",
       "      <td>0.499993</td>\n",
       "      <td>0.054178</td>\n",
       "      <td>0.36616</td>\n",
       "    </tr>\n",
       "    <tr>\n",
       "      <th>min</th>\n",
       "      <td>0.00000</td>\n",
       "      <td>0.000000</td>\n",
       "      <td>0.150000</td>\n",
       "      <td>0.00000</td>\n",
       "    </tr>\n",
       "    <tr>\n",
       "      <th>25%</th>\n",
       "      <td>0.00000</td>\n",
       "      <td>0.000000</td>\n",
       "      <td>0.150000</td>\n",
       "      <td>0.00000</td>\n",
       "    </tr>\n",
       "    <tr>\n",
       "      <th>50%</th>\n",
       "      <td>0.00000</td>\n",
       "      <td>1.000000</td>\n",
       "      <td>0.150000</td>\n",
       "      <td>0.00000</td>\n",
       "    </tr>\n",
       "    <tr>\n",
       "      <th>75%</th>\n",
       "      <td>0.00000</td>\n",
       "      <td>1.000000</td>\n",
       "      <td>0.150000</td>\n",
       "      <td>0.00000</td>\n",
       "    </tr>\n",
       "    <tr>\n",
       "      <th>max</th>\n",
       "      <td>1.00000</td>\n",
       "      <td>1.000000</td>\n",
       "      <td>0.400000</td>\n",
       "      <td>1.00000</td>\n",
       "    </tr>\n",
       "  </tbody>\n",
       "</table>\n",
       "</div>"
      ],
      "text/plain": [
       "           mkt_neg   gets_mkting    prob_churn   will_churn\n",
       "count  10000.00000  10000.000000  10000.000000  10000.00000\n",
       "mean       0.09800      0.505700      0.162350      0.15950\n",
       "std        0.29733      0.499993      0.054178      0.36616\n",
       "min        0.00000      0.000000      0.150000      0.00000\n",
       "25%        0.00000      0.000000      0.150000      0.00000\n",
       "50%        0.00000      1.000000      0.150000      0.00000\n",
       "75%        0.00000      1.000000      0.150000      0.00000\n",
       "max        1.00000      1.000000      0.400000      1.00000"
      ]
     },
     "execution_count": 6,
     "metadata": {},
     "output_type": "execute_result"
    }
   ],
   "source": [
    "ppl.describe()"
   ]
  },
  {
   "cell_type": "code",
   "execution_count": 7,
   "id": "87eef4e4",
   "metadata": {},
   "outputs": [
    {
     "data": {
      "text/html": [
       "<div>\n",
       "<style scoped>\n",
       "    .dataframe tbody tr th:only-of-type {\n",
       "        vertical-align: middle;\n",
       "    }\n",
       "\n",
       "    .dataframe tbody tr th {\n",
       "        vertical-align: top;\n",
       "    }\n",
       "\n",
       "    .dataframe thead th {\n",
       "        text-align: right;\n",
       "    }\n",
       "</style>\n",
       "<table border=\"1\" class=\"dataframe\">\n",
       "  <thead>\n",
       "    <tr style=\"text-align: right;\">\n",
       "      <th></th>\n",
       "      <th>mkt_neg</th>\n",
       "      <th>gets_mkting</th>\n",
       "      <th>prob_churn</th>\n",
       "      <th>will_churn</th>\n",
       "    </tr>\n",
       "  </thead>\n",
       "  <tbody>\n",
       "    <tr>\n",
       "      <th>0</th>\n",
       "      <td>0</td>\n",
       "      <td>1</td>\n",
       "      <td>0.15</td>\n",
       "      <td>1</td>\n",
       "    </tr>\n",
       "    <tr>\n",
       "      <th>1</th>\n",
       "      <td>0</td>\n",
       "      <td>1</td>\n",
       "      <td>0.15</td>\n",
       "      <td>0</td>\n",
       "    </tr>\n",
       "    <tr>\n",
       "      <th>2</th>\n",
       "      <td>0</td>\n",
       "      <td>1</td>\n",
       "      <td>0.15</td>\n",
       "      <td>0</td>\n",
       "    </tr>\n",
       "    <tr>\n",
       "      <th>3</th>\n",
       "      <td>0</td>\n",
       "      <td>1</td>\n",
       "      <td>0.15</td>\n",
       "      <td>0</td>\n",
       "    </tr>\n",
       "    <tr>\n",
       "      <th>4</th>\n",
       "      <td>0</td>\n",
       "      <td>1</td>\n",
       "      <td>0.15</td>\n",
       "      <td>0</td>\n",
       "    </tr>\n",
       "    <tr>\n",
       "      <th>...</th>\n",
       "      <td>...</td>\n",
       "      <td>...</td>\n",
       "      <td>...</td>\n",
       "      <td>...</td>\n",
       "    </tr>\n",
       "    <tr>\n",
       "      <th>9995</th>\n",
       "      <td>0</td>\n",
       "      <td>0</td>\n",
       "      <td>0.15</td>\n",
       "      <td>0</td>\n",
       "    </tr>\n",
       "    <tr>\n",
       "      <th>9996</th>\n",
       "      <td>0</td>\n",
       "      <td>1</td>\n",
       "      <td>0.15</td>\n",
       "      <td>0</td>\n",
       "    </tr>\n",
       "    <tr>\n",
       "      <th>9997</th>\n",
       "      <td>0</td>\n",
       "      <td>1</td>\n",
       "      <td>0.15</td>\n",
       "      <td>0</td>\n",
       "    </tr>\n",
       "    <tr>\n",
       "      <th>9998</th>\n",
       "      <td>1</td>\n",
       "      <td>1</td>\n",
       "      <td>0.40</td>\n",
       "      <td>1</td>\n",
       "    </tr>\n",
       "    <tr>\n",
       "      <th>9999</th>\n",
       "      <td>0</td>\n",
       "      <td>1</td>\n",
       "      <td>0.15</td>\n",
       "      <td>0</td>\n",
       "    </tr>\n",
       "  </tbody>\n",
       "</table>\n",
       "<p>10000 rows × 4 columns</p>\n",
       "</div>"
      ],
      "text/plain": [
       "      mkt_neg  gets_mkting  prob_churn  will_churn\n",
       "0           0            1        0.15           1\n",
       "1           0            1        0.15           0\n",
       "2           0            1        0.15           0\n",
       "3           0            1        0.15           0\n",
       "4           0            1        0.15           0\n",
       "...       ...          ...         ...         ...\n",
       "9995        0            0        0.15           0\n",
       "9996        0            1        0.15           0\n",
       "9997        0            1        0.15           0\n",
       "9998        1            1        0.40           1\n",
       "9999        0            1        0.15           0\n",
       "\n",
       "[10000 rows x 4 columns]"
      ]
     },
     "execution_count": 7,
     "metadata": {},
     "output_type": "execute_result"
    }
   ],
   "source": [
    "import pandera as pa\n",
    "\n",
    "# check that mkt_neg people have a greater prob_churn than non-mkt_neg ppl for a 2 sample ttest\n",
    "\n",
    "schema = pa.DataFrameSchema(\n",
    "    {\n",
    "        \"mkt_neg\": pa.Column(int, pa.Check.isin([0, 1])),\n",
    "        \"gets_mkting\": pa.Column(int, pa.Check.isin([0, 1])),\n",
    "        #\"prob_churn\": pa.Column(float, [pa.Check.le(1.0), pa.Check.ge(0)]),\n",
    "        \"will_churn\": pa.Column(int, pa.Check.isin([0, 1])),\n",
    "        \"prob_churn\": pa.Column(float,    [pa.Check.le(1.0), pa.Check.ge(0), pa.Hypothesis.two_sample_ttest(\n",
    "                sample1=1,\n",
    "                sample2=0,\n",
    "                groupby=\"mkt_neg\",\n",
    "                relationship=\"greater_than\",\n",
    "                alpha=0.05,\n",
    "                equal_var=True)])\n",
    "    }\n",
    ")\n",
    "schema.validate(ppl, lazy=True)"
   ]
  },
  {
   "cell_type": "markdown",
   "id": "064611b6",
   "metadata": {},
   "source": [
    "# Look at some examples of those who do or don't churn"
   ]
  },
  {
   "cell_type": "code",
   "execution_count": 8,
   "id": "3de919f9",
   "metadata": {},
   "outputs": [
    {
     "data": {
      "text/html": [
       "<div>\n",
       "<style scoped>\n",
       "    .dataframe tbody tr th:only-of-type {\n",
       "        vertical-align: middle;\n",
       "    }\n",
       "\n",
       "    .dataframe tbody tr th {\n",
       "        vertical-align: top;\n",
       "    }\n",
       "\n",
       "    .dataframe thead th {\n",
       "        text-align: right;\n",
       "    }\n",
       "</style>\n",
       "<table border=\"1\" class=\"dataframe\">\n",
       "  <thead>\n",
       "    <tr style=\"text-align: right;\">\n",
       "      <th></th>\n",
       "      <th>mkt_neg</th>\n",
       "      <th>gets_mkting</th>\n",
       "      <th>prob_churn</th>\n",
       "      <th>will_churn</th>\n",
       "    </tr>\n",
       "  </thead>\n",
       "  <tbody>\n",
       "    <tr>\n",
       "      <th>5</th>\n",
       "      <td>1</td>\n",
       "      <td>1</td>\n",
       "      <td>0.4</td>\n",
       "      <td>1</td>\n",
       "    </tr>\n",
       "  </tbody>\n",
       "</table>\n",
       "</div>"
      ],
      "text/plain": [
       "   mkt_neg  gets_mkting  prob_churn  will_churn\n",
       "5        1            1         0.4           1"
      ]
     },
     "execution_count": 8,
     "metadata": {},
     "output_type": "execute_result"
    }
   ],
   "source": [
    "ppl.query(\"will_churn==True and prob_churn > @BASE_CHURN\").iloc[[0]]"
   ]
  },
  {
   "cell_type": "code",
   "execution_count": 9,
   "id": "f78a7816",
   "metadata": {},
   "outputs": [
    {
     "data": {
      "text/html": [
       "<div>\n",
       "<style scoped>\n",
       "    .dataframe tbody tr th:only-of-type {\n",
       "        vertical-align: middle;\n",
       "    }\n",
       "\n",
       "    .dataframe tbody tr th {\n",
       "        vertical-align: top;\n",
       "    }\n",
       "\n",
       "    .dataframe thead th {\n",
       "        text-align: right;\n",
       "    }\n",
       "</style>\n",
       "<table border=\"1\" class=\"dataframe\">\n",
       "  <thead>\n",
       "    <tr style=\"text-align: right;\">\n",
       "      <th></th>\n",
       "      <th>mkt_neg</th>\n",
       "      <th>gets_mkting</th>\n",
       "      <th>prob_churn</th>\n",
       "      <th>will_churn</th>\n",
       "    </tr>\n",
       "  </thead>\n",
       "  <tbody>\n",
       "    <tr>\n",
       "      <th>0</th>\n",
       "      <td>0</td>\n",
       "      <td>1</td>\n",
       "      <td>0.15</td>\n",
       "      <td>1</td>\n",
       "    </tr>\n",
       "  </tbody>\n",
       "</table>\n",
       "</div>"
      ],
      "text/plain": [
       "   mkt_neg  gets_mkting  prob_churn  will_churn\n",
       "0        0            1        0.15           1"
      ]
     },
     "execution_count": 9,
     "metadata": {},
     "output_type": "execute_result"
    }
   ],
   "source": [
    "ppl.query(\"will_churn==True and prob_churn == @BASE_CHURN\").iloc[[0]]"
   ]
  },
  {
   "cell_type": "code",
   "execution_count": 10,
   "id": "4403b4eb",
   "metadata": {},
   "outputs": [
    {
     "data": {
      "text/html": [
       "<div>\n",
       "<style scoped>\n",
       "    .dataframe tbody tr th:only-of-type {\n",
       "        vertical-align: middle;\n",
       "    }\n",
       "\n",
       "    .dataframe tbody tr th {\n",
       "        vertical-align: top;\n",
       "    }\n",
       "\n",
       "    .dataframe thead th {\n",
       "        text-align: right;\n",
       "    }\n",
       "</style>\n",
       "<table border=\"1\" class=\"dataframe\">\n",
       "  <thead>\n",
       "    <tr style=\"text-align: right;\">\n",
       "      <th></th>\n",
       "      <th>mkt_neg</th>\n",
       "      <th>gets_mkting</th>\n",
       "      <th>prob_churn</th>\n",
       "      <th>will_churn</th>\n",
       "    </tr>\n",
       "  </thead>\n",
       "  <tbody>\n",
       "    <tr>\n",
       "      <th>1</th>\n",
       "      <td>0</td>\n",
       "      <td>1</td>\n",
       "      <td>0.15</td>\n",
       "      <td>0</td>\n",
       "    </tr>\n",
       "  </tbody>\n",
       "</table>\n",
       "</div>"
      ],
      "text/plain": [
       "   mkt_neg  gets_mkting  prob_churn  will_churn\n",
       "1        0            1        0.15           0"
      ]
     },
     "execution_count": 10,
     "metadata": {},
     "output_type": "execute_result"
    }
   ],
   "source": [
    "ppl.query(\"will_churn==False\").iloc[[0]]"
   ]
  },
  {
   "cell_type": "markdown",
   "id": "3b3c9726",
   "metadata": {},
   "source": [
    "# Start to prepare for ML"
   ]
  },
  {
   "cell_type": "code",
   "execution_count": 11,
   "id": "7f0a0293",
   "metadata": {},
   "outputs": [],
   "source": [
    "from sklearn.model_selection import train_test_split"
   ]
  },
  {
   "cell_type": "code",
   "execution_count": 12,
   "id": "c9518c76",
   "metadata": {},
   "outputs": [
    {
     "name": "stdout",
     "output_type": "stream",
     "text": [
      "[(7000, 4), (3000, 4), (7000, 1), (3000, 1), (7000,), (3000,)]\n"
     ]
    }
   ],
   "source": [
    "features = ['mkt_neg']\n",
    "ppl_train, ppl_test, X_train, X_test, y_train, y_test = train_test_split(ppl, ppl[features], ppl['will_churn'], test_size=0.3, shuffle=True)\n",
    "print(list(x.shape for x in [ppl_train, ppl_test, X_train, X_test, y_train, y_test]))"
   ]
  },
  {
   "cell_type": "code",
   "execution_count": 13,
   "id": "85a8d6b5",
   "metadata": {},
   "outputs": [
    {
     "data": {
      "text/plain": [
       "0.6931471805599454"
      ]
     },
     "execution_count": 13,
     "metadata": {},
     "output_type": "execute_result"
    }
   ],
   "source": [
    "from sklearn.dummy import DummyClassifier\n",
    "est_dummy = DummyClassifier(strategy='uniform')\n",
    "est_dummy.fit(X_train, y_train)\n",
    "\n",
    "from sklearn.metrics import log_loss\n",
    "#y_true\n",
    "\n",
    "dummy_proba_pos = est_dummy.predict_proba(X_test)[:, 1]\n",
    "log_loss(y_test, dummy_proba_pos)"
   ]
  },
  {
   "cell_type": "code",
   "execution_count": 14,
   "id": "964cc52d",
   "metadata": {},
   "outputs": [
    {
     "data": {
      "text/plain": [
       "0.4403364393392923"
      ]
     },
     "execution_count": 14,
     "metadata": {},
     "output_type": "execute_result"
    }
   ],
   "source": [
    "from sklearn.linear_model import LogisticRegression\n",
    "est = LogisticRegression()\n",
    "est.fit(X_train, y_train)\n",
    "\n",
    "y_pred = est.predict_proba(X_test)\n",
    "y_pred_proba_pos = y_pred[:, 1]\n",
    "log_loss(y_test, y_pred_proba_pos)"
   ]
  },
  {
   "cell_type": "markdown",
   "id": "d43617a8",
   "metadata": {},
   "source": [
    "# diagnostics might not be right yet!"
   ]
  },
  {
   "cell_type": "code",
   "execution_count": 15,
   "id": "04f428c6",
   "metadata": {},
   "outputs": [
    {
     "ename": "NameError",
     "evalue": "name 'y_pred_pos' is not defined",
     "output_type": "error",
     "traceback": [
      "\u001b[0;31m---------------------------------------------------------------------------\u001b[0m",
      "\u001b[0;31mNameError\u001b[0m                                 Traceback (most recent call last)",
      "Input \u001b[0;32mIn [15]\u001b[0m, in \u001b[0;36m<module>\u001b[0;34m\u001b[0m\n\u001b[0;32m----> 1\u001b[0m result \u001b[38;5;241m=\u001b[39m pd\u001b[38;5;241m.\u001b[39mDataFrame({\u001b[38;5;124m'\u001b[39m\u001b[38;5;124mlr_proba_pos\u001b[39m\u001b[38;5;124m'\u001b[39m: \u001b[43my_pred_pos\u001b[49m, \u001b[38;5;124m'\u001b[39m\u001b[38;5;124my_true\u001b[39m\u001b[38;5;124m'\u001b[39m: y_test})\n\u001b[1;32m      2\u001b[0m result[\u001b[38;5;124m'\u001b[39m\u001b[38;5;124mdummy_proba_pos\u001b[39m\u001b[38;5;124m'\u001b[39m] \u001b[38;5;241m=\u001b[39m est_dummy\u001b[38;5;241m.\u001b[39mpredict_proba(X_test)[:, \u001b[38;5;241m1\u001b[39m]\n\u001b[1;32m      5\u001b[0m result_sorted \u001b[38;5;241m=\u001b[39m result\u001b[38;5;241m.\u001b[39msort_values(\u001b[38;5;124m'\u001b[39m\u001b[38;5;124mlr_proba_pos\u001b[39m\u001b[38;5;124m'\u001b[39m)\u001b[38;5;241m.\u001b[39mreset_index(drop\u001b[38;5;241m=\u001b[39m\u001b[38;5;28;01mTrue\u001b[39;00m)\n",
      "\u001b[0;31mNameError\u001b[0m: name 'y_pred_pos' is not defined"
     ]
    }
   ],
   "source": [
    "\n",
    "result = pd.DataFrame({'lr_proba_pos': y_pred_pos, 'y_true': y_test})\n",
    "result['dummy_proba_pos'] = est_dummy.predict_proba(X_test)[:, 1]\n",
    "\n",
    "\n",
    "result_sorted = result.sort_values('lr_proba_pos').reset_index(drop=True)\n",
    "result_sorted['y_true_cum'] = result_sorted['y_true'].cumsum()\n",
    "\n",
    "#result_sorted['random_guess'] = rng.binomial(1, 0.5, result_sorted.shape[0])\n",
    "#result_sorted['random_guess_cum'] = result_sorted['random_guess'].cumsum()\n",
    "result_sorted"
   ]
  },
  {
   "cell_type": "code",
   "execution_count": null,
   "id": "0339935e",
   "metadata": {},
   "outputs": [],
   "source": [
    "import matplotlib.pyplot as plt\n",
    "fig, ax = plt.subplots(figsize=(4, 4), constrained_layout=True)\n",
    "result_sorted.plot(kind='line', y='y_true_cum', ax=ax)\n",
    "#result_sorted.plot(kind='line', y='random', ax=ax)"
   ]
  },
  {
   "cell_type": "code",
   "execution_count": null,
   "id": "4a692e59",
   "metadata": {},
   "outputs": [],
   "source": [
    "result = pd.DataFrame({'y_true': y_test})\n",
    "result['dummy_proba_pos'] = dummy_proba_pos\n",
    "\n",
    "\n",
    "result_sorted = result.sort_values('dummy_proba_pos').reset_index(drop=True)\n",
    "result_sorted['y_true_cum'] = result_sorted['y_true'].cumsum()\n",
    "result_sorted.head(5)\n",
    "result_sorted.tail(2)"
   ]
  },
  {
   "cell_type": "code",
   "execution_count": null,
   "id": "b277e6d6",
   "metadata": {},
   "outputs": [],
   "source": [
    "result_sorted.describe()"
   ]
  },
  {
   "cell_type": "code",
   "execution_count": null,
   "id": "3abbde4a",
   "metadata": {},
   "outputs": [],
   "source": [
    "fig, ax = plt.subplots(figsize=(4, 4), constrained_layout=True)\n",
    "result_sorted.plot(kind='line', y='y_true_cum', ax=ax)\n",
    "result_sorted.tail(2)"
   ]
  },
  {
   "cell_type": "code",
   "execution_count": null,
   "id": "5ff00905",
   "metadata": {},
   "outputs": [],
   "source": []
  }
 ],
 "metadata": {
  "kernelspec": {
   "display_name": "Python 3 (ipykernel)",
   "language": "python",
   "name": "python3"
  },
  "language_info": {
   "codemirror_mode": {
    "name": "ipython",
    "version": 3
   },
   "file_extension": ".py",
   "mimetype": "text/x-python",
   "name": "python",
   "nbconvert_exporter": "python",
   "pygments_lexer": "ipython3",
   "version": "3.10.2"
  }
 },
 "nbformat": 4,
 "nbformat_minor": 5
}
