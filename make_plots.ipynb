{
 "cells": [
  {
   "cell_type": "markdown",
   "id": "91f0cb2a",
   "metadata": {},
   "source": [
    "# Plot the model outputs"
   ]
  },
  {
   "cell_type": "code",
   "execution_count": 1,
   "id": "34f58126",
   "metadata": {},
   "outputs": [],
   "source": [
    "import datetime\n",
    "import pandas as pd\n",
    "from simpler_mpl import set_common_mpl_styles\n",
    "from matplotlib.ticker import FormatStrFormatter, StrMethodFormatter\n",
    "import matplotlib.pyplot as plt\n",
    "from simpler_pandas import apply_labelling, sanity_check, show_df_details\n",
    "from labelling import format_to_base_10\n",
    "\n",
    "%load_ext autoreload\n",
    "%autoreload 2"
   ]
  },
  {
   "cell_type": "code",
   "execution_count": 2,
   "id": "9206ddbf",
   "metadata": {},
   "outputs": [],
   "source": [
    "MARKETING_COST_PER_INSURED = 20\n",
    "VALUE_PER_RETAINED_CONTRACT = 1000\n",
    "ONE_MILLION = 1_000_000\n",
    "\n",
    "# economic = f\"${VALUE_PER_RETAINED_CONTRACT:0.0f} earned per retained contract and ${MARKETING_COST_PER_INSURED:0.0f} cost per marketing action\"\n",
    "# economic"
   ]
  },
  {
   "cell_type": "code",
   "execution_count": 3,
   "id": "7c416d7a",
   "metadata": {},
   "outputs": [
    {
     "data": {
      "text/html": [
       "<div>\n",
       "<style scoped>\n",
       "    .dataframe tbody tr th:only-of-type {\n",
       "        vertical-align: middle;\n",
       "    }\n",
       "\n",
       "    .dataframe tbody tr th {\n",
       "        vertical-align: top;\n",
       "    }\n",
       "\n",
       "    .dataframe thead th {\n",
       "        text-align: right;\n",
       "    }\n",
       "</style>\n",
       "<table border=\"1\" class=\"dataframe\">\n",
       "  <thead>\n",
       "    <tr style=\"text-align: right;\">\n",
       "      <th></th>\n",
       "      <th>dummy_proba_pos</th>\n",
       "      <th>dummy_will_churn</th>\n",
       "      <th>churn_proba_pos</th>\n",
       "      <th>churn_will_churn</th>\n",
       "      <th>uplift_diff_t_c</th>\n",
       "      <th>uplift_will_churn</th>\n",
       "    </tr>\n",
       "  </thead>\n",
       "  <tbody>\n",
       "    <tr>\n",
       "      <th>0</th>\n",
       "      <td>0.16815</td>\n",
       "      <td>0</td>\n",
       "      <td>0.211568</td>\n",
       "      <td>1</td>\n",
       "      <td>-0.078935</td>\n",
       "      <td>0</td>\n",
       "    </tr>\n",
       "    <tr>\n",
       "      <th>1</th>\n",
       "      <td>0.16815</td>\n",
       "      <td>0</td>\n",
       "      <td>0.211568</td>\n",
       "      <td>0</td>\n",
       "      <td>-0.078935</td>\n",
       "      <td>0</td>\n",
       "    </tr>\n",
       "    <tr>\n",
       "      <th>2</th>\n",
       "      <td>0.16815</td>\n",
       "      <td>0</td>\n",
       "      <td>0.211568</td>\n",
       "      <td>1</td>\n",
       "      <td>-0.078935</td>\n",
       "      <td>0</td>\n",
       "    </tr>\n",
       "    <tr>\n",
       "      <th>3</th>\n",
       "      <td>0.16815</td>\n",
       "      <td>0</td>\n",
       "      <td>0.211568</td>\n",
       "      <td>0</td>\n",
       "      <td>-0.078935</td>\n",
       "      <td>0</td>\n",
       "    </tr>\n",
       "    <tr>\n",
       "      <th>4</th>\n",
       "      <td>0.16815</td>\n",
       "      <td>0</td>\n",
       "      <td>0.211568</td>\n",
       "      <td>0</td>\n",
       "      <td>-0.078935</td>\n",
       "      <td>0</td>\n",
       "    </tr>\n",
       "    <tr>\n",
       "      <th>...</th>\n",
       "      <td>...</td>\n",
       "      <td>...</td>\n",
       "      <td>...</td>\n",
       "      <td>...</td>\n",
       "      <td>...</td>\n",
       "      <td>...</td>\n",
       "    </tr>\n",
       "    <tr>\n",
       "      <th>49995</th>\n",
       "      <td>0.16815</td>\n",
       "      <td>0</td>\n",
       "      <td>0.115572</td>\n",
       "      <td>0</td>\n",
       "      <td>0.064115</td>\n",
       "      <td>0</td>\n",
       "    </tr>\n",
       "    <tr>\n",
       "      <th>49996</th>\n",
       "      <td>0.16815</td>\n",
       "      <td>0</td>\n",
       "      <td>0.115572</td>\n",
       "      <td>0</td>\n",
       "      <td>0.064115</td>\n",
       "      <td>0</td>\n",
       "    </tr>\n",
       "    <tr>\n",
       "      <th>49997</th>\n",
       "      <td>0.16815</td>\n",
       "      <td>0</td>\n",
       "      <td>0.115572</td>\n",
       "      <td>0</td>\n",
       "      <td>0.064115</td>\n",
       "      <td>1</td>\n",
       "    </tr>\n",
       "    <tr>\n",
       "      <th>49998</th>\n",
       "      <td>0.16815</td>\n",
       "      <td>0</td>\n",
       "      <td>0.115572</td>\n",
       "      <td>0</td>\n",
       "      <td>0.064115</td>\n",
       "      <td>1</td>\n",
       "    </tr>\n",
       "    <tr>\n",
       "      <th>49999</th>\n",
       "      <td>0.16815</td>\n",
       "      <td>0</td>\n",
       "      <td>0.115572</td>\n",
       "      <td>0</td>\n",
       "      <td>0.064115</td>\n",
       "      <td>0</td>\n",
       "    </tr>\n",
       "  </tbody>\n",
       "</table>\n",
       "<p>50000 rows × 6 columns</p>\n",
       "</div>"
      ],
      "text/plain": [
       "       dummy_proba_pos  dummy_will_churn  churn_proba_pos  churn_will_churn  \\\n",
       "0              0.16815                 0         0.211568                 1   \n",
       "1              0.16815                 0         0.211568                 0   \n",
       "2              0.16815                 0         0.211568                 1   \n",
       "3              0.16815                 0         0.211568                 0   \n",
       "4              0.16815                 0         0.211568                 0   \n",
       "...                ...               ...              ...               ...   \n",
       "49995          0.16815                 0         0.115572                 0   \n",
       "49996          0.16815                 0         0.115572                 0   \n",
       "49997          0.16815                 0         0.115572                 0   \n",
       "49998          0.16815                 0         0.115572                 0   \n",
       "49999          0.16815                 0         0.115572                 0   \n",
       "\n",
       "       uplift_diff_t_c  uplift_will_churn  \n",
       "0            -0.078935                  0  \n",
       "1            -0.078935                  0  \n",
       "2            -0.078935                  0  \n",
       "3            -0.078935                  0  \n",
       "4            -0.078935                  0  \n",
       "...                ...                ...  \n",
       "49995         0.064115                  0  \n",
       "49996         0.064115                  0  \n",
       "49997         0.064115                  1  \n",
       "49998         0.064115                  1  \n",
       "49999         0.064115                  0  \n",
       "\n",
       "[50000 rows x 6 columns]"
      ]
     },
     "execution_count": 3,
     "metadata": {},
     "output_type": "execute_result"
    }
   ],
   "source": [
    "uplift_result_file = \"df_comparison_uplift.pickle\"\n",
    "df_comparison_uplift = pd.read_pickle(uplift_result_file)\n",
    "churn_result_file = \"df_comparison_churn.pickle\"\n",
    "df_comparison_churn = pd.read_pickle(churn_result_file)\n",
    "dummy_result_file = \"df_comparison_dummy.pickle\"\n",
    "df_comparison_dummy = pd.read_pickle(dummy_result_file)\n",
    "\n",
    "df_to_plot = pd.concat(\n",
    "    (df_comparison_dummy, df_comparison_churn, df_comparison_uplift), axis=1\n",
    ")\n",
    "\n",
    "\n",
    "def check_series_is_ordered(ser, ascending=True):\n",
    "    \"\"\"Check 1 series is ascending\"\"\"\n",
    "    assert ascending == True, \"Haven't done descending yet, nor tested this\"\n",
    "    return (\n",
    "        ser.shift()[1:].reset_index(drop=True) >= ser[:-1].reset_index(drop=True)\n",
    "    ).all()\n",
    "\n",
    "\n",
    "assert check_series_is_ordered(df_to_plot[\"churn_proba_pos\"])\n",
    "assert check_series_is_ordered(df_to_plot[\"dummy_proba_pos\"])\n",
    "assert check_series_is_ordered(df_to_plot[\"uplift_diff_t_c\"])\n",
    "\n",
    "df_to_plot"
   ]
  },
  {
   "cell_type": "code",
   "execution_count": 4,
   "id": "0e06f693",
   "metadata": {},
   "outputs": [
    {
     "name": "stdout",
     "output_type": "stream",
     "text": [
      "is view False, is consolidated False, single block False, numeric mixed True\n",
      "6 blocks looking like:\n",
      "(NumericBlock: slice(0, 1, 1), 1 x 50000, dtype: float64, NumericBlock: slice(1, 2, 1), 1 x 50000, dtype: int64, NumericBlock: slice(2, 3, 1), 1 x 50000, dtype: float64, NumericBlock: slice(3, 4, 1), 1 x 50000, dtype: int64, NumericBlock: slice(4, 5, 1), 1 x 50000, dtype: float64, NumericBlock: slice(5, 6, 1), 1 x 50000, dtype: int64)\n"
     ]
    }
   ],
   "source": [
    "sanity_check(df_to_plot)\n",
    "show_df_details(df_to_plot)"
   ]
  },
  {
   "cell_type": "code",
   "execution_count": 5,
   "id": "95b127a2",
   "metadata": {},
   "outputs": [
    {
     "data": {
      "text/html": [
       "<div>\n",
       "<style scoped>\n",
       "    .dataframe tbody tr th:only-of-type {\n",
       "        vertical-align: middle;\n",
       "    }\n",
       "\n",
       "    .dataframe tbody tr th {\n",
       "        vertical-align: top;\n",
       "    }\n",
       "\n",
       "    .dataframe thead th {\n",
       "        text-align: right;\n",
       "    }\n",
       "</style>\n",
       "<table border=\"1\" class=\"dataframe\">\n",
       "  <thead>\n",
       "    <tr style=\"text-align: right;\">\n",
       "      <th></th>\n",
       "      <th>uplift_value</th>\n",
       "      <th>uplift_value_cumsum</th>\n",
       "    </tr>\n",
       "  </thead>\n",
       "  <tbody>\n",
       "    <tr>\n",
       "      <th>0</th>\n",
       "      <td>980</td>\n",
       "      <td>980</td>\n",
       "    </tr>\n",
       "    <tr>\n",
       "      <th>1</th>\n",
       "      <td>980</td>\n",
       "      <td>1960</td>\n",
       "    </tr>\n",
       "    <tr>\n",
       "      <th>2</th>\n",
       "      <td>980</td>\n",
       "      <td>2940</td>\n",
       "    </tr>\n",
       "    <tr>\n",
       "      <th>3</th>\n",
       "      <td>980</td>\n",
       "      <td>3920</td>\n",
       "    </tr>\n",
       "    <tr>\n",
       "      <th>4</th>\n",
       "      <td>980</td>\n",
       "      <td>4900</td>\n",
       "    </tr>\n",
       "    <tr>\n",
       "      <th>...</th>\n",
       "      <td>...</td>\n",
       "      <td>...</td>\n",
       "    </tr>\n",
       "    <tr>\n",
       "      <th>49995</th>\n",
       "      <td>980</td>\n",
       "      <td>40654080</td>\n",
       "    </tr>\n",
       "    <tr>\n",
       "      <th>49996</th>\n",
       "      <td>980</td>\n",
       "      <td>40655060</td>\n",
       "    </tr>\n",
       "    <tr>\n",
       "      <th>49997</th>\n",
       "      <td>-20</td>\n",
       "      <td>40655040</td>\n",
       "    </tr>\n",
       "    <tr>\n",
       "      <th>49998</th>\n",
       "      <td>-20</td>\n",
       "      <td>40655020</td>\n",
       "    </tr>\n",
       "    <tr>\n",
       "      <th>49999</th>\n",
       "      <td>980</td>\n",
       "      <td>40656000</td>\n",
       "    </tr>\n",
       "  </tbody>\n",
       "</table>\n",
       "<p>50000 rows × 2 columns</p>\n",
       "</div>"
      ],
      "text/plain": [
       "       uplift_value  uplift_value_cumsum\n",
       "0               980                  980\n",
       "1               980                 1960\n",
       "2               980                 2940\n",
       "3               980                 3920\n",
       "4               980                 4900\n",
       "...             ...                  ...\n",
       "49995           980             40654080\n",
       "49996           980             40655060\n",
       "49997           -20             40655040\n",
       "49998           -20             40655020\n",
       "49999           980             40656000\n",
       "\n",
       "[50000 rows x 2 columns]"
      ]
     },
     "execution_count": 5,
     "metadata": {},
     "output_type": "execute_result"
    }
   ],
   "source": [
    "def calculate_value_generated(dfx, col_will_churn, model_name):\n",
    "    # assume we're sorted\n",
    "    # df_costing = dfx.sort_values(col, ascending=ascending).copy().reset_index(drop=True)\n",
    "    df_costing = dfx[[col_will_churn]].copy()\n",
    "    # df_costing['price_if_mktd'] = -1\n",
    "    # df_costing['price_if_mktd_cumsum'] = df_costing['price_if_mktd'].cumsum()\n",
    "    # df_costing['price_if_retained'] = 1000 * (df_costing[col_will_churn]==0)\n",
    "    value_column = f\"{model_name}_value\"\n",
    "    df_costing[value_column] = (\n",
    "        VALUE_PER_RETAINED_CONTRACT * (df_costing[col_will_churn] == 0)\n",
    "    ) - MARKETING_COST_PER_INSURED\n",
    "    value_column_cumsum = f\"{model_name}_value_cumsum\"\n",
    "    df_costing[value_column_cumsum] = df_costing[value_column].cumsum()\n",
    "    return df_costing[[value_column, value_column_cumsum]]\n",
    "\n",
    "\n",
    "df_costing_uplift = calculate_value_generated(df_to_plot, \"uplift_will_churn\", \"uplift\")\n",
    "# df_costing.iloc[10000]\n",
    "df_costing_uplift"
   ]
  },
  {
   "cell_type": "code",
   "execution_count": 6,
   "id": "9784151c",
   "metadata": {},
   "outputs": [],
   "source": [
    "df_costing_churn = calculate_value_generated(df_to_plot, \"churn_will_churn\", \"churn\")"
   ]
  },
  {
   "cell_type": "code",
   "execution_count": 7,
   "id": "20fc170e",
   "metadata": {},
   "outputs": [],
   "source": [
    "df_costing_dummy = calculate_value_generated(df_to_plot, \"dummy_will_churn\", \"dummy\")"
   ]
  },
  {
   "cell_type": "code",
   "execution_count": 8,
   "id": "5f49325a",
   "metadata": {},
   "outputs": [
    {
     "data": {
      "text/html": [
       "<div>\n",
       "<style scoped>\n",
       "    .dataframe tbody tr th:only-of-type {\n",
       "        vertical-align: middle;\n",
       "    }\n",
       "\n",
       "    .dataframe tbody tr th {\n",
       "        vertical-align: top;\n",
       "    }\n",
       "\n",
       "    .dataframe thead th {\n",
       "        text-align: right;\n",
       "    }\n",
       "</style>\n",
       "<table border=\"1\" class=\"dataframe\">\n",
       "  <thead>\n",
       "    <tr style=\"text-align: right;\">\n",
       "      <th></th>\n",
       "      <th>dummy_value</th>\n",
       "      <th>dummy_value_cumsum</th>\n",
       "      <th>churn_value</th>\n",
       "      <th>churn_value_cumsum</th>\n",
       "      <th>uplift_value</th>\n",
       "      <th>uplift_value_cumsum</th>\n",
       "    </tr>\n",
       "  </thead>\n",
       "  <tbody>\n",
       "    <tr>\n",
       "      <th>17330</th>\n",
       "      <td>980</td>\n",
       "      <td>14025380</td>\n",
       "      <td>-20</td>\n",
       "      <td>13749380</td>\n",
       "      <td>980</td>\n",
       "      <td>14463380</td>\n",
       "    </tr>\n",
       "    <tr>\n",
       "      <th>20813</th>\n",
       "      <td>980</td>\n",
       "      <td>16871720</td>\n",
       "      <td>980</td>\n",
       "      <td>16603720</td>\n",
       "      <td>980</td>\n",
       "      <td>17336720</td>\n",
       "    </tr>\n",
       "    <tr>\n",
       "      <th>24064</th>\n",
       "      <td>980</td>\n",
       "      <td>19528700</td>\n",
       "      <td>980</td>\n",
       "      <td>19272700</td>\n",
       "      <td>-20</td>\n",
       "      <td>19991700</td>\n",
       "    </tr>\n",
       "    <tr>\n",
       "      <th>27841</th>\n",
       "      <td>980</td>\n",
       "      <td>22594160</td>\n",
       "      <td>980</td>\n",
       "      <td>22388160</td>\n",
       "      <td>980</td>\n",
       "      <td>23083160</td>\n",
       "    </tr>\n",
       "    <tr>\n",
       "      <th>30590</th>\n",
       "      <td>980</td>\n",
       "      <td>24847180</td>\n",
       "      <td>980</td>\n",
       "      <td>24667180</td>\n",
       "      <td>980</td>\n",
       "      <td>25355180</td>\n",
       "    </tr>\n",
       "  </tbody>\n",
       "</table>\n",
       "</div>"
      ],
      "text/plain": [
       "       dummy_value  dummy_value_cumsum  churn_value  churn_value_cumsum  \\\n",
       "17330          980            14025380          -20            13749380   \n",
       "20813          980            16871720          980            16603720   \n",
       "24064          980            19528700          980            19272700   \n",
       "27841          980            22594160          980            22388160   \n",
       "30590          980            24847180          980            24667180   \n",
       "\n",
       "       uplift_value  uplift_value_cumsum  \n",
       "17330           980             14463380  \n",
       "20813           980             17336720  \n",
       "24064           -20             19991700  \n",
       "27841           980             23083160  \n",
       "30590           980             25355180  "
      ]
     },
     "execution_count": 8,
     "metadata": {},
     "output_type": "execute_result"
    }
   ],
   "source": [
    "df_to_plot = pd.concat((df_costing_dummy, df_costing_churn, df_costing_uplift), axis=1)\n",
    "df_to_plot.sample(5).sort_index()"
   ]
  },
  {
   "cell_type": "code",
   "execution_count": 9,
   "id": "de103d53",
   "metadata": {},
   "outputs": [],
   "source": [
    "# row_with_minimum_uplift_effect = (0 - df_comparison_uplift['uplift_diff_t_c'].abs()).idxmax()\n",
    "# row_with_minimum_uplift_effect\n",
    "# print(f\"By insured {row_with_minimum_uplift_effect:,} the Uplift model predicts subsequent rows will respond neutrally or negatively to this campaign\")\n",
    "# print(f\"By this point we've incurred a marketing cost of ${MARKETING_COST_PER_INSURED * row_with_minimum_uplift_effect:,}.\")\n",
    "# df_to_plot.loc[row_with_minimum_uplift_effect]"
   ]
  },
  {
   "cell_type": "code",
   "execution_count": 10,
   "id": "042ba18b",
   "metadata": {},
   "outputs": [
    {
     "name": "stdout",
     "output_type": "stream",
     "text": [
      "By this point (10,000) we've incurred a marketing cost of $200,000.\n"
     ]
    },
    {
     "data": {
      "text/plain": [
       "dummy_value                -20\n",
       "dummy_value_cumsum     8094980\n",
       "churn_value                980\n",
       "churn_value_cumsum     7735980\n",
       "uplift_value               980\n",
       "uplift_value_cumsum    8468980\n",
       "Name: 10000, dtype: int64"
      ]
     },
     "execution_count": 10,
     "metadata": {},
     "output_type": "execute_result"
    }
   ],
   "source": [
    "row_choice = 10_000\n",
    "print(\n",
    "    f\"By this point ({row_choice:,}) we've incurred a marketing cost of ${MARKETING_COST_PER_INSURED * row_choice:,}.\"\n",
    ")\n",
    "\n",
    "df_to_plot.iloc[row_choice]"
   ]
  },
  {
   "cell_type": "code",
   "execution_count": 11,
   "id": "87e5133e",
   "metadata": {},
   "outputs": [
    {
     "name": "stdout",
     "output_type": "stream",
     "text": [
      "By insured 6,932 the Uplift model predicts subsequent rows will respond neutrally or negatively to this campaign\n",
      "By this point we've incurred a marketing cost of $138,640.\n"
     ]
    },
    {
     "data": {
      "text/plain": [
       "dummy_value                980\n",
       "dummy_value_cumsum     5608340\n",
       "churn_value                980\n",
       "churn_value_cumsum     5337340\n",
       "uplift_value               -20\n",
       "uplift_value_cumsum    5961340\n",
       "Name: 6932, dtype: int64"
      ]
     },
     "execution_count": 11,
     "metadata": {},
     "output_type": "execute_result"
    }
   ],
   "source": [
    "row_choice = row_with_minimum_uplift_effect = (\n",
    "    0 - df_comparison_uplift[\"uplift_diff_t_c\"].abs()\n",
    ").idxmax()\n",
    "print(\n",
    "    f\"By insured {row_choice:,} the Uplift model predicts subsequent rows will respond neutrally or negatively to this campaign\"\n",
    ")\n",
    "print(\n",
    "    f\"By this point we've incurred a marketing cost of ${MARKETING_COST_PER_INSURED * row_choice:,}.\"\n",
    ")\n",
    "\n",
    "df_to_plot.iloc[row_choice]"
   ]
  },
  {
   "cell_type": "code",
   "execution_count": 12,
   "id": "e288e7a7",
   "metadata": {},
   "outputs": [],
   "source": [
    "df_to_plot[\"dummy_value_cumsum\"] = df_to_plot[\"dummy_value_cumsum\"] / ONE_MILLION\n",
    "df_to_plot[\"churn_value_cumsum\"] = df_to_plot[\"churn_value_cumsum\"] / ONE_MILLION\n",
    "df_to_plot[\"uplift_value_cumsum\"] = df_to_plot[\"uplift_value_cumsum\"] / ONE_MILLION"
   ]
  },
  {
   "cell_type": "code",
   "execution_count": 13,
   "id": "bc0e85d1",
   "metadata": {},
   "outputs": [
    {
     "data": {
      "image/png": "[encoded data removed]",
      "text/plain": [
       "<Figure size 576x576 with 1 Axes>"
      ]
     },
     "metadata": {
      "needs_background": "light"
     },
     "output_type": "display_data"
    }
   ],
   "source": [
    "fig, ax = plt.subplots(constrained_layout=True, figsize=(8, 8))\n",
    "df_to_plot[:50_000].plot(\n",
    "    y=[\"uplift_value_cumsum\", \"dummy_value_cumsum\", \"churn_value_cumsum\"], ax=ax\n",
    ")\n",
    "title = \"Cumulative value retained after costs using both models\"\n",
    "set_common_mpl_styles(\n",
    "    ax,\n",
    "    grid_axis=\"both\",\n",
    "    xlabel=\"Insureds ranked by best to target\",\n",
    "    ylabel=\"Cumulative value after costs (millions)\",\n",
    "    title=title,\n",
    ")\n",
    "ax.xaxis.set_major_formatter(StrMethodFormatter(\"{x:,}\"))\n",
    "ax.yaxis.set_major_formatter(StrMethodFormatter(\"${x:}M\"))"
   ]
  },
  {
   "cell_type": "code",
   "execution_count": 14,
   "id": "667d2e4f",
   "metadata": {},
   "outputs": [
    {
     "data": {
      "text/plain": [
       "[[0.0, 9999.8), [0.0, 9999.8), [0.0, 9999.8), [0.0, 9999.8), [0.0, 9999.8), ..., [39999.2, 50048.999), [39999.2, 50048.999), [39999.2, 50048.999), [39999.2, 50048.999), [39999.2, 50048.999)]\n",
       "Length: 50000\n",
       "Categories (5, interval[float64, left]): [[0.0, 9999.8) < [9999.8, 19999.6) < [19999.6, 29999.4) < [29999.4, 39999.2) < [39999.2, 50048.999)]"
      ]
     },
     "execution_count": 14,
     "metadata": {},
     "output_type": "execute_result"
    }
   ],
   "source": [
    "quantile = pd.cut(df_to_plot.index, 5, right=False)\n",
    "quantile"
   ]
  },
  {
   "cell_type": "code",
   "execution_count": 15,
   "id": "8ea5eed1",
   "metadata": {},
   "outputs": [
    {
     "data": {
      "text/html": [
       "<div>\n",
       "<style scoped>\n",
       "    .dataframe tbody tr th:only-of-type {\n",
       "        vertical-align: middle;\n",
       "    }\n",
       "\n",
       "    .dataframe tbody tr th {\n",
       "        vertical-align: top;\n",
       "    }\n",
       "\n",
       "    .dataframe thead th {\n",
       "        text-align: right;\n",
       "    }\n",
       "</style>\n",
       "<table border=\"1\" class=\"dataframe\">\n",
       "  <thead>\n",
       "    <tr style=\"text-align: right;\">\n",
       "      <th></th>\n",
       "      <th>uplift_value</th>\n",
       "      <th>dummy_value</th>\n",
       "      <th>churn_value</th>\n",
       "    </tr>\n",
       "  </thead>\n",
       "  <tbody>\n",
       "    <tr>\n",
       "      <th>[0.00 - 10.00k)</th>\n",
       "      <td>846.8</td>\n",
       "      <td>809.5</td>\n",
       "      <td>773.5</td>\n",
       "    </tr>\n",
       "    <tr>\n",
       "      <th>[10.00k - 20.00k)</th>\n",
       "      <td>821.2</td>\n",
       "      <td>810.8</td>\n",
       "      <td>819.9</td>\n",
       "    </tr>\n",
       "    <tr>\n",
       "      <th>[20.00k - 30.00k)</th>\n",
       "      <td>818.0</td>\n",
       "      <td>816.0</td>\n",
       "      <td>824.3</td>\n",
       "    </tr>\n",
       "    <tr>\n",
       "      <th>[30.00k - 40.00k)</th>\n",
       "      <td>813.6</td>\n",
       "      <td>814.2</td>\n",
       "      <td>820.1</td>\n",
       "    </tr>\n",
       "    <tr>\n",
       "      <th>[40.00k - 50.05k)</th>\n",
       "      <td>766.0</td>\n",
       "      <td>815.1</td>\n",
       "      <td>827.8</td>\n",
       "    </tr>\n",
       "  </tbody>\n",
       "</table>\n",
       "</div>"
      ],
      "text/plain": [
       "                   uplift_value  dummy_value  churn_value\n",
       "[0.00 - 10.00k)           846.8        809.5        773.5\n",
       "[10.00k - 20.00k)         821.2        810.8        819.9\n",
       "[20.00k - 30.00k)         818.0        816.0        824.3\n",
       "[30.00k - 40.00k)         813.6        814.2        820.1\n",
       "[40.00k - 50.05k)         766.0        815.1        827.8"
      ]
     },
     "execution_count": 15,
     "metadata": {},
     "output_type": "execute_result"
    }
   ],
   "source": [
    "mean_result_by_quantile = df_to_plot.groupby(quantile)[\n",
    "    [\"uplift_value\", \"dummy_value\", \"churn_value\"]\n",
    "].mean()\n",
    "mean_result_by_quantile.index = apply_labelling(\n",
    "    mean_result_by_quantile.index, format_to_base_10\n",
    ")\n",
    "mean_result_by_quantile"
   ]
  },
  {
   "cell_type": "code",
   "execution_count": 16,
   "id": "5e377fd8",
   "metadata": {},
   "outputs": [
    {
     "data": {
      "image/png": "[encoded data removed]",
      "text/plain": [
       "<Figure size 576x576 with 1 Axes>"
      ]
     },
     "metadata": {
      "needs_background": "light"
     },
     "output_type": "display_data"
    }
   ],
   "source": [
    "fig, ax = plt.subplots(figsize=(8, 8), constrained_layout=True)\n",
    "mean_result_by_quantile.plot(kind=\"bar\", ax=ax)\n",
    "title = \"Mean ROI treating insureds in predicted priority order by quantile\"\n",
    "set_common_mpl_styles(\n",
    "    ax,\n",
    "    grid_axis=\"y\",\n",
    "    xlabel=\"Insureds by quantile (best-to-treat first on the left)\",\n",
    "    title=title,\n",
    "    ylabel=\"Mean return $ per quantile (bigger is better)\",\n",
    ")\n",
    "ax.yaxis.set_major_formatter(StrMethodFormatter(\"${x:,}\"))"
   ]
  },
  {
   "cell_type": "code",
   "execution_count": 17,
   "id": "2b7c5760",
   "metadata": {},
   "outputs": [
    {
     "data": {
      "text/plain": [
       "<AxesSubplot:>"
      ]
     },
     "execution_count": 17,
     "metadata": {},
     "output_type": "execute_result"
    },
    {
     "data": {
      "image/png": "[encoded data removed]",
      "text/plain": [
       "<Figure size 432x288 with 1 Axes>"
      ]
     },
     "metadata": {
      "needs_background": "light"
     },
     "output_type": "display_data"
    }
   ],
   "source": [
    "churn_from_dummy = (\n",
    "    mean_result_by_quantile[\"churn_value\"] - mean_result_by_quantile[\"dummy_value\"]\n",
    ")\n",
    "uplift_from_dummy = (\n",
    "    mean_result_by_quantile[\"uplift_value\"] - mean_result_by_quantile[\"dummy_value\"]\n",
    ")\n",
    "lift_from_dummy = pd.concat((churn_from_dummy, uplift_from_dummy), axis=1)\n",
    "lift_from_dummy.columns = [\"churn_lift\", \"uplift_lift\"]\n",
    "lift_from_dummy.plot(kind=\"bar\")"
   ]
  },
  {
   "cell_type": "code",
   "execution_count": 18,
   "id": "cfdf8ecf",
   "metadata": {},
   "outputs": [
    {
     "data": {
      "text/html": [
       "<div>\n",
       "<style scoped>\n",
       "    .dataframe tbody tr th:only-of-type {\n",
       "        vertical-align: middle;\n",
       "    }\n",
       "\n",
       "    .dataframe tbody tr th {\n",
       "        vertical-align: top;\n",
       "    }\n",
       "\n",
       "    .dataframe thead th {\n",
       "        text-align: right;\n",
       "    }\n",
       "</style>\n",
       "<table border=\"1\" class=\"dataframe\">\n",
       "  <thead>\n",
       "    <tr style=\"text-align: right;\">\n",
       "      <th></th>\n",
       "      <th>uplift_value</th>\n",
       "      <th>dummy_value</th>\n",
       "      <th>churn_value</th>\n",
       "    </tr>\n",
       "  </thead>\n",
       "  <tbody>\n",
       "    <tr>\n",
       "      <th>[0.00 - 10.00k)</th>\n",
       "      <td>8468000</td>\n",
       "      <td>8095000</td>\n",
       "      <td>7735000</td>\n",
       "    </tr>\n",
       "    <tr>\n",
       "      <th>[10.00k - 20.00k)</th>\n",
       "      <td>8212000</td>\n",
       "      <td>8108000</td>\n",
       "      <td>8199000</td>\n",
       "    </tr>\n",
       "    <tr>\n",
       "      <th>[20.00k - 30.00k)</th>\n",
       "      <td>8180000</td>\n",
       "      <td>8160000</td>\n",
       "      <td>8243000</td>\n",
       "    </tr>\n",
       "    <tr>\n",
       "      <th>[30.00k - 40.00k)</th>\n",
       "      <td>8136000</td>\n",
       "      <td>8142000</td>\n",
       "      <td>8201000</td>\n",
       "    </tr>\n",
       "    <tr>\n",
       "      <th>[40.00k - 50.05k)</th>\n",
       "      <td>7660000</td>\n",
       "      <td>8151000</td>\n",
       "      <td>8278000</td>\n",
       "    </tr>\n",
       "  </tbody>\n",
       "</table>\n",
       "</div>"
      ],
      "text/plain": [
       "                   uplift_value  dummy_value  churn_value\n",
       "[0.00 - 10.00k)         8468000      8095000      7735000\n",
       "[10.00k - 20.00k)       8212000      8108000      8199000\n",
       "[20.00k - 30.00k)       8180000      8160000      8243000\n",
       "[30.00k - 40.00k)       8136000      8142000      8201000\n",
       "[40.00k - 50.05k)       7660000      8151000      8278000"
      ]
     },
     "execution_count": 18,
     "metadata": {},
     "output_type": "execute_result"
    }
   ],
   "source": [
    "sum_result_by_quantile = df_to_plot.groupby(quantile)[\n",
    "    [\"uplift_value\", \"dummy_value\", \"churn_value\"]\n",
    "].sum()\n",
    "sum_result_by_quantile.index = apply_labelling(\n",
    "    sum_result_by_quantile.index, format_to_base_10\n",
    ")\n",
    "sum_result_by_quantile"
   ]
  },
  {
   "cell_type": "code",
   "execution_count": 19,
   "id": "775e54f3",
   "metadata": {},
   "outputs": [
    {
     "data": {
      "text/plain": [
       "<AxesSubplot:>"
      ]
     },
     "execution_count": 19,
     "metadata": {},
     "output_type": "execute_result"
    },
    {
     "data": {
      "image/png": "[encoded data removed]",
      "text/plain": [
       "<Figure size 432x288 with 1 Axes>"
      ]
     },
     "metadata": {
      "needs_background": "light"
     },
     "output_type": "display_data"
    }
   ],
   "source": [
    "churn_from_dummy = (\n",
    "    sum_result_by_quantile[\"churn_value\"] - sum_result_by_quantile[\"dummy_value\"]\n",
    ")\n",
    "uplift_from_dummy = (\n",
    "    sum_result_by_quantile[\"uplift_value\"] - sum_result_by_quantile[\"dummy_value\"]\n",
    ")\n",
    "lift_from_dummy = pd.concat((churn_from_dummy, uplift_from_dummy), axis=1)\n",
    "lift_from_dummy /= ONE_MILLION\n",
    "lift_from_dummy.columns = [\"churn_lift\", \"uplift_lift\"]\n",
    "lift_from_dummy.plot(kind=\"bar\")"
   ]
  },
  {
   "cell_type": "code",
   "execution_count": 20,
   "id": "276f87ed",
   "metadata": {},
   "outputs": [
    {
     "data": {
      "text/html": [
       "<div>\n",
       "<style scoped>\n",
       "    .dataframe tbody tr th:only-of-type {\n",
       "        vertical-align: middle;\n",
       "    }\n",
       "\n",
       "    .dataframe tbody tr th {\n",
       "        vertical-align: top;\n",
       "    }\n",
       "\n",
       "    .dataframe thead th {\n",
       "        text-align: right;\n",
       "    }\n",
       "</style>\n",
       "<table border=\"1\" class=\"dataframe\">\n",
       "  <thead>\n",
       "    <tr style=\"text-align: right;\">\n",
       "      <th></th>\n",
       "      <th>churn_lift</th>\n",
       "      <th>uplift_lift</th>\n",
       "    </tr>\n",
       "  </thead>\n",
       "  <tbody>\n",
       "    <tr>\n",
       "      <th>[0.00 - 10.00k)</th>\n",
       "      <td>-0.360</td>\n",
       "      <td>0.373</td>\n",
       "    </tr>\n",
       "    <tr>\n",
       "      <th>[10.00k - 20.00k)</th>\n",
       "      <td>0.091</td>\n",
       "      <td>0.104</td>\n",
       "    </tr>\n",
       "    <tr>\n",
       "      <th>[20.00k - 30.00k)</th>\n",
       "      <td>0.083</td>\n",
       "      <td>0.020</td>\n",
       "    </tr>\n",
       "    <tr>\n",
       "      <th>[30.00k - 40.00k)</th>\n",
       "      <td>0.059</td>\n",
       "      <td>-0.006</td>\n",
       "    </tr>\n",
       "    <tr>\n",
       "      <th>[40.00k - 50.05k)</th>\n",
       "      <td>0.127</td>\n",
       "      <td>-0.491</td>\n",
       "    </tr>\n",
       "  </tbody>\n",
       "</table>\n",
       "</div>"
      ],
      "text/plain": [
       "                   churn_lift  uplift_lift\n",
       "[0.00 - 10.00k)        -0.360        0.373\n",
       "[10.00k - 20.00k)       0.091        0.104\n",
       "[20.00k - 30.00k)       0.083        0.020\n",
       "[30.00k - 40.00k)       0.059       -0.006\n",
       "[40.00k - 50.05k)       0.127       -0.491"
      ]
     },
     "execution_count": 20,
     "metadata": {},
     "output_type": "execute_result"
    }
   ],
   "source": [
    "lift_from_dummy"
   ]
  },
  {
   "cell_type": "code",
   "execution_count": 23,
   "id": "81f274b8",
   "metadata": {},
   "outputs": [
    {
     "data": {
      "image/png": "[encoded data removed]",
      "text/plain": [
       "<Figure size 576x576 with 2 Axes>"
      ]
     },
     "metadata": {
      "needs_background": "light"
     },
     "output_type": "display_data"
    }
   ],
   "source": [
    "fig, axs = plt.subplot_mosaic(\n",
    "    [[\"Uplift\", \"Churn\"]],\n",
    "    sharex=True,\n",
    "    sharey=True,\n",
    "    figsize=(8, 8),\n",
    "    constrained_layout=True,\n",
    ")\n",
    "lift_from_dummy[\"uplift_lift\"].plot(kind=\"bar\", ax=axs[\"Uplift\"])\n",
    "lift_from_dummy[\"churn_lift\"].plot(kind=\"bar\", ax=axs[\"Churn\"], color=\"g\")\n",
    "title = f\"Uplift model\\n(Cease marketing effort by {int(row_with_minimum_uplift_effect/1000)}k given costs)\"\n",
    "set_common_mpl_styles(\n",
    "    ax=axs[\"Uplift\"],\n",
    "    ylabel=\"Total lift vs random order (bigger is better)\",\n",
    "    title=title,\n",
    "    xlabel=\"Ranked population in 10k percentiles\",\n",
    ")\n",
    "set_common_mpl_styles(ax=axs[\"Churn\"], title=\"Churn model\")\n",
    "title = f\"Lift per quintile vs random ordering where \\${VALUE_PER_RETAINED_CONTRACT:0.0f} is earned per retained contract,\\neach marketing action costs ${MARKETING_COST_PER_INSURED:0.0f} and 84% retention is normal\"\n",
    "fig.suptitle(title)\n",
    "axs[\"Uplift\"].get_legend().remove()\n",
    "axs[\"Churn\"].get_legend().remove()\n",
    "axs[\"Uplift\"].yaxis.set_major_formatter(StrMethodFormatter(\"${x:2.1f}M\"))"
   ]
  },
  {
   "cell_type": "code",
   "execution_count": 22,
   "id": "14443ec8",
   "metadata": {},
   "outputs": [
    {
     "data": {
      "text/plain": [
       "datetime.datetime(2022, 3, 30, 16, 36, 57, 573190)"
      ]
     },
     "execution_count": 22,
     "metadata": {},
     "output_type": "execute_result"
    }
   ],
   "source": [
    "datetime.datetime.now()"
   ]
  }
 ],
 "metadata": {
  "kernelspec": {
   "display_name": "Python 3 (ipykernel)",
   "language": "python",
   "name": "python3"
  },
  "language_info": {
   "codemirror_mode": {
    "name": "ipython",
    "version": 3
   },
   "file_extension": ".py",
   "mimetype": "text/x-python",
   "name": "python",
   "nbconvert_exporter": "python",
   "pygments_lexer": "ipython3",
   "version": "3.10.2"
  }
 },
 "nbformat": 4,
 "nbformat_minor": 5
}
