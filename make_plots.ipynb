{
 "cells": [
  {
   "cell_type": "markdown",
   "id": "91f0cb2a",
   "metadata": {},
   "source": [
    "# Plot the model outputs"
   ]
  },
  {
   "cell_type": "code",
   "execution_count": 1,
   "id": "34f58126",
   "metadata": {},
   "outputs": [],
   "source": [
    "import datetime\n",
    "import pandas as pd\n",
    "from simpler_mpl import set_common_mpl_styles\n",
    "from matplotlib.ticker import FormatStrFormatter, StrMethodFormatter\n",
    "import matplotlib.pyplot as plt\n",
    "from simpler_pandas import apply_labelling, sanity_check, show_df_details\n",
    "from labelling import format_to_base_10\n",
    "\n",
    "%load_ext autoreload\n",
    "%autoreload 2"
   ]
  },
  {
   "cell_type": "code",
   "execution_count": 2,
   "id": "9206ddbf",
   "metadata": {},
   "outputs": [],
   "source": [
    "MARKETING_COST_PER_INSURED = 20\n",
    "VALUE_PER_RETAINED_CONTRACT = 1000\n",
    "ONE_MILLION = 1_000_000\n",
    "\n",
    "#economic = f\"${VALUE_PER_RETAINED_CONTRACT:0.0f} earned per retained contract and ${MARKETING_COST_PER_INSURED:0.0f} cost per marketing action\"\n",
    "#economic"
   ]
  },
  {
   "cell_type": "code",
   "execution_count": 3,
   "id": "7c416d7a",
   "metadata": {},
   "outputs": [
    {
     "data": {
      "text/html": [
       "<div>\n",
       "<style scoped>\n",
       "    .dataframe tbody tr th:only-of-type {\n",
       "        vertical-align: middle;\n",
       "    }\n",
       "\n",
       "    .dataframe tbody tr th {\n",
       "        vertical-align: top;\n",
       "    }\n",
       "\n",
       "    .dataframe thead th {\n",
       "        text-align: right;\n",
       "    }\n",
       "</style>\n",
       "<table border=\"1\" class=\"dataframe\">\n",
       "  <thead>\n",
       "    <tr style=\"text-align: right;\">\n",
       "      <th></th>\n",
       "      <th>dummy_proba_pos</th>\n",
       "      <th>dummy_will_churn</th>\n",
       "      <th>churn_proba_pos</th>\n",
       "      <th>churn_will_churn</th>\n",
       "      <th>uplift_diff_t_c</th>\n",
       "      <th>uplift_will_churn</th>\n",
       "    </tr>\n",
       "  </thead>\n",
       "  <tbody>\n",
       "    <tr>\n",
       "      <th>0</th>\n",
       "      <td>0.16007</td>\n",
       "      <td>0</td>\n",
       "      <td>0.215922</td>\n",
       "      <td>0</td>\n",
       "      <td>-0.062973</td>\n",
       "      <td>0</td>\n",
       "    </tr>\n",
       "    <tr>\n",
       "      <th>1</th>\n",
       "      <td>0.16007</td>\n",
       "      <td>0</td>\n",
       "      <td>0.215922</td>\n",
       "      <td>0</td>\n",
       "      <td>-0.062973</td>\n",
       "      <td>0</td>\n",
       "    </tr>\n",
       "    <tr>\n",
       "      <th>2</th>\n",
       "      <td>0.16007</td>\n",
       "      <td>0</td>\n",
       "      <td>0.215922</td>\n",
       "      <td>0</td>\n",
       "      <td>-0.062973</td>\n",
       "      <td>0</td>\n",
       "    </tr>\n",
       "    <tr>\n",
       "      <th>3</th>\n",
       "      <td>0.16007</td>\n",
       "      <td>0</td>\n",
       "      <td>0.215922</td>\n",
       "      <td>0</td>\n",
       "      <td>-0.062973</td>\n",
       "      <td>0</td>\n",
       "    </tr>\n",
       "    <tr>\n",
       "      <th>4</th>\n",
       "      <td>0.16007</td>\n",
       "      <td>0</td>\n",
       "      <td>0.215922</td>\n",
       "      <td>0</td>\n",
       "      <td>-0.062973</td>\n",
       "      <td>1</td>\n",
       "    </tr>\n",
       "    <tr>\n",
       "      <th>...</th>\n",
       "      <td>...</td>\n",
       "      <td>...</td>\n",
       "      <td>...</td>\n",
       "      <td>...</td>\n",
       "      <td>...</td>\n",
       "      <td>...</td>\n",
       "    </tr>\n",
       "    <tr>\n",
       "      <th>49995</th>\n",
       "      <td>0.16007</td>\n",
       "      <td>0</td>\n",
       "      <td>0.113977</td>\n",
       "      <td>0</td>\n",
       "      <td>0.064762</td>\n",
       "      <td>0</td>\n",
       "    </tr>\n",
       "    <tr>\n",
       "      <th>49996</th>\n",
       "      <td>0.16007</td>\n",
       "      <td>0</td>\n",
       "      <td>0.113977</td>\n",
       "      <td>0</td>\n",
       "      <td>0.064762</td>\n",
       "      <td>0</td>\n",
       "    </tr>\n",
       "    <tr>\n",
       "      <th>49997</th>\n",
       "      <td>0.16007</td>\n",
       "      <td>0</td>\n",
       "      <td>0.113977</td>\n",
       "      <td>0</td>\n",
       "      <td>0.064762</td>\n",
       "      <td>0</td>\n",
       "    </tr>\n",
       "    <tr>\n",
       "      <th>49998</th>\n",
       "      <td>0.16007</td>\n",
       "      <td>0</td>\n",
       "      <td>0.113977</td>\n",
       "      <td>0</td>\n",
       "      <td>0.064762</td>\n",
       "      <td>0</td>\n",
       "    </tr>\n",
       "    <tr>\n",
       "      <th>49999</th>\n",
       "      <td>0.16007</td>\n",
       "      <td>0</td>\n",
       "      <td>0.113977</td>\n",
       "      <td>0</td>\n",
       "      <td>0.064762</td>\n",
       "      <td>1</td>\n",
       "    </tr>\n",
       "  </tbody>\n",
       "</table>\n",
       "<p>50000 rows × 6 columns</p>\n",
       "</div>"
      ],
      "text/plain": [
       "       dummy_proba_pos  dummy_will_churn  churn_proba_pos  churn_will_churn  \\\n",
       "0              0.16007                 0         0.215922                 0   \n",
       "1              0.16007                 0         0.215922                 0   \n",
       "2              0.16007                 0         0.215922                 0   \n",
       "3              0.16007                 0         0.215922                 0   \n",
       "4              0.16007                 0         0.215922                 0   \n",
       "...                ...               ...              ...               ...   \n",
       "49995          0.16007                 0         0.113977                 0   \n",
       "49996          0.16007                 0         0.113977                 0   \n",
       "49997          0.16007                 0         0.113977                 0   \n",
       "49998          0.16007                 0         0.113977                 0   \n",
       "49999          0.16007                 0         0.113977                 0   \n",
       "\n",
       "       uplift_diff_t_c  uplift_will_churn  \n",
       "0            -0.062973                  0  \n",
       "1            -0.062973                  0  \n",
       "2            -0.062973                  0  \n",
       "3            -0.062973                  0  \n",
       "4            -0.062973                  1  \n",
       "...                ...                ...  \n",
       "49995         0.064762                  0  \n",
       "49996         0.064762                  0  \n",
       "49997         0.064762                  0  \n",
       "49998         0.064762                  0  \n",
       "49999         0.064762                  1  \n",
       "\n",
       "[50000 rows x 6 columns]"
      ]
     },
     "execution_count": 3,
     "metadata": {},
     "output_type": "execute_result"
    }
   ],
   "source": [
    "uplift_result_file = \"df_comparison_uplift.pickle\"\n",
    "df_comparison_uplift = pd.read_pickle(uplift_result_file)\n",
    "churn_result_file = \"df_comparison_churn.pickle\"\n",
    "df_comparison_churn = pd.read_pickle(churn_result_file)\n",
    "dummy_result_file = \"df_comparison_dummy.pickle\"\n",
    "df_comparison_dummy = pd.read_pickle(dummy_result_file)\n",
    "\n",
    "df_to_plot = pd.concat((df_comparison_dummy, df_comparison_churn, df_comparison_uplift), axis=1)\n",
    "\n",
    "def check_series_is_ordered(ser, ascending=True):\n",
    "    \"\"\"Check 1 series is ascending\"\"\"\n",
    "    assert ascending==True, \"Haven't done descending yet, nor tested this\"\n",
    "    return (ser.shift()[1:].reset_index(drop=True) >= ser[:-1].reset_index(drop=True)).all()\n",
    "\n",
    "assert check_series_is_ordered(df_to_plot['churn_proba_pos'])\n",
    "assert check_series_is_ordered(df_to_plot['dummy_proba_pos'])\n",
    "assert check_series_is_ordered(df_to_plot['uplift_diff_t_c'])\n",
    "\n",
    "df_to_plot"
   ]
  },
  {
   "cell_type": "code",
   "execution_count": 4,
   "id": "0e06f693",
   "metadata": {},
   "outputs": [
    {
     "name": "stdout",
     "output_type": "stream",
     "text": [
      "is view False, is consolidated False, single block False, numeric mixed True\n",
      "6 blocks looking like:\n",
      "(NumericBlock: slice(0, 1, 1), 1 x 50000, dtype: float64, NumericBlock: slice(1, 2, 1), 1 x 50000, dtype: int64, NumericBlock: slice(2, 3, 1), 1 x 50000, dtype: float64, NumericBlock: slice(3, 4, 1), 1 x 50000, dtype: int64, NumericBlock: slice(4, 5, 1), 1 x 50000, dtype: float64, NumericBlock: slice(5, 6, 1), 1 x 50000, dtype: int64)\n"
     ]
    }
   ],
   "source": [
    "sanity_check(df_to_plot)\n",
    "show_df_details(df_to_plot)"
   ]
  },
  {
   "cell_type": "code",
   "execution_count": 5,
   "id": "95b127a2",
   "metadata": {},
   "outputs": [
    {
     "data": {
      "text/html": [
       "<div>\n",
       "<style scoped>\n",
       "    .dataframe tbody tr th:only-of-type {\n",
       "        vertical-align: middle;\n",
       "    }\n",
       "\n",
       "    .dataframe tbody tr th {\n",
       "        vertical-align: top;\n",
       "    }\n",
       "\n",
       "    .dataframe thead th {\n",
       "        text-align: right;\n",
       "    }\n",
       "</style>\n",
       "<table border=\"1\" class=\"dataframe\">\n",
       "  <thead>\n",
       "    <tr style=\"text-align: right;\">\n",
       "      <th></th>\n",
       "      <th>uplift_value</th>\n",
       "      <th>uplift_value_cumsum</th>\n",
       "    </tr>\n",
       "  </thead>\n",
       "  <tbody>\n",
       "    <tr>\n",
       "      <th>0</th>\n",
       "      <td>980</td>\n",
       "      <td>980</td>\n",
       "    </tr>\n",
       "    <tr>\n",
       "      <th>1</th>\n",
       "      <td>980</td>\n",
       "      <td>1960</td>\n",
       "    </tr>\n",
       "    <tr>\n",
       "      <th>2</th>\n",
       "      <td>980</td>\n",
       "      <td>2940</td>\n",
       "    </tr>\n",
       "    <tr>\n",
       "      <th>3</th>\n",
       "      <td>980</td>\n",
       "      <td>3920</td>\n",
       "    </tr>\n",
       "    <tr>\n",
       "      <th>4</th>\n",
       "      <td>-20</td>\n",
       "      <td>3900</td>\n",
       "    </tr>\n",
       "    <tr>\n",
       "      <th>...</th>\n",
       "      <td>...</td>\n",
       "      <td>...</td>\n",
       "    </tr>\n",
       "    <tr>\n",
       "      <th>49995</th>\n",
       "      <td>980</td>\n",
       "      <td>40990080</td>\n",
       "    </tr>\n",
       "    <tr>\n",
       "      <th>49996</th>\n",
       "      <td>980</td>\n",
       "      <td>40991060</td>\n",
       "    </tr>\n",
       "    <tr>\n",
       "      <th>49997</th>\n",
       "      <td>980</td>\n",
       "      <td>40992040</td>\n",
       "    </tr>\n",
       "    <tr>\n",
       "      <th>49998</th>\n",
       "      <td>980</td>\n",
       "      <td>40993020</td>\n",
       "    </tr>\n",
       "    <tr>\n",
       "      <th>49999</th>\n",
       "      <td>-20</td>\n",
       "      <td>40993000</td>\n",
       "    </tr>\n",
       "  </tbody>\n",
       "</table>\n",
       "<p>50000 rows × 2 columns</p>\n",
       "</div>"
      ],
      "text/plain": [
       "       uplift_value  uplift_value_cumsum\n",
       "0               980                  980\n",
       "1               980                 1960\n",
       "2               980                 2940\n",
       "3               980                 3920\n",
       "4               -20                 3900\n",
       "...             ...                  ...\n",
       "49995           980             40990080\n",
       "49996           980             40991060\n",
       "49997           980             40992040\n",
       "49998           980             40993020\n",
       "49999           -20             40993000\n",
       "\n",
       "[50000 rows x 2 columns]"
      ]
     },
     "execution_count": 5,
     "metadata": {},
     "output_type": "execute_result"
    }
   ],
   "source": [
    "def calculate_value_generated(dfx, col_will_churn, model_name):\n",
    "    # assume we're sorted\n",
    "    #df_costing = dfx.sort_values(col, ascending=ascending).copy().reset_index(drop=True)\n",
    "    df_costing = dfx[[col_will_churn]].copy()\n",
    "    #df_costing['price_if_mktd'] = -1\n",
    "    #df_costing['price_if_mktd_cumsum'] = df_costing['price_if_mktd'].cumsum()\n",
    "    #df_costing['price_if_retained'] = 1000 * (df_costing[col_will_churn]==0)\n",
    "    value_column = f\"{model_name}_value\"\n",
    "    df_costing[value_column] = (VALUE_PER_RETAINED_CONTRACT * (df_costing[col_will_churn]==0)) - MARKETING_COST_PER_INSURED\n",
    "    value_column_cumsum = f\"{model_name}_value_cumsum\"\n",
    "    df_costing[value_column_cumsum] = df_costing[value_column].cumsum()\n",
    "    return df_costing[[value_column, value_column_cumsum]]\n",
    "\n",
    "df_costing_uplift = calculate_value_generated(df_to_plot, \"uplift_will_churn\", \"uplift\")\n",
    "#df_costing.iloc[10000]\n",
    "df_costing_uplift"
   ]
  },
  {
   "cell_type": "code",
   "execution_count": 6,
   "id": "9784151c",
   "metadata": {},
   "outputs": [],
   "source": [
    "df_costing_churn = calculate_value_generated(df_to_plot, \"churn_will_churn\", \"churn\")"
   ]
  },
  {
   "cell_type": "code",
   "execution_count": 7,
   "id": "20fc170e",
   "metadata": {},
   "outputs": [],
   "source": [
    "df_costing_dummy = calculate_value_generated(df_to_plot, \"dummy_will_churn\", \"dummy\")"
   ]
  },
  {
   "cell_type": "code",
   "execution_count": 8,
   "id": "5f49325a",
   "metadata": {},
   "outputs": [
    {
     "data": {
      "text/html": [
       "<div>\n",
       "<style scoped>\n",
       "    .dataframe tbody tr th:only-of-type {\n",
       "        vertical-align: middle;\n",
       "    }\n",
       "\n",
       "    .dataframe tbody tr th {\n",
       "        vertical-align: top;\n",
       "    }\n",
       "\n",
       "    .dataframe thead th {\n",
       "        text-align: right;\n",
       "    }\n",
       "</style>\n",
       "<table border=\"1\" class=\"dataframe\">\n",
       "  <thead>\n",
       "    <tr style=\"text-align: right;\">\n",
       "      <th></th>\n",
       "      <th>dummy_value</th>\n",
       "      <th>dummy_value_cumsum</th>\n",
       "      <th>churn_value</th>\n",
       "      <th>churn_value_cumsum</th>\n",
       "      <th>uplift_value</th>\n",
       "      <th>uplift_value_cumsum</th>\n",
       "    </tr>\n",
       "  </thead>\n",
       "  <tbody>\n",
       "    <tr>\n",
       "      <th>1110</th>\n",
       "      <td>980</td>\n",
       "      <td>905780</td>\n",
       "      <td>-20</td>\n",
       "      <td>792780</td>\n",
       "      <td>980</td>\n",
       "      <td>902780</td>\n",
       "    </tr>\n",
       "    <tr>\n",
       "      <th>7512</th>\n",
       "      <td>-20</td>\n",
       "      <td>6155740</td>\n",
       "      <td>980</td>\n",
       "      <td>5774740</td>\n",
       "      <td>980</td>\n",
       "      <td>6462740</td>\n",
       "    </tr>\n",
       "    <tr>\n",
       "      <th>15671</th>\n",
       "      <td>-20</td>\n",
       "      <td>12827560</td>\n",
       "      <td>980</td>\n",
       "      <td>12172560</td>\n",
       "      <td>980</td>\n",
       "      <td>13413560</td>\n",
       "    </tr>\n",
       "    <tr>\n",
       "      <th>24399</th>\n",
       "      <td>980</td>\n",
       "      <td>20001000</td>\n",
       "      <td>980</td>\n",
       "      <td>19339000</td>\n",
       "      <td>-20</td>\n",
       "      <td>20599000</td>\n",
       "    </tr>\n",
       "    <tr>\n",
       "      <th>35623</th>\n",
       "      <td>-20</td>\n",
       "      <td>29208520</td>\n",
       "      <td>980</td>\n",
       "      <td>28582520</td>\n",
       "      <td>980</td>\n",
       "      <td>29829520</td>\n",
       "    </tr>\n",
       "  </tbody>\n",
       "</table>\n",
       "</div>"
      ],
      "text/plain": [
       "       dummy_value  dummy_value_cumsum  churn_value  churn_value_cumsum  \\\n",
       "1110           980              905780          -20              792780   \n",
       "7512           -20             6155740          980             5774740   \n",
       "15671          -20            12827560          980            12172560   \n",
       "24399          980            20001000          980            19339000   \n",
       "35623          -20            29208520          980            28582520   \n",
       "\n",
       "       uplift_value  uplift_value_cumsum  \n",
       "1110            980               902780  \n",
       "7512            980              6462740  \n",
       "15671           980             13413560  \n",
       "24399           -20             20599000  \n",
       "35623           980             29829520  "
      ]
     },
     "execution_count": 8,
     "metadata": {},
     "output_type": "execute_result"
    }
   ],
   "source": [
    "df_to_plot = pd.concat((df_costing_dummy, df_costing_churn, df_costing_uplift), axis=1)\n",
    "df_to_plot.sample(5).sort_index()"
   ]
  },
  {
   "cell_type": "code",
   "execution_count": 9,
   "id": "de103d53",
   "metadata": {},
   "outputs": [],
   "source": [
    "#row_with_minimum_uplift_effect = (0 - df_comparison_uplift['uplift_diff_t_c'].abs()).idxmax()\n",
    "#row_with_minimum_uplift_effect\n",
    "#print(f\"By insured {row_with_minimum_uplift_effect:,} the Uplift model predicts subsequent rows will respond neutrally or negatively to this campaign\")\n",
    "#print(f\"By this point we've incurred a marketing cost of ${MARKETING_COST_PER_INSURED * row_with_minimum_uplift_effect:,}.\")\n",
    "#df_to_plot.loc[row_with_minimum_uplift_effect]"
   ]
  },
  {
   "cell_type": "code",
   "execution_count": 10,
   "id": "042ba18b",
   "metadata": {},
   "outputs": [
    {
     "name": "stdout",
     "output_type": "stream",
     "text": [
      "By this point (10,000) we've incurred a marketing cost of $200,000.\n"
     ]
    },
    {
     "data": {
      "text/plain": [
       "dummy_value                -20\n",
       "dummy_value_cumsum     8191980\n",
       "churn_value                -20\n",
       "churn_value_cumsum     7739980\n",
       "uplift_value               980\n",
       "uplift_value_cumsum    8556980\n",
       "Name: 10000, dtype: int64"
      ]
     },
     "execution_count": 10,
     "metadata": {},
     "output_type": "execute_result"
    }
   ],
   "source": [
    "row_choice = 10_000\n",
    "print(f\"By this point ({row_choice:,}) we've incurred a marketing cost of ${MARKETING_COST_PER_INSURED * row_choice:,}.\")\n",
    "\n",
    "df_to_plot.iloc[row_choice]"
   ]
  },
  {
   "cell_type": "code",
   "execution_count": 11,
   "id": "87e5133e",
   "metadata": {},
   "outputs": [
    {
     "name": "stdout",
     "output_type": "stream",
     "text": [
      "By insured 36,980 the Uplift model predicts subsequent rows will respond neutrally or negatively to this campaign\n",
      "By this point we've incurred a marketing cost of $739,600.\n"
     ]
    },
    {
     "data": {
      "text/plain": [
       "dummy_value                 980\n",
       "dummy_value_cumsum     30341380\n",
       "churn_value                 980\n",
       "churn_value_cumsum     29713380\n",
       "uplift_value                980\n",
       "uplift_value_cumsum    30945380\n",
       "Name: 36980, dtype: int64"
      ]
     },
     "execution_count": 11,
     "metadata": {},
     "output_type": "execute_result"
    }
   ],
   "source": [
    "row_choice = row_with_minimum_uplift_effect = (0 - df_comparison_uplift['uplift_diff_t_c'].abs()).idxmax()\n",
    "print(f\"By insured {row_choice:,} the Uplift model predicts subsequent rows will respond neutrally or negatively to this campaign\")\n",
    "print(f\"By this point we've incurred a marketing cost of ${MARKETING_COST_PER_INSURED * row_choice:,}.\")\n",
    "\n",
    "df_to_plot.iloc[row_choice]"
   ]
  },
  {
   "cell_type": "code",
   "execution_count": 12,
   "id": "e288e7a7",
   "metadata": {},
   "outputs": [],
   "source": [
    "df_to_plot['dummy_value_cumsum'] = df_to_plot['dummy_value_cumsum'] / ONE_MILLION\n",
    "df_to_plot['churn_value_cumsum'] = df_to_plot['churn_value_cumsum'] / ONE_MILLION\n",
    "df_to_plot['uplift_value_cumsum'] = df_to_plot['uplift_value_cumsum'] / ONE_MILLION"
   ]
  },
  {
   "cell_type": "code",
   "execution_count": 13,
   "id": "bc0e85d1",
   "metadata": {},
   "outputs": [
    {
     "data": {
      "image/png": "[encoded data removed]",
      "text/plain": [
       "<Figure size 576x576 with 1 Axes>"
      ]
     },
     "metadata": {
      "needs_background": "light"
     },
     "output_type": "display_data"
    }
   ],
   "source": [
    "fig, ax = plt.subplots(constrained_layout=True, figsize=(8, 8))\n",
    "df_to_plot[:50_000].plot(y=['uplift_value_cumsum', 'dummy_value_cumsum', 'churn_value_cumsum'], ax=ax);\n",
    "title = \"Cumulative value retained after costs using both models\"\n",
    "set_common_mpl_styles(ax, grid_axis=\"both\", xlabel=\"Insureds ranked by best to target\", \n",
    "                      ylabel=\"Cumulative value after costs (millions)\", title=title)\n",
    "ax.xaxis.set_major_formatter(StrMethodFormatter('{x:,}'))\n",
    "ax.yaxis.set_major_formatter(StrMethodFormatter('${x:}M'))"
   ]
  },
  {
   "cell_type": "code",
   "execution_count": 14,
   "id": "667d2e4f",
   "metadata": {},
   "outputs": [
    {
     "data": {
      "text/plain": [
       "[[0.0, 9999.8), [0.0, 9999.8), [0.0, 9999.8), [0.0, 9999.8), [0.0, 9999.8), ..., [39999.2, 50048.999), [39999.2, 50048.999), [39999.2, 50048.999), [39999.2, 50048.999), [39999.2, 50048.999)]\n",
       "Length: 50000\n",
       "Categories (5, interval[float64, left]): [[0.0, 9999.8) < [9999.8, 19999.6) < [19999.6, 29999.4) < [29999.4, 39999.2) < [39999.2, 50048.999)]"
      ]
     },
     "execution_count": 14,
     "metadata": {},
     "output_type": "execute_result"
    }
   ],
   "source": [
    "quantile = pd.cut(df_to_plot.index, 5, right=False)\n",
    "quantile"
   ]
  },
  {
   "cell_type": "code",
   "execution_count": 15,
   "id": "8ea5eed1",
   "metadata": {},
   "outputs": [
    {
     "data": {
      "text/html": [
       "<div>\n",
       "<style scoped>\n",
       "    .dataframe tbody tr th:only-of-type {\n",
       "        vertical-align: middle;\n",
       "    }\n",
       "\n",
       "    .dataframe tbody tr th {\n",
       "        vertical-align: top;\n",
       "    }\n",
       "\n",
       "    .dataframe thead th {\n",
       "        text-align: right;\n",
       "    }\n",
       "</style>\n",
       "<table border=\"1\" class=\"dataframe\">\n",
       "  <thead>\n",
       "    <tr style=\"text-align: right;\">\n",
       "      <th></th>\n",
       "      <th>uplift_value</th>\n",
       "      <th>dummy_value</th>\n",
       "      <th>churn_value</th>\n",
       "    </tr>\n",
       "  </thead>\n",
       "  <tbody>\n",
       "    <tr>\n",
       "      <th>[0.00 - 10.00k)</th>\n",
       "      <td>855.6</td>\n",
       "      <td>819.2</td>\n",
       "      <td>774.0</td>\n",
       "    </tr>\n",
       "    <tr>\n",
       "      <th>[10.00k - 20.00k)</th>\n",
       "      <td>841.2</td>\n",
       "      <td>820.1</td>\n",
       "      <td>797.5</td>\n",
       "    </tr>\n",
       "    <tr>\n",
       "      <th>[20.00k - 30.00k)</th>\n",
       "      <td>824.6</td>\n",
       "      <td>820.6</td>\n",
       "      <td>825.1</td>\n",
       "    </tr>\n",
       "    <tr>\n",
       "      <th>[30.00k - 40.00k)</th>\n",
       "      <td>805.8</td>\n",
       "      <td>822.2</td>\n",
       "      <td>836.4</td>\n",
       "    </tr>\n",
       "    <tr>\n",
       "      <th>[40.00k - 50.05k)</th>\n",
       "      <td>772.1</td>\n",
       "      <td>817.2</td>\n",
       "      <td>866.3</td>\n",
       "    </tr>\n",
       "  </tbody>\n",
       "</table>\n",
       "</div>"
      ],
      "text/plain": [
       "                   uplift_value  dummy_value  churn_value\n",
       "[0.00 - 10.00k)           855.6        819.2        774.0\n",
       "[10.00k - 20.00k)         841.2        820.1        797.5\n",
       "[20.00k - 30.00k)         824.6        820.6        825.1\n",
       "[30.00k - 40.00k)         805.8        822.2        836.4\n",
       "[40.00k - 50.05k)         772.1        817.2        866.3"
      ]
     },
     "execution_count": 15,
     "metadata": {},
     "output_type": "execute_result"
    }
   ],
   "source": [
    "mean_result_by_quantile = df_to_plot.groupby(quantile)[['uplift_value', 'dummy_value', 'churn_value']].mean()\n",
    "mean_result_by_quantile.index = apply_labelling(mean_result_by_quantile.index, format_to_base_10)\n",
    "mean_result_by_quantile"
   ]
  },
  {
   "cell_type": "code",
   "execution_count": 16,
   "id": "5e377fd8",
   "metadata": {},
   "outputs": [
    {
     "data": {
      "image/png": "[encoded data removed]",
      "text/plain": [
       "<Figure size 576x576 with 1 Axes>"
      ]
     },
     "metadata": {
      "needs_background": "light"
     },
     "output_type": "display_data"
    }
   ],
   "source": [
    "fig, ax = plt.subplots(figsize=(8, 8), constrained_layout=True)\n",
    "mean_result_by_quantile.plot(kind='bar', ax=ax)\n",
    "title = \"Mean ROI treating insureds in predicted priority order by quantile\"\n",
    "set_common_mpl_styles(ax, grid_axis=\"y\", xlabel=\"Insureds by quantile (best-to-treat first on the left)\", title=title, ylabel=\"Mean return $ per quantile (bigger is better)\")\n",
    "ax.yaxis.set_major_formatter(StrMethodFormatter('${x:,}'))"
   ]
  },
  {
   "cell_type": "code",
   "execution_count": 17,
   "id": "2b7c5760",
   "metadata": {},
   "outputs": [
    {
     "data": {
      "text/plain": [
       "<AxesSubplot:>"
      ]
     },
     "execution_count": 17,
     "metadata": {},
     "output_type": "execute_result"
    },
    {
     "data": {
      "image/png": "[encoded data removed]",
      "text/plain": [
       "<Figure size 432x288 with 1 Axes>"
      ]
     },
     "metadata": {
      "needs_background": "light"
     },
     "output_type": "display_data"
    }
   ],
   "source": [
    "churn_from_dummy = mean_result_by_quantile['churn_value'] - mean_result_by_quantile['dummy_value']\n",
    "uplift_from_dummy = mean_result_by_quantile['uplift_value'] - mean_result_by_quantile['dummy_value']\n",
    "lift_from_dummy = pd.concat((churn_from_dummy, uplift_from_dummy), axis=1)\n",
    "lift_from_dummy.columns = ['churn_lift', 'uplift_lift']\n",
    "lift_from_dummy.plot(kind='bar')"
   ]
  },
  {
   "cell_type": "code",
   "execution_count": 18,
   "id": "cfdf8ecf",
   "metadata": {},
   "outputs": [
    {
     "data": {
      "text/html": [
       "<div>\n",
       "<style scoped>\n",
       "    .dataframe tbody tr th:only-of-type {\n",
       "        vertical-align: middle;\n",
       "    }\n",
       "\n",
       "    .dataframe tbody tr th {\n",
       "        vertical-align: top;\n",
       "    }\n",
       "\n",
       "    .dataframe thead th {\n",
       "        text-align: right;\n",
       "    }\n",
       "</style>\n",
       "<table border=\"1\" class=\"dataframe\">\n",
       "  <thead>\n",
       "    <tr style=\"text-align: right;\">\n",
       "      <th></th>\n",
       "      <th>uplift_value</th>\n",
       "      <th>dummy_value</th>\n",
       "      <th>churn_value</th>\n",
       "    </tr>\n",
       "  </thead>\n",
       "  <tbody>\n",
       "    <tr>\n",
       "      <th>[0.00 - 10.00k)</th>\n",
       "      <td>8556000</td>\n",
       "      <td>8192000</td>\n",
       "      <td>7740000</td>\n",
       "    </tr>\n",
       "    <tr>\n",
       "      <th>[10.00k - 20.00k)</th>\n",
       "      <td>8412000</td>\n",
       "      <td>8201000</td>\n",
       "      <td>7975000</td>\n",
       "    </tr>\n",
       "    <tr>\n",
       "      <th>[20.00k - 30.00k)</th>\n",
       "      <td>8246000</td>\n",
       "      <td>8206000</td>\n",
       "      <td>8251000</td>\n",
       "    </tr>\n",
       "    <tr>\n",
       "      <th>[30.00k - 40.00k)</th>\n",
       "      <td>8058000</td>\n",
       "      <td>8222000</td>\n",
       "      <td>8364000</td>\n",
       "    </tr>\n",
       "    <tr>\n",
       "      <th>[40.00k - 50.05k)</th>\n",
       "      <td>7721000</td>\n",
       "      <td>8172000</td>\n",
       "      <td>8663000</td>\n",
       "    </tr>\n",
       "  </tbody>\n",
       "</table>\n",
       "</div>"
      ],
      "text/plain": [
       "                   uplift_value  dummy_value  churn_value\n",
       "[0.00 - 10.00k)         8556000      8192000      7740000\n",
       "[10.00k - 20.00k)       8412000      8201000      7975000\n",
       "[20.00k - 30.00k)       8246000      8206000      8251000\n",
       "[30.00k - 40.00k)       8058000      8222000      8364000\n",
       "[40.00k - 50.05k)       7721000      8172000      8663000"
      ]
     },
     "execution_count": 18,
     "metadata": {},
     "output_type": "execute_result"
    }
   ],
   "source": [
    "sum_result_by_quantile = df_to_plot.groupby(quantile)[['uplift_value', 'dummy_value', 'churn_value']].sum()\n",
    "sum_result_by_quantile.index = apply_labelling(sum_result_by_quantile.index, format_to_base_10)\n",
    "sum_result_by_quantile"
   ]
  },
  {
   "cell_type": "code",
   "execution_count": 19,
   "id": "775e54f3",
   "metadata": {},
   "outputs": [
    {
     "data": {
      "text/plain": [
       "<AxesSubplot:>"
      ]
     },
     "execution_count": 19,
     "metadata": {},
     "output_type": "execute_result"
    },
    {
     "data": {
      "image/png": "[encoded data removed]",
      "text/plain": [
       "<Figure size 432x288 with 1 Axes>"
      ]
     },
     "metadata": {
      "needs_background": "light"
     },
     "output_type": "display_data"
    }
   ],
   "source": [
    "churn_from_dummy = sum_result_by_quantile['churn_value'] - sum_result_by_quantile['dummy_value']\n",
    "uplift_from_dummy = sum_result_by_quantile['uplift_value'] - sum_result_by_quantile['dummy_value']\n",
    "lift_from_dummy = pd.concat((churn_from_dummy, uplift_from_dummy), axis=1)\n",
    "lift_from_dummy /= ONE_MILLION\n",
    "lift_from_dummy.columns = ['churn_lift', 'uplift_lift']\n",
    "lift_from_dummy.plot(kind='bar')"
   ]
  },
  {
   "cell_type": "code",
   "execution_count": 20,
   "id": "276f87ed",
   "metadata": {},
   "outputs": [
    {
     "data": {
      "text/html": [
       "<div>\n",
       "<style scoped>\n",
       "    .dataframe tbody tr th:only-of-type {\n",
       "        vertical-align: middle;\n",
       "    }\n",
       "\n",
       "    .dataframe tbody tr th {\n",
       "        vertical-align: top;\n",
       "    }\n",
       "\n",
       "    .dataframe thead th {\n",
       "        text-align: right;\n",
       "    }\n",
       "</style>\n",
       "<table border=\"1\" class=\"dataframe\">\n",
       "  <thead>\n",
       "    <tr style=\"text-align: right;\">\n",
       "      <th></th>\n",
       "      <th>churn_lift</th>\n",
       "      <th>uplift_lift</th>\n",
       "    </tr>\n",
       "  </thead>\n",
       "  <tbody>\n",
       "    <tr>\n",
       "      <th>[0.00 - 10.00k)</th>\n",
       "      <td>-0.452</td>\n",
       "      <td>0.364</td>\n",
       "    </tr>\n",
       "    <tr>\n",
       "      <th>[10.00k - 20.00k)</th>\n",
       "      <td>-0.226</td>\n",
       "      <td>0.211</td>\n",
       "    </tr>\n",
       "    <tr>\n",
       "      <th>[20.00k - 30.00k)</th>\n",
       "      <td>0.045</td>\n",
       "      <td>0.040</td>\n",
       "    </tr>\n",
       "    <tr>\n",
       "      <th>[30.00k - 40.00k)</th>\n",
       "      <td>0.142</td>\n",
       "      <td>-0.164</td>\n",
       "    </tr>\n",
       "    <tr>\n",
       "      <th>[40.00k - 50.05k)</th>\n",
       "      <td>0.491</td>\n",
       "      <td>-0.451</td>\n",
       "    </tr>\n",
       "  </tbody>\n",
       "</table>\n",
       "</div>"
      ],
      "text/plain": [
       "                   churn_lift  uplift_lift\n",
       "[0.00 - 10.00k)        -0.452        0.364\n",
       "[10.00k - 20.00k)      -0.226        0.211\n",
       "[20.00k - 30.00k)       0.045        0.040\n",
       "[30.00k - 40.00k)       0.142       -0.164\n",
       "[40.00k - 50.05k)       0.491       -0.451"
      ]
     },
     "execution_count": 20,
     "metadata": {},
     "output_type": "execute_result"
    }
   ],
   "source": [
    "lift_from_dummy"
   ]
  },
  {
   "cell_type": "code",
   "execution_count": 21,
   "id": "81f274b8",
   "metadata": {},
   "outputs": [
    {
     "data": {
      "image/png": "[encoded data removed]",
      "text/plain": [
       "<Figure size 576x576 with 2 Axes>"
      ]
     },
     "metadata": {
      "needs_background": "light"
     },
     "output_type": "display_data"
    }
   ],
   "source": [
    "fig, axs = plt.subplot_mosaic([['Uplift', 'Churn']], sharex=True, sharey=True, figsize=(8, 8), constrained_layout=True)\n",
    "lift_from_dummy['uplift_lift'].plot(kind='bar', ax=axs['Uplift'])\n",
    "lift_from_dummy['churn_lift'].plot(kind='bar', ax=axs['Churn'], color='g')\n",
    "title = f'Uplift model\\n(Cease marketing effort by {int(row_with_minimum_uplift_effect/1000)}k)'\n",
    "set_common_mpl_styles(ax=axs['Uplift'], ylabel='Total lift vs random order (bigger is better)', \n",
    "                      title=title, xlabel='Ranked population in 10k percentiles')\n",
    "set_common_mpl_styles(ax=axs['Churn'], title='Churn model')\n",
    "title = f\"Lift per quintile vs random ordering where \\${VALUE_PER_RETAINED_CONTRACT:0.0f} is earned per retained contract,\\neach marketing action costs ${MARKETING_COST_PER_INSURED:0.0f} and 84% retention is normal\"\n",
    "fig.suptitle(title);\n",
    "axs['Uplift'].get_legend().remove()\n",
    "axs['Churn'].get_legend().remove()\n",
    "axs['Uplift'].yaxis.set_major_formatter(StrMethodFormatter('${x:2.1f}M'))"
   ]
  },
  {
   "cell_type": "code",
   "execution_count": 22,
   "id": "14443ec8",
   "metadata": {},
   "outputs": [
    {
     "data": {
      "text/plain": [
       "datetime.datetime(2022, 2, 18, 16, 14, 21, 551828)"
      ]
     },
     "execution_count": 22,
     "metadata": {},
     "output_type": "execute_result"
    }
   ],
   "source": [
    "datetime.datetime.now()"
   ]
  }
 ],
 "metadata": {
  "kernelspec": {
   "display_name": "Python 3 (ipykernel)",
   "language": "python",
   "name": "python3"
  },
  "language_info": {
   "codemirror_mode": {
    "name": "ipython",
    "version": 3
   },
   "file_extension": ".py",
   "mimetype": "text/x-python",
   "name": "python",
   "nbconvert_exporter": "python",
   "pygments_lexer": "ipython3",
   "version": "3.10.2"
  }
 },
 "nbformat": 4,
 "nbformat_minor": 5
}
