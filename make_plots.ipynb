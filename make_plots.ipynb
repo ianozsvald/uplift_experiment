{
 "cells": [
  {
   "cell_type": "markdown",
   "id": "91f0cb2a",
   "metadata": {},
   "source": [
    "# Plot the model outputs"
   ]
  },
  {
   "cell_type": "code",
   "execution_count": 1,
   "id": "34f58126",
   "metadata": {},
   "outputs": [],
   "source": [
    "import pandas as pd\n",
    "from simpler_mpl import set_common_mpl_styles\n",
    "from matplotlib.ticker import FormatStrFormatter, StrMethodFormatter\n",
    "import matplotlib.pyplot as plt\n",
    "from simpler_pandas import apply_labelling, sanity_check, show_df_details\n",
    "from labelling import format_to_base_10\n",
    "\n",
    "%load_ext autoreload\n",
    "%autoreload 2"
   ]
  },
  {
   "cell_type": "code",
   "execution_count": 2,
   "id": "6ff39eaa",
   "metadata": {},
   "outputs": [],
   "source": [
    "MARKETING_COST_PER_INSURED = 20\n",
    "VALUE_PER_RETAINED_CONTRACT = 1000\n",
    "ONE_MILLION = 1_000_000\n",
    "\n",
    "#economic = f\"${VALUE_PER_RETAINED_CONTRACT:0.0f} earned per retained contract and ${MARKETING_COST_PER_INSURED:0.0f} cost per marketing action\"\n",
    "#economic"
   ]
  },
  {
   "cell_type": "code",
   "execution_count": 3,
   "id": "7c416d7a",
   "metadata": {},
   "outputs": [
    {
     "data": {
      "text/html": [
       "<div>\n",
       "<style scoped>\n",
       "    .dataframe tbody tr th:only-of-type {\n",
       "        vertical-align: middle;\n",
       "    }\n",
       "\n",
       "    .dataframe tbody tr th {\n",
       "        vertical-align: top;\n",
       "    }\n",
       "\n",
       "    .dataframe thead th {\n",
       "        text-align: right;\n",
       "    }\n",
       "</style>\n",
       "<table border=\"1\" class=\"dataframe\">\n",
       "  <thead>\n",
       "    <tr style=\"text-align: right;\">\n",
       "      <th></th>\n",
       "      <th>dummy_proba_pos</th>\n",
       "      <th>dummy_will_churn</th>\n",
       "      <th>churn_proba_pos</th>\n",
       "      <th>churn_will_churn</th>\n",
       "      <th>uplift_diff_t_c</th>\n",
       "      <th>uplift_will_churn</th>\n",
       "    </tr>\n",
       "  </thead>\n",
       "  <tbody>\n",
       "    <tr>\n",
       "      <th>0</th>\n",
       "      <td>0.15827</td>\n",
       "      <td>0</td>\n",
       "      <td>0.999292</td>\n",
       "      <td>1</td>\n",
       "      <td>-0.064676</td>\n",
       "      <td>0</td>\n",
       "    </tr>\n",
       "    <tr>\n",
       "      <th>1</th>\n",
       "      <td>0.15827</td>\n",
       "      <td>0</td>\n",
       "      <td>0.999292</td>\n",
       "      <td>1</td>\n",
       "      <td>-0.064676</td>\n",
       "      <td>0</td>\n",
       "    </tr>\n",
       "    <tr>\n",
       "      <th>2</th>\n",
       "      <td>0.15827</td>\n",
       "      <td>0</td>\n",
       "      <td>0.999292</td>\n",
       "      <td>1</td>\n",
       "      <td>-0.064676</td>\n",
       "      <td>1</td>\n",
       "    </tr>\n",
       "    <tr>\n",
       "      <th>3</th>\n",
       "      <td>0.15827</td>\n",
       "      <td>0</td>\n",
       "      <td>0.999292</td>\n",
       "      <td>1</td>\n",
       "      <td>-0.064676</td>\n",
       "      <td>0</td>\n",
       "    </tr>\n",
       "    <tr>\n",
       "      <th>4</th>\n",
       "      <td>0.15827</td>\n",
       "      <td>0</td>\n",
       "      <td>0.999292</td>\n",
       "      <td>1</td>\n",
       "      <td>-0.064676</td>\n",
       "      <td>0</td>\n",
       "    </tr>\n",
       "    <tr>\n",
       "      <th>...</th>\n",
       "      <td>...</td>\n",
       "      <td>...</td>\n",
       "      <td>...</td>\n",
       "      <td>...</td>\n",
       "      <td>...</td>\n",
       "      <td>...</td>\n",
       "    </tr>\n",
       "    <tr>\n",
       "      <th>49995</th>\n",
       "      <td>0.15827</td>\n",
       "      <td>0</td>\n",
       "      <td>0.062501</td>\n",
       "      <td>0</td>\n",
       "      <td>0.046170</td>\n",
       "      <td>0</td>\n",
       "    </tr>\n",
       "    <tr>\n",
       "      <th>49996</th>\n",
       "      <td>0.15827</td>\n",
       "      <td>0</td>\n",
       "      <td>0.062501</td>\n",
       "      <td>0</td>\n",
       "      <td>0.046170</td>\n",
       "      <td>1</td>\n",
       "    </tr>\n",
       "    <tr>\n",
       "      <th>49997</th>\n",
       "      <td>0.15827</td>\n",
       "      <td>0</td>\n",
       "      <td>0.062501</td>\n",
       "      <td>0</td>\n",
       "      <td>0.046170</td>\n",
       "      <td>0</td>\n",
       "    </tr>\n",
       "    <tr>\n",
       "      <th>49998</th>\n",
       "      <td>0.15827</td>\n",
       "      <td>1</td>\n",
       "      <td>0.062501</td>\n",
       "      <td>0</td>\n",
       "      <td>0.046170</td>\n",
       "      <td>0</td>\n",
       "    </tr>\n",
       "    <tr>\n",
       "      <th>49999</th>\n",
       "      <td>0.15827</td>\n",
       "      <td>0</td>\n",
       "      <td>0.062501</td>\n",
       "      <td>0</td>\n",
       "      <td>0.046170</td>\n",
       "      <td>0</td>\n",
       "    </tr>\n",
       "  </tbody>\n",
       "</table>\n",
       "<p>50000 rows × 6 columns</p>\n",
       "</div>"
      ],
      "text/plain": [
       "       dummy_proba_pos  dummy_will_churn  churn_proba_pos  churn_will_churn  \\\n",
       "0              0.15827                 0         0.999292                 1   \n",
       "1              0.15827                 0         0.999292                 1   \n",
       "2              0.15827                 0         0.999292                 1   \n",
       "3              0.15827                 0         0.999292                 1   \n",
       "4              0.15827                 0         0.999292                 1   \n",
       "...                ...               ...              ...               ...   \n",
       "49995          0.15827                 0         0.062501                 0   \n",
       "49996          0.15827                 0         0.062501                 0   \n",
       "49997          0.15827                 0         0.062501                 0   \n",
       "49998          0.15827                 1         0.062501                 0   \n",
       "49999          0.15827                 0         0.062501                 0   \n",
       "\n",
       "       uplift_diff_t_c  uplift_will_churn  \n",
       "0            -0.064676                  0  \n",
       "1            -0.064676                  0  \n",
       "2            -0.064676                  1  \n",
       "3            -0.064676                  0  \n",
       "4            -0.064676                  0  \n",
       "...                ...                ...  \n",
       "49995         0.046170                  0  \n",
       "49996         0.046170                  1  \n",
       "49997         0.046170                  0  \n",
       "49998         0.046170                  0  \n",
       "49999         0.046170                  0  \n",
       "\n",
       "[50000 rows x 6 columns]"
      ]
     },
     "execution_count": 3,
     "metadata": {},
     "output_type": "execute_result"
    }
   ],
   "source": [
    "uplift_result_file = \"df_comparison_uplift.pickle\"\n",
    "df_comparison_uplift = pd.read_pickle(uplift_result_file)\n",
    "churn_result_file = \"df_comparison_churn.pickle\"\n",
    "df_comparison_churn = pd.read_pickle(churn_result_file)\n",
    "dummy_result_file = \"df_comparison_dummy.pickle\"\n",
    "df_comparison_dummy = pd.read_pickle(dummy_result_file)\n",
    "\n",
    "df_to_plot = pd.concat((df_comparison_dummy, df_comparison_churn, df_comparison_uplift), axis=1)\n",
    "\n",
    "def check_series_is_ordered(ser, ascending=True):\n",
    "    \"\"\"Check 1 series is ascending\"\"\"\n",
    "    assert ascending==True, \"Haven't done descending yet, nor tested this\"\n",
    "    return (ser.shift()[1:].reset_index(drop=True) >= ser[:-1].reset_index(drop=True)).all()\n",
    "\n",
    "assert check_series_is_ordered(df_to_plot['churn_proba_pos'])\n",
    "assert check_series_is_ordered(df_to_plot['dummy_proba_pos'])\n",
    "assert check_series_is_ordered(df_to_plot['uplift_diff_t_c'])\n",
    "\n",
    "df_to_plot"
   ]
  },
  {
   "cell_type": "code",
   "execution_count": 4,
   "id": "0e06f693",
   "metadata": {},
   "outputs": [
    {
     "name": "stdout",
     "output_type": "stream",
     "text": [
      "is view False, is consolidated False, single block False, numeric mixed True\n",
      "6 blocks looking like:\n",
      "(NumericBlock: slice(0, 1, 1), 1 x 50000, dtype: float64, NumericBlock: slice(1, 2, 1), 1 x 50000, dtype: int64, NumericBlock: slice(2, 3, 1), 1 x 50000, dtype: float64, NumericBlock: slice(3, 4, 1), 1 x 50000, dtype: int64, NumericBlock: slice(4, 5, 1), 1 x 50000, dtype: float64, NumericBlock: slice(5, 6, 1), 1 x 50000, dtype: int64)\n"
     ]
    }
   ],
   "source": [
    "sanity_check(df_to_plot)\n",
    "show_df_details(df_to_plot)"
   ]
  },
  {
   "cell_type": "code",
   "execution_count": 5,
   "id": "95b127a2",
   "metadata": {},
   "outputs": [
    {
     "data": {
      "text/html": [
       "<div>\n",
       "<style scoped>\n",
       "    .dataframe tbody tr th:only-of-type {\n",
       "        vertical-align: middle;\n",
       "    }\n",
       "\n",
       "    .dataframe tbody tr th {\n",
       "        vertical-align: top;\n",
       "    }\n",
       "\n",
       "    .dataframe thead th {\n",
       "        text-align: right;\n",
       "    }\n",
       "</style>\n",
       "<table border=\"1\" class=\"dataframe\">\n",
       "  <thead>\n",
       "    <tr style=\"text-align: right;\">\n",
       "      <th></th>\n",
       "      <th>uplift_value</th>\n",
       "      <th>uplift_value_cumsum</th>\n",
       "    </tr>\n",
       "  </thead>\n",
       "  <tbody>\n",
       "    <tr>\n",
       "      <th>0</th>\n",
       "      <td>980</td>\n",
       "      <td>980</td>\n",
       "    </tr>\n",
       "    <tr>\n",
       "      <th>1</th>\n",
       "      <td>980</td>\n",
       "      <td>1960</td>\n",
       "    </tr>\n",
       "    <tr>\n",
       "      <th>2</th>\n",
       "      <td>-20</td>\n",
       "      <td>1940</td>\n",
       "    </tr>\n",
       "    <tr>\n",
       "      <th>3</th>\n",
       "      <td>980</td>\n",
       "      <td>2920</td>\n",
       "    </tr>\n",
       "    <tr>\n",
       "      <th>4</th>\n",
       "      <td>980</td>\n",
       "      <td>3900</td>\n",
       "    </tr>\n",
       "    <tr>\n",
       "      <th>...</th>\n",
       "      <td>...</td>\n",
       "      <td>...</td>\n",
       "    </tr>\n",
       "    <tr>\n",
       "      <th>49995</th>\n",
       "      <td>980</td>\n",
       "      <td>41191080</td>\n",
       "    </tr>\n",
       "    <tr>\n",
       "      <th>49996</th>\n",
       "      <td>-20</td>\n",
       "      <td>41191060</td>\n",
       "    </tr>\n",
       "    <tr>\n",
       "      <th>49997</th>\n",
       "      <td>980</td>\n",
       "      <td>41192040</td>\n",
       "    </tr>\n",
       "    <tr>\n",
       "      <th>49998</th>\n",
       "      <td>980</td>\n",
       "      <td>41193020</td>\n",
       "    </tr>\n",
       "    <tr>\n",
       "      <th>49999</th>\n",
       "      <td>980</td>\n",
       "      <td>41194000</td>\n",
       "    </tr>\n",
       "  </tbody>\n",
       "</table>\n",
       "<p>50000 rows × 2 columns</p>\n",
       "</div>"
      ],
      "text/plain": [
       "       uplift_value  uplift_value_cumsum\n",
       "0               980                  980\n",
       "1               980                 1960\n",
       "2               -20                 1940\n",
       "3               980                 2920\n",
       "4               980                 3900\n",
       "...             ...                  ...\n",
       "49995           980             41191080\n",
       "49996           -20             41191060\n",
       "49997           980             41192040\n",
       "49998           980             41193020\n",
       "49999           980             41194000\n",
       "\n",
       "[50000 rows x 2 columns]"
      ]
     },
     "execution_count": 5,
     "metadata": {},
     "output_type": "execute_result"
    }
   ],
   "source": [
    "def calculate_value_generated(dfx, col_will_churn, model_name):\n",
    "    # assume we're sorted\n",
    "    #df_costing = dfx.sort_values(col, ascending=ascending).copy().reset_index(drop=True)\n",
    "    df_costing = dfx[[col_will_churn]].copy()\n",
    "    #df_costing['price_if_mktd'] = -1\n",
    "    #df_costing['price_if_mktd_cumsum'] = df_costing['price_if_mktd'].cumsum()\n",
    "    #df_costing['price_if_retained'] = 1000 * (df_costing[col_will_churn]==0)\n",
    "    value_column = f\"{model_name}_value\"\n",
    "    df_costing[value_column] = (VALUE_PER_RETAINED_CONTRACT * (df_costing[col_will_churn]==0)) - MARKETING_COST_PER_INSURED\n",
    "    value_column_cumsum = f\"{model_name}_value_cumsum\"\n",
    "    df_costing[value_column_cumsum] = df_costing[value_column].cumsum()\n",
    "    return df_costing[[value_column, value_column_cumsum]]\n",
    "\n",
    "df_costing_uplift = calculate_value_generated(df_to_plot, \"uplift_will_churn\", \"uplift\")\n",
    "#df_costing.iloc[10000]\n",
    "df_costing_uplift"
   ]
  },
  {
   "cell_type": "code",
   "execution_count": 6,
   "id": "9784151c",
   "metadata": {},
   "outputs": [],
   "source": [
    "df_costing_churn = calculate_value_generated(df_to_plot, \"churn_will_churn\", \"churn\")"
   ]
  },
  {
   "cell_type": "code",
   "execution_count": 7,
   "id": "20fc170e",
   "metadata": {},
   "outputs": [],
   "source": [
    "df_costing_dummy = calculate_value_generated(df_to_plot, \"dummy_will_churn\", \"dummy\")"
   ]
  },
  {
   "cell_type": "code",
   "execution_count": 8,
   "id": "5f49325a",
   "metadata": {},
   "outputs": [
    {
     "data": {
      "text/html": [
       "<div>\n",
       "<style scoped>\n",
       "    .dataframe tbody tr th:only-of-type {\n",
       "        vertical-align: middle;\n",
       "    }\n",
       "\n",
       "    .dataframe tbody tr th {\n",
       "        vertical-align: top;\n",
       "    }\n",
       "\n",
       "    .dataframe thead th {\n",
       "        text-align: right;\n",
       "    }\n",
       "</style>\n",
       "<table border=\"1\" class=\"dataframe\">\n",
       "  <thead>\n",
       "    <tr style=\"text-align: right;\">\n",
       "      <th></th>\n",
       "      <th>dummy_value</th>\n",
       "      <th>dummy_value_cumsum</th>\n",
       "      <th>churn_value</th>\n",
       "      <th>churn_value_cumsum</th>\n",
       "      <th>uplift_value</th>\n",
       "      <th>uplift_value_cumsum</th>\n",
       "    </tr>\n",
       "  </thead>\n",
       "  <tbody>\n",
       "    <tr>\n",
       "      <th>561</th>\n",
       "      <td>980</td>\n",
       "      <td>459760</td>\n",
       "      <td>980</td>\n",
       "      <td>449760</td>\n",
       "      <td>980</td>\n",
       "      <td>502760</td>\n",
       "    </tr>\n",
       "    <tr>\n",
       "      <th>9056</th>\n",
       "      <td>-20</td>\n",
       "      <td>7497860</td>\n",
       "      <td>980</td>\n",
       "      <td>7106860</td>\n",
       "      <td>980</td>\n",
       "      <td>7941860</td>\n",
       "    </tr>\n",
       "    <tr>\n",
       "      <th>9759</th>\n",
       "      <td>980</td>\n",
       "      <td>8068800</td>\n",
       "      <td>980</td>\n",
       "      <td>7689800</td>\n",
       "      <td>980</td>\n",
       "      <td>8556800</td>\n",
       "    </tr>\n",
       "    <tr>\n",
       "      <th>22146</th>\n",
       "      <td>980</td>\n",
       "      <td>18242060</td>\n",
       "      <td>-20</td>\n",
       "      <td>18019060</td>\n",
       "      <td>980</td>\n",
       "      <td>18856060</td>\n",
       "    </tr>\n",
       "    <tr>\n",
       "      <th>41130</th>\n",
       "      <td>980</td>\n",
       "      <td>33813380</td>\n",
       "      <td>980</td>\n",
       "      <td>34132380</td>\n",
       "      <td>980</td>\n",
       "      <td>34629380</td>\n",
       "    </tr>\n",
       "  </tbody>\n",
       "</table>\n",
       "</div>"
      ],
      "text/plain": [
       "       dummy_value  dummy_value_cumsum  churn_value  churn_value_cumsum  \\\n",
       "561            980              459760          980              449760   \n",
       "9056           -20             7497860          980             7106860   \n",
       "9759           980             8068800          980             7689800   \n",
       "22146          980            18242060          -20            18019060   \n",
       "41130          980            33813380          980            34132380   \n",
       "\n",
       "       uplift_value  uplift_value_cumsum  \n",
       "561             980               502760  \n",
       "9056            980              7941860  \n",
       "9759            980              8556800  \n",
       "22146           980             18856060  \n",
       "41130           980             34629380  "
      ]
     },
     "execution_count": 8,
     "metadata": {},
     "output_type": "execute_result"
    }
   ],
   "source": [
    "df_to_plot = pd.concat((df_costing_dummy, df_costing_churn, df_costing_uplift), axis=1)\n",
    "df_to_plot.sample(5).sort_index()"
   ]
  },
  {
   "cell_type": "code",
   "execution_count": 9,
   "id": "de103d53",
   "metadata": {},
   "outputs": [],
   "source": [
    "#row_with_minimum_uplift_effect = (0 - df_comparison_uplift['uplift_diff_t_c'].abs()).idxmax()\n",
    "#row_with_minimum_uplift_effect\n",
    "#print(f\"By insured {row_with_minimum_uplift_effect:,} the Uplift model predicts subsequent rows will respond neutrally or negatively to this campaign\")\n",
    "#print(f\"By this point we've incurred a marketing cost of ${MARKETING_COST_PER_INSURED * row_with_minimum_uplift_effect:,}.\")\n",
    "#df_to_plot.loc[row_with_minimum_uplift_effect]"
   ]
  },
  {
   "cell_type": "code",
   "execution_count": 10,
   "id": "e8b6a2bb",
   "metadata": {},
   "outputs": [
    {
     "name": "stdout",
     "output_type": "stream",
     "text": [
      "By this point (10,000) we've incurred a marketing cost of $200,000.\n"
     ]
    },
    {
     "data": {
      "text/plain": [
       "dummy_value                980\n",
       "dummy_value_cumsum     8272980\n",
       "churn_value                980\n",
       "churn_value_cumsum     7898980\n",
       "uplift_value               980\n",
       "uplift_value_cumsum    8752980\n",
       "Name: 10000, dtype: int64"
      ]
     },
     "execution_count": 10,
     "metadata": {},
     "output_type": "execute_result"
    }
   ],
   "source": [
    "row_choice = 10_000\n",
    "print(f\"By this point ({row_choice:,}) we've incurred a marketing cost of ${MARKETING_COST_PER_INSURED * row_choice:,}.\")\n",
    "\n",
    "df_to_plot.iloc[row_choice]"
   ]
  },
  {
   "cell_type": "code",
   "execution_count": 11,
   "id": "01b28c35",
   "metadata": {},
   "outputs": [
    {
     "name": "stdout",
     "output_type": "stream",
     "text": [
      "By insured 41,796 the Uplift model predicts subsequent rows will respond neutrally or negatively to this campaign\n",
      "By this point we've incurred a marketing cost of $835,920.\n"
     ]
    },
    {
     "data": {
      "text/plain": [
       "dummy_value                 980\n",
       "dummy_value_cumsum     34361060\n",
       "churn_value                 980\n",
       "churn_value_cumsum     34650060\n",
       "uplift_value                -20\n",
       "uplift_value_cumsum    35076060\n",
       "Name: 41796, dtype: int64"
      ]
     },
     "execution_count": 11,
     "metadata": {},
     "output_type": "execute_result"
    }
   ],
   "source": [
    "row_choice = row_with_minimum_uplift_effect = (0 - df_comparison_uplift['uplift_diff_t_c'].abs()).idxmax()\n",
    "print(f\"By insured {row_choice:,} the Uplift model predicts subsequent rows will respond neutrally or negatively to this campaign\")\n",
    "print(f\"By this point we've incurred a marketing cost of ${MARKETING_COST_PER_INSURED * row_choice:,}.\")\n",
    "\n",
    "df_to_plot.iloc[row_choice]"
   ]
  },
  {
   "cell_type": "code",
   "execution_count": 12,
   "id": "e288e7a7",
   "metadata": {},
   "outputs": [],
   "source": [
    "df_to_plot['dummy_value_cumsum'] = df_to_plot['dummy_value_cumsum'] / ONE_MILLION\n",
    "df_to_plot['churn_value_cumsum'] = df_to_plot['churn_value_cumsum'] / ONE_MILLION\n",
    "df_to_plot['uplift_value_cumsum'] = df_to_plot['uplift_value_cumsum'] / ONE_MILLION"
   ]
  },
  {
   "cell_type": "code",
   "execution_count": 13,
   "id": "bc0e85d1",
   "metadata": {},
   "outputs": [
    {
     "data": {
      "image/png": "[encoded data removed]",
      "text/plain": [
       "<Figure size 576x576 with 1 Axes>"
      ]
     },
     "metadata": {
      "needs_background": "light"
     },
     "output_type": "display_data"
    }
   ],
   "source": [
    "fig, ax = plt.subplots(constrained_layout=True, figsize=(8, 8))\n",
    "df_to_plot[:50_000].plot(y=['uplift_value_cumsum', 'dummy_value_cumsum', 'churn_value_cumsum'], ax=ax);\n",
    "title = \"Cumulative value retained after costs using both models\"\n",
    "set_common_mpl_styles(ax, grid_axis=\"both\", xlabel=\"Insureds ranked by best to target\", \n",
    "                      ylabel=\"Cumulative value after costs (millions)\", title=title)\n",
    "ax.xaxis.set_major_formatter(StrMethodFormatter('{x:,}'))\n",
    "ax.yaxis.set_major_formatter(StrMethodFormatter('${x:}M'))"
   ]
  },
  {
   "cell_type": "code",
   "execution_count": 14,
   "id": "667d2e4f",
   "metadata": {},
   "outputs": [
    {
     "data": {
      "text/plain": [
       "[[0.0, 9999.8), [0.0, 9999.8), [0.0, 9999.8), [0.0, 9999.8), [0.0, 9999.8), ..., [39999.2, 50048.999), [39999.2, 50048.999), [39999.2, 50048.999), [39999.2, 50048.999), [39999.2, 50048.999)]\n",
       "Length: 50000\n",
       "Categories (5, interval[float64, left]): [[0.0, 9999.8) < [9999.8, 19999.6) < [19999.6, 29999.4) < [29999.4, 39999.2) < [39999.2, 50048.999)]"
      ]
     },
     "execution_count": 14,
     "metadata": {},
     "output_type": "execute_result"
    }
   ],
   "source": [
    "quantile = pd.cut(df_to_plot.index, 5, right=False)\n",
    "quantile"
   ]
  },
  {
   "cell_type": "code",
   "execution_count": 15,
   "id": "8ea5eed1",
   "metadata": {},
   "outputs": [
    {
     "data": {
      "text/html": [
       "<div>\n",
       "<style scoped>\n",
       "    .dataframe tbody tr th:only-of-type {\n",
       "        vertical-align: middle;\n",
       "    }\n",
       "\n",
       "    .dataframe tbody tr th {\n",
       "        vertical-align: top;\n",
       "    }\n",
       "\n",
       "    .dataframe thead th {\n",
       "        text-align: right;\n",
       "    }\n",
       "</style>\n",
       "<table border=\"1\" class=\"dataframe\">\n",
       "  <thead>\n",
       "    <tr style=\"text-align: right;\">\n",
       "      <th></th>\n",
       "      <th>uplift_value</th>\n",
       "      <th>dummy_value</th>\n",
       "      <th>churn_value</th>\n",
       "    </tr>\n",
       "  </thead>\n",
       "  <tbody>\n",
       "    <tr>\n",
       "      <th>[0.00 - 10.00k)</th>\n",
       "      <td>875.2</td>\n",
       "      <td>827.2</td>\n",
       "      <td>789.8</td>\n",
       "    </tr>\n",
       "    <tr>\n",
       "      <th>[10.00k - 20.00k)</th>\n",
       "      <td>830.4</td>\n",
       "      <td>824.0</td>\n",
       "      <td>833.4</td>\n",
       "    </tr>\n",
       "    <tr>\n",
       "      <th>[20.00k - 30.00k)</th>\n",
       "      <td>837.4</td>\n",
       "      <td>818.3</td>\n",
       "      <td>831.7</td>\n",
       "    </tr>\n",
       "    <tr>\n",
       "      <th>[30.00k - 40.00k)</th>\n",
       "      <td>827.9</td>\n",
       "      <td>820.2</td>\n",
       "      <td>859.2</td>\n",
       "    </tr>\n",
       "    <tr>\n",
       "      <th>[40.00k - 50.05k)</th>\n",
       "      <td>748.5</td>\n",
       "      <td>829.7</td>\n",
       "      <td>805.3</td>\n",
       "    </tr>\n",
       "  </tbody>\n",
       "</table>\n",
       "</div>"
      ],
      "text/plain": [
       "                   uplift_value  dummy_value  churn_value\n",
       "[0.00 - 10.00k)           875.2        827.2        789.8\n",
       "[10.00k - 20.00k)         830.4        824.0        833.4\n",
       "[20.00k - 30.00k)         837.4        818.3        831.7\n",
       "[30.00k - 40.00k)         827.9        820.2        859.2\n",
       "[40.00k - 50.05k)         748.5        829.7        805.3"
      ]
     },
     "execution_count": 15,
     "metadata": {},
     "output_type": "execute_result"
    }
   ],
   "source": [
    "mean_result_by_quantile = df_to_plot.groupby(quantile)[['uplift_value', 'dummy_value', 'churn_value']].mean()\n",
    "mean_result_by_quantile.index = apply_labelling(mean_result_by_quantile.index, format_to_base_10)\n",
    "mean_result_by_quantile"
   ]
  },
  {
   "cell_type": "code",
   "execution_count": 16,
   "id": "5e377fd8",
   "metadata": {},
   "outputs": [
    {
     "data": {
      "image/png": "[encoded data removed]",
      "text/plain": [
       "<Figure size 576x576 with 1 Axes>"
      ]
     },
     "metadata": {
      "needs_background": "light"
     },
     "output_type": "display_data"
    }
   ],
   "source": [
    "fig, ax = plt.subplots(figsize=(8, 8), constrained_layout=True)\n",
    "mean_result_by_quantile.plot(kind='bar', ax=ax)\n",
    "title = \"Mean ROI treating insureds in predicted priority order by quantile\"\n",
    "set_common_mpl_styles(ax, grid_axis=\"y\", xlabel=\"Insureds by quantile (best-to-treat first on the left)\", title=title, ylabel=\"Mean return $ per quantile (bigger is better)\")\n",
    "ax.yaxis.set_major_formatter(StrMethodFormatter('${x:,}'))"
   ]
  },
  {
   "cell_type": "code",
   "execution_count": 17,
   "id": "e45fa89c",
   "metadata": {},
   "outputs": [
    {
     "data": {
      "text/plain": [
       "<AxesSubplot:>"
      ]
     },
     "execution_count": 17,
     "metadata": {},
     "output_type": "execute_result"
    },
    {
     "data": {
      "image/png": "[encoded data removed]",
      "text/plain": [
       "<Figure size 432x288 with 1 Axes>"
      ]
     },
     "metadata": {
      "needs_background": "light"
     },
     "output_type": "display_data"
    }
   ],
   "source": [
    "churn_from_dummy = mean_result_by_quantile['churn_value'] - mean_result_by_quantile['dummy_value']\n",
    "uplift_from_dummy = mean_result_by_quantile['uplift_value'] - mean_result_by_quantile['dummy_value']\n",
    "lift_from_dummy = pd.concat((churn_from_dummy, uplift_from_dummy), axis=1)\n",
    "lift_from_dummy.columns = ['churn_lift', 'uplift_lift']\n",
    "lift_from_dummy.plot(kind='bar')"
   ]
  },
  {
   "cell_type": "code",
   "execution_count": 18,
   "id": "89294946",
   "metadata": {},
   "outputs": [
    {
     "data": {
      "text/html": [
       "<div>\n",
       "<style scoped>\n",
       "    .dataframe tbody tr th:only-of-type {\n",
       "        vertical-align: middle;\n",
       "    }\n",
       "\n",
       "    .dataframe tbody tr th {\n",
       "        vertical-align: top;\n",
       "    }\n",
       "\n",
       "    .dataframe thead th {\n",
       "        text-align: right;\n",
       "    }\n",
       "</style>\n",
       "<table border=\"1\" class=\"dataframe\">\n",
       "  <thead>\n",
       "    <tr style=\"text-align: right;\">\n",
       "      <th></th>\n",
       "      <th>uplift_value</th>\n",
       "      <th>dummy_value</th>\n",
       "      <th>churn_value</th>\n",
       "    </tr>\n",
       "  </thead>\n",
       "  <tbody>\n",
       "    <tr>\n",
       "      <th>[0.00 - 10.00k)</th>\n",
       "      <td>8752000</td>\n",
       "      <td>8272000</td>\n",
       "      <td>7898000</td>\n",
       "    </tr>\n",
       "    <tr>\n",
       "      <th>[10.00k - 20.00k)</th>\n",
       "      <td>8304000</td>\n",
       "      <td>8240000</td>\n",
       "      <td>8334000</td>\n",
       "    </tr>\n",
       "    <tr>\n",
       "      <th>[20.00k - 30.00k)</th>\n",
       "      <td>8374000</td>\n",
       "      <td>8183000</td>\n",
       "      <td>8317000</td>\n",
       "    </tr>\n",
       "    <tr>\n",
       "      <th>[30.00k - 40.00k)</th>\n",
       "      <td>8279000</td>\n",
       "      <td>8202000</td>\n",
       "      <td>8592000</td>\n",
       "    </tr>\n",
       "    <tr>\n",
       "      <th>[40.00k - 50.05k)</th>\n",
       "      <td>7485000</td>\n",
       "      <td>8297000</td>\n",
       "      <td>8053000</td>\n",
       "    </tr>\n",
       "  </tbody>\n",
       "</table>\n",
       "</div>"
      ],
      "text/plain": [
       "                   uplift_value  dummy_value  churn_value\n",
       "[0.00 - 10.00k)         8752000      8272000      7898000\n",
       "[10.00k - 20.00k)       8304000      8240000      8334000\n",
       "[20.00k - 30.00k)       8374000      8183000      8317000\n",
       "[30.00k - 40.00k)       8279000      8202000      8592000\n",
       "[40.00k - 50.05k)       7485000      8297000      8053000"
      ]
     },
     "execution_count": 18,
     "metadata": {},
     "output_type": "execute_result"
    }
   ],
   "source": [
    "sum_result_by_quantile = df_to_plot.groupby(quantile)[['uplift_value', 'dummy_value', 'churn_value']].sum()\n",
    "sum_result_by_quantile.index = apply_labelling(sum_result_by_quantile.index, format_to_base_10)\n",
    "sum_result_by_quantile"
   ]
  },
  {
   "cell_type": "code",
   "execution_count": 19,
   "id": "bf30dab7",
   "metadata": {},
   "outputs": [
    {
     "data": {
      "text/plain": [
       "<AxesSubplot:>"
      ]
     },
     "execution_count": 19,
     "metadata": {},
     "output_type": "execute_result"
    },
    {
     "data": {
      "image/png": "[encoded data removed]",
      "text/plain": [
       "<Figure size 432x288 with 1 Axes>"
      ]
     },
     "metadata": {
      "needs_background": "light"
     },
     "output_type": "display_data"
    }
   ],
   "source": [
    "churn_from_dummy = sum_result_by_quantile['churn_value'] - sum_result_by_quantile['dummy_value']\n",
    "uplift_from_dummy = sum_result_by_quantile['uplift_value'] - sum_result_by_quantile['dummy_value']\n",
    "lift_from_dummy = pd.concat((churn_from_dummy, uplift_from_dummy), axis=1)\n",
    "lift_from_dummy /= ONE_MILLION\n",
    "lift_from_dummy.columns = ['churn_lift', 'uplift_lift']\n",
    "lift_from_dummy.plot(kind='bar')"
   ]
  },
  {
   "cell_type": "code",
   "execution_count": 20,
   "id": "2567baa9",
   "metadata": {},
   "outputs": [
    {
     "data": {
      "text/html": [
       "<div>\n",
       "<style scoped>\n",
       "    .dataframe tbody tr th:only-of-type {\n",
       "        vertical-align: middle;\n",
       "    }\n",
       "\n",
       "    .dataframe tbody tr th {\n",
       "        vertical-align: top;\n",
       "    }\n",
       "\n",
       "    .dataframe thead th {\n",
       "        text-align: right;\n",
       "    }\n",
       "</style>\n",
       "<table border=\"1\" class=\"dataframe\">\n",
       "  <thead>\n",
       "    <tr style=\"text-align: right;\">\n",
       "      <th></th>\n",
       "      <th>churn_lift</th>\n",
       "      <th>uplift_lift</th>\n",
       "    </tr>\n",
       "  </thead>\n",
       "  <tbody>\n",
       "    <tr>\n",
       "      <th>[0.00 - 10.00k)</th>\n",
       "      <td>-0.374</td>\n",
       "      <td>0.480</td>\n",
       "    </tr>\n",
       "    <tr>\n",
       "      <th>[10.00k - 20.00k)</th>\n",
       "      <td>0.094</td>\n",
       "      <td>0.064</td>\n",
       "    </tr>\n",
       "    <tr>\n",
       "      <th>[20.00k - 30.00k)</th>\n",
       "      <td>0.134</td>\n",
       "      <td>0.191</td>\n",
       "    </tr>\n",
       "    <tr>\n",
       "      <th>[30.00k - 40.00k)</th>\n",
       "      <td>0.390</td>\n",
       "      <td>0.077</td>\n",
       "    </tr>\n",
       "    <tr>\n",
       "      <th>[40.00k - 50.05k)</th>\n",
       "      <td>-0.244</td>\n",
       "      <td>-0.812</td>\n",
       "    </tr>\n",
       "  </tbody>\n",
       "</table>\n",
       "</div>"
      ],
      "text/plain": [
       "                   churn_lift  uplift_lift\n",
       "[0.00 - 10.00k)        -0.374        0.480\n",
       "[10.00k - 20.00k)       0.094        0.064\n",
       "[20.00k - 30.00k)       0.134        0.191\n",
       "[30.00k - 40.00k)       0.390        0.077\n",
       "[40.00k - 50.05k)      -0.244       -0.812"
      ]
     },
     "execution_count": 20,
     "metadata": {},
     "output_type": "execute_result"
    }
   ],
   "source": [
    "lift_from_dummy"
   ]
  },
  {
   "cell_type": "code",
   "execution_count": 21,
   "id": "81f274b8",
   "metadata": {},
   "outputs": [
    {
     "data": {
      "image/png": "[encoded data removed]",
      "text/plain": [
       "<Figure size 576x576 with 2 Axes>"
      ]
     },
     "metadata": {
      "needs_background": "light"
     },
     "output_type": "display_data"
    }
   ],
   "source": [
    "fig, axs = plt.subplot_mosaic([['Uplift', 'Churn']], sharex=True, sharey=True, figsize=(8, 8), constrained_layout=True)\n",
    "lift_from_dummy['uplift_lift'].plot(kind='bar', ax=axs['Uplift'])\n",
    "lift_from_dummy['churn_lift'].plot(kind='bar', ax=axs['Churn'], color='g')\n",
    "title = f'Uplift model\\n(Cease marketing effort by {int(row_with_minimum_uplift_effect/1000)}k)'\n",
    "set_common_mpl_styles(ax=axs['Uplift'], ylabel='Total lift vs random order (bigger is better)', \n",
    "                      title=title, xlabel='Ranked population in 10k percentiles')\n",
    "set_common_mpl_styles(ax=axs['Churn'], title='Churn model')\n",
    "title = f\"Lift per quintile vs random ordering where \\${VALUE_PER_RETAINED_CONTRACT:0.0f} is earned per retained contract,\\neach marketing action costs ${MARKETING_COST_PER_INSURED:0.0f} and 84% retention is normal\"\n",
    "fig.suptitle(title);\n",
    "axs['Uplift'].get_legend().remove()\n",
    "axs['Churn'].get_legend().remove()\n",
    "axs['Uplift'].yaxis.set_major_formatter(StrMethodFormatter('${x:2.1f}M'))"
   ]
  },
  {
   "cell_type": "code",
   "execution_count": null,
   "id": "7bbdb5e0",
   "metadata": {},
   "outputs": [],
   "source": []
  }
 ],
 "metadata": {
  "kernelspec": {
   "display_name": "Python 3 (ipykernel)",
   "language": "python",
   "name": "python3"
  },
  "language_info": {
   "codemirror_mode": {
    "name": "ipython",
    "version": 3
   },
   "file_extension": ".py",
   "mimetype": "text/x-python",
   "name": "python",
   "nbconvert_exporter": "python",
   "pygments_lexer": "ipython3",
   "version": "3.10.2"
  }
 },
 "nbformat": 4,
 "nbformat_minor": 5
}
